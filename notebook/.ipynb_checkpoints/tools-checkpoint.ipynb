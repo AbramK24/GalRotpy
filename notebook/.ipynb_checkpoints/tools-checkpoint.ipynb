{
 "cells": [
  {
   "cell_type": "code",
   "execution_count": 1,
   "metadata": {},
   "outputs": [
    {
     "name": "stdout",
     "output_type": "stream",
     "text": [
      "galpyWarning: libgalpy C extension module not loaded, because of error 'dlopen(/Library/Python/3.7/site-packages/libgalpy.cpython-37m-darwin.so, 6): Library not loaded: @rpath/libgsl.25.dylib\n",
      "  Referenced from: /Library/Python/3.7/site-packages/libgalpy.cpython-37m-darwin.so\n",
      "  Reason: image not found' \n"
     ]
    }
   ],
   "source": [
    "from matplotlib.widgets import Slider, Button, RadioButtons, CheckButtons, TextBox # Matplotlib widgets\n",
    "import matplotlib.pylab as plt # Plotting interface\n",
    "import numpy as np\n",
    "from galpy.potential import MiyamotoNagaiPotential, NFWPotential, RazorThinExponentialDiskPotential, BurkertPotential # GALPY potentials\n",
    "from galpy.potential import calcRotcurve # composed rotation curve calculation for plotting\n",
    "from astropy import units # Physical/real units data managing\n",
    "from astropy import table as Table # For fast and easy reading / writing with tables using numpy library\n",
    "import emcee\n",
    "import corner\n",
    "import time\n",
    "import pandas as pd\n",
    "import multiprocessing as mp\n",
    "from scipy.optimize import fsolve\n",
    "\n",
    "\n",
    "import ipywidgets as widgets\n"
   ]
  },
  {
   "cell_type": "code",
   "execution_count": 10,
   "metadata": {},
   "outputs": [],
   "source": [
    "#input_params=Table.Table.read('../input_params.txt', format='ascii.tab') # Initial parameters\n",
    "#input_params"
   ]
  },
  {
   "cell_type": "code",
   "execution_count": 9,
   "metadata": {},
   "outputs": [
    {
     "data": {
      "text/html": [
       "<i>Table length=6</i>\n",
       "<table id=\"table4982549192\" class=\"table-striped table-bordered table-condensed\">\n",
       "<thead><tr><th>component</th><th>mass</th><th>threshold_mass</th><th>a (kpc)</th><th>threshold_a</th><th>b (kpc)</th><th>threshold_b</th></tr></thead>\n",
       "<thead><tr><th>str12</th><th>float64</th><th>float64</th><th>float64</th><th>int64</th><th>float64</th><th>int64</th></tr></thead>\n",
       "<tr><td>BULGE</td><td>110000000.0</td><td>1.0</td><td>0.0</td><td>20</td><td>0.495</td><td>70</td></tr>\n",
       "<tr><td>THIN DISK</td><td>3900000000.0</td><td>1.0</td><td>5.3</td><td>90</td><td>0.25</td><td>1</td></tr>\n",
       "<tr><td>THICK DISK</td><td>39000000000.0</td><td>0.5</td><td>2.6</td><td>20</td><td>0.8</td><td>1</td></tr>\n",
       "<tr><td>EXP DISK</td><td>500.0</td><td>0.5</td><td>5.3</td><td>90</td><td>0.0</td><td>0</td></tr>\n",
       "<tr><td>DARK HALO</td><td>140000000000.0</td><td>1.0</td><td>13.0</td><td>90</td><td>0.0</td><td>0</td></tr>\n",
       "<tr><td>BURKERT HALO</td><td>8000000.0</td><td>1.0</td><td>20.0</td><td>90</td><td>0.0</td><td>0</td></tr>\n",
       "</table>"
      ],
      "text/plain": [
       "<Table length=6>\n",
       " component        mass      threshold_mass ... threshold_a b (kpc) threshold_b\n",
       "   str12        float64        float64     ...    int64    float64    int64   \n",
       "------------ -------------- -------------- ... ----------- ------- -----------\n",
       "       BULGE    110000000.0            1.0 ...          20   0.495          70\n",
       "   THIN DISK   3900000000.0            1.0 ...          90    0.25           1\n",
       "  THICK DISK  39000000000.0            0.5 ...          20     0.8           1\n",
       "    EXP DISK          500.0            0.5 ...          90     0.0           0\n",
       "   DARK HALO 140000000000.0            1.0 ...          90     0.0           0\n",
       "BURKERT HALO      8000000.0            1.0 ...          90     0.0           0"
      ]
     },
     "execution_count": 9,
     "metadata": {},
     "output_type": "execute_result"
    }
   ],
   "source": [
    "data_rows = [('BULGE', 110000000.0, 1.0, 0.0, 20, 0.495, 70),\n",
    "             ('THIN DISK', 3900000000.0, 1.0, 5.3, 90, 0.25, 1),\n",
    "             ('THICK DISK', 39000000000.0, 0.5, 2.6, 20, 0.8, 1),\n",
    "             ('EXP DISK', 500.0, 0.5, 5.3, 90, 0.0, 0),\n",
    "             ('DARK HALO', 140000000000.0, 1.0, 13.0, 90, 0.0, 0),\n",
    "             ('BURKERT HALO', 8000000.0, 1.0, 20.0, 90, 0.0, 0)]\n",
    "input_params = Table.Table(rows=data_rows, names=('component', 'mass', 'threshold_mass', 'a (kpc)', 'threshold_a', 'b (kpc)', 'threshold_b'))\n",
    "input_params\n"
   ]
  },
  {
   "cell_type": "code",
   "execution_count": 71,
   "metadata": {},
   "outputs": [],
   "source": [
    "c, mass, delta_mass, radial, delta_radial, vertical, delta_vertical = input_params[0]"
   ]
  },
  {
   "cell_type": "code",
   "execution_count": 70,
   "metadata": {},
   "outputs": [
    {
     "data": {
      "text/plain": [
       "('BULGE', 110000000.0, 1.0, 0.0, 20, 0.495, 70)"
      ]
     },
     "execution_count": 70,
     "metadata": {},
     "output_type": "execute_result"
    }
   ],
   "source": [
    "a, b, c, d, e, f, g"
   ]
  },
  {
   "cell_type": "code",
   "execution_count": 41,
   "metadata": {},
   "outputs": [],
   "source": [
    "import enum"
   ]
  },
  {
   "cell_type": "code",
   "execution_count": 74,
   "metadata": {},
   "outputs": [],
   "source": [
    "\"\"\"class Components_names(enum.Enum):\n",
    "    Bulge = 'Bulge'\n",
    "    Thin_disk = 'Thin disk'\n",
    "    Thick_disk = 'Thick disk'\n",
    "    Exponential_disk = 'Exponential disk'\n",
    "    Dark_halo = 'Dark halo'\n",
    "    Burkert_halo = 'Burkert halo'\"\"\"\n",
    "    \n",
    "\n",
    "def input_component(component, guess_mass, guess_a, guess_b):\n",
    "    \n",
    "    component_mass, component_scale_a, component_scale_b = guess_mass, guess_a, guess_b\n",
    "    \n",
    "    print('Set the guess parameters for', component)\n",
    "    try:\n",
    "        component_mass = float(input('Mass (in M_sun):'))\n",
    "    except:\n",
    "        print('No valid Mass for', component, '. It will be taken the default mass:', component_mass, 'M_sun')\n",
    "    \n",
    "    \n",
    "    try:\n",
    "        component_scale_a = float(input('Radial Scale Length (in kpc):'))\n",
    "    except:\n",
    "        print('No valid Radial Scale Length for', component, '. It will be taken the default Radial Scale Lenght:', component_scale_a, 'kpc')\n",
    "\n",
    "    if component not in [Components_names.Exponential_disk, Components_names.Dark_halo, Components_names.Burkert_halo]:\n",
    "        try:\n",
    "            component_scale_b = float(input('Vertical Scale Length (in kpc):'))\n",
    "        except:\n",
    "            print('No valid Vertical Scale Length for', component, '. It will be taken the default Vertical Scale Lenght:', component_scale_b, 'kpc')\n",
    "    \n",
    "    return component_mass, component_scale_a, component_scale_b\n",
    "    \n",
    "    "
   ]
  },
  {
   "cell_type": "code",
   "execution_count": 75,
   "metadata": {},
   "outputs": [
    {
     "name": "stdout",
     "output_type": "stream",
     "text": [
      "Set the guess parameters for BULGE\n",
      "Mass (in M_sun):\n",
      "No valid Mass for BULGE . It will be taken the default mass: 110000000.0 M_sun\n",
      "Radial Scale Length (in kpc):\n",
      "No valid Radial Scale Length for BULGE . It will be taken the default Radial Scale Lenght: 0.0 kpc\n",
      "Vertical Scale Length (in kpc):\n",
      "No valid Vertical Scale Length for BULGE . It will be taken the default Vertical Scale Lenght: 0.495 kpc\n",
      "110000000.0 0.0 0.495\n",
      "Set the guess parameters for DARK HALO\n",
      "Mass (in M_sun):\n",
      "No valid Mass for DARK HALO . It will be taken the default mass: 140000000000.0 M_sun\n",
      "Radial Scale Length (in kpc):\n",
      "No valid Radial Scale Length for DARK HALO . It will be taken the default Radial Scale Lenght: 13.0 kpc\n",
      "Vertical Scale Length (in kpc):\n",
      "No valid Vertical Scale Length for DARK HALO . It will be taken the default Vertical Scale Lenght: 0.0 kpc\n",
      "140000000000.0 13.0 0.0\n"
     ]
    }
   ],
   "source": [
    "c, mass, delta_mass, radial, delta_radial, vertical, delta_vertical = input_params[0]\n",
    "mass, radial, vertical = input_component(c, mass, radial, vertical)\n",
    "print(mass, radial, vertical)\n",
    "\n",
    "c, mass, delta_mass, radial, delta_radial, vertical, delta_vertical = input_params[4]\n",
    "mass, radial, vertical = input_component(c, mass, radial, vertical)\n",
    "print(mass, radial, vertical)\n"
   ]
  },
  {
   "cell_type": "code",
   "execution_count": null,
   "metadata": {},
   "outputs": [],
   "source": []
  },
  {
   "cell_type": "code",
   "execution_count": null,
   "metadata": {},
   "outputs": [],
   "source": []
  },
  {
   "cell_type": "code",
   "execution_count": null,
   "metadata": {},
   "outputs": [],
   "source": []
  },
  {
   "cell_type": "code",
   "execution_count": null,
   "metadata": {},
   "outputs": [],
   "source": []
  },
  {
   "cell_type": "code",
   "execution_count": null,
   "metadata": {},
   "outputs": [],
   "source": []
  },
  {
   "cell_type": "code",
   "execution_count": null,
   "metadata": {},
   "outputs": [],
   "source": []
  },
  {
   "cell_type": "code",
   "execution_count": null,
   "metadata": {},
   "outputs": [],
   "source": []
  },
  {
   "cell_type": "code",
   "execution_count": null,
   "metadata": {},
   "outputs": [],
   "source": []
  }
 ],
 "metadata": {
  "kernelspec": {
   "display_name": "Python 3",
   "language": "python",
   "name": "python3"
  },
  "language_info": {
   "codemirror_mode": {
    "name": "ipython",
    "version": 3
   },
   "file_extension": ".py",
   "mimetype": "text/x-python",
   "name": "python",
   "nbconvert_exporter": "python",
   "pygments_lexer": "ipython3",
   "version": "3.7.3"
  }
 },
 "nbformat": 4,
 "nbformat_minor": 4
}
