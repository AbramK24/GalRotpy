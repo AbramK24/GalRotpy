{
 "cells": [
  {
   "cell_type": "code",
   "execution_count": null,
   "metadata": {},
   "outputs": [],
   "source": [
    "from matplotlib.widgets import Slider, Button, RadioButtons, CheckButtons, TextBox # Matplotlib widgets\n",
    "import matplotlib.pylab as plt # Plotting interface\n",
    "import numpy as np\n",
    "from galpy.potential import MiyamotoNagaiPotential, NFWPotential, RazorThinExponentialDiskPotential, BurkertPotential # GALPY potentials\n",
    "from galpy.potential import calcRotcurve # composed rotation curve calculation for plotting\n",
    "from astropy import units # Physical/real units data managing\n",
    "from astropy import table as Table # For fast and easy reading / writing with tables using numpy library\n",
    "import emcee\n",
    "import corner\n",
    "import time\n",
    "import pandas as pd\n",
    "import multiprocessing as mp\n",
    "from scipy.optimize import fsolve\n",
    "\n",
    "\n",
    "import ipywidgets as widgets\n"
   ]
  },
  {
   "cell_type": "code",
   "execution_count": 2,
   "metadata": {},
   "outputs": [],
   "source": [
    "#input_params=Table.Table.read('../input_params.txt', format='ascii.tab') # Initial parameters\n",
    "#input_params"
   ]
  },
  {
   "cell_type": "code",
   "execution_count": 2,
   "metadata": {},
   "outputs": [
    {
     "data": {
      "text/html": [
       "<i>Table length=6</i>\n",
       "<table id=\"table4909156224\" class=\"table-striped table-bordered table-condensed\">\n",
       "<thead><tr><th>component</th><th>mass</th><th>threshold_mass</th><th>a (kpc)</th><th>threshold_a</th><th>b (kpc)</th><th>threshold_b</th></tr></thead>\n",
       "<thead><tr><th>str12</th><th>float64</th><th>float64</th><th>float64</th><th>int64</th><th>float64</th><th>int64</th></tr></thead>\n",
       "<tr><td>BULGE</td><td>110000000.0</td><td>1.0</td><td>0.0</td><td>20</td><td>0.495</td><td>70</td></tr>\n",
       "<tr><td>THIN DISK</td><td>3900000000.0</td><td>1.0</td><td>5.3</td><td>90</td><td>0.25</td><td>1</td></tr>\n",
       "<tr><td>THICK DISK</td><td>39000000000.0</td><td>0.5</td><td>2.6</td><td>20</td><td>0.8</td><td>1</td></tr>\n",
       "<tr><td>EXP DISK</td><td>500.0</td><td>0.5</td><td>5.3</td><td>90</td><td>0.0</td><td>0</td></tr>\n",
       "<tr><td>DARK HALO</td><td>140000000000.0</td><td>1.0</td><td>13.0</td><td>90</td><td>0.0</td><td>0</td></tr>\n",
       "<tr><td>BURKERT HALO</td><td>8000000.0</td><td>1.0</td><td>20.0</td><td>90</td><td>0.0</td><td>0</td></tr>\n",
       "</table>"
      ],
      "text/plain": [
       "<Table length=6>\n",
       " component        mass      threshold_mass ... threshold_a b (kpc) threshold_b\n",
       "   str12        float64        float64     ...    int64    float64    int64   \n",
       "------------ -------------- -------------- ... ----------- ------- -----------\n",
       "       BULGE    110000000.0            1.0 ...          20   0.495          70\n",
       "   THIN DISK   3900000000.0            1.0 ...          90    0.25           1\n",
       "  THICK DISK  39000000000.0            0.5 ...          20     0.8           1\n",
       "    EXP DISK          500.0            0.5 ...          90     0.0           0\n",
       "   DARK HALO 140000000000.0            1.0 ...          90     0.0           0\n",
       "BURKERT HALO      8000000.0            1.0 ...          90     0.0           0"
      ]
     },
     "execution_count": 2,
     "metadata": {},
     "output_type": "execute_result"
    }
   ],
   "source": [
    "data_rows = [('BULGE', 110000000.0, 1.0, 0.0, 20, 0.495, 70),\n",
    "             ('THIN DISK', 3900000000.0, 1.0, 5.3, 90, 0.25, 1),\n",
    "             ('THICK DISK', 39000000000.0, 0.5, 2.6, 20, 0.8, 1),\n",
    "             ('EXP DISK', 500.0, 0.5, 5.3, 90, 0.0, 0),\n",
    "             ('DARK HALO', 140000000000.0, 1.0, 13.0, 90, 0.0, 0),\n",
    "             ('BURKERT HALO', 8000000.0, 1.0, 20.0, 90, 0.0, 0)]\n",
    "input_params = Table.Table(rows=data_rows, names=('component', 'mass', 'threshold_mass', 'a (kpc)', 'threshold_a', 'b (kpc)', 'threshold_b'))\n",
    "input_params\n"
   ]
  },
  {
   "cell_type": "code",
   "execution_count": 167,
   "metadata": {},
   "outputs": [
    {
     "data": {
      "text/html": [
       "<i>Table length=6</i>\n",
       "<table id=\"table4931843744\" class=\"table-striped table-bordered table-condensed\">\n",
       "<thead><tr><th>component</th><th>mass</th><th>a (kpc)</th><th>b (kpc)</th><th>checked</th></tr></thead>\n",
       "<thead><tr><th>str12</th><th>float64</th><th>float64</th><th>float64</th><th>str5</th></tr></thead>\n",
       "<tr><td>BULGE</td><td>110000000.0</td><td>0.0</td><td>0.495</td><td>False</td></tr>\n",
       "<tr><td>THIN DISC</td><td>7118985055.444256</td><td>2.740511736223358</td><td>0.10709714693766031</td><td>False</td></tr>\n",
       "<tr><td>THICK DISC</td><td>39000000000.0</td><td>2.6</td><td>0.8</td><td>True</td></tr>\n",
       "<tr><td>EXP. DISC</td><td>500.0</td><td>5.3</td><td>0.0</td><td>False</td></tr>\n",
       "<tr><td>DARK HALO</td><td>257638242273.6968</td><td>16.277150721161576</td><td>0.0</td><td>True</td></tr>\n",
       "<tr><td>BURKERT HALO</td><td>8000000.0</td><td>20.0</td><td>0.0</td><td>False</td></tr>\n",
       "</table>"
      ],
      "text/plain": [
       "<Table length=6>\n",
       " component          mass            a (kpc)             b (kpc)       checked\n",
       "   str12          float64           float64             float64         str5 \n",
       "------------ ----------------- ------------------ ------------------- -------\n",
       "       BULGE       110000000.0                0.0               0.495   False\n",
       "   THIN DISC 7118985055.444256  2.740511736223358 0.10709714693766031   False\n",
       "  THICK DISC     39000000000.0                2.6                 0.8    True\n",
       "   EXP. DISC             500.0                5.3                 0.0   False\n",
       "   DARK HALO 257638242273.6968 16.277150721161576                 0.0    True\n",
       "BURKERT HALO         8000000.0               20.0                 0.0   False"
      ]
     },
     "execution_count": 167,
     "metadata": {},
     "output_type": "execute_result"
    }
   ],
   "source": [
    "init_guess_params = Table.Table.read('../init_guess_params.txt', format='ascii.tab') # Initial parameters\n",
    "init_guess_params"
   ]
  },
  {
   "cell_type": "code",
   "execution_count": 176,
   "metadata": {},
   "outputs": [],
   "source": [
    "def boolString_to_bool(boolString):\n",
    "    if boolString == 'True':\n",
    "        return True\n",
    "    elif boolString == 'False':\n",
    "        return False\n",
    "    else:\n",
    "        return None"
   ]
  },
  {
   "cell_type": "code",
   "execution_count": 178,
   "metadata": {},
   "outputs": [],
   "source": [
    "boolString_to_bool('Falase')"
   ]
  },
  {
   "cell_type": "code",
   "execution_count": 162,
   "metadata": {},
   "outputs": [],
   "source": [
    "init_guess_params.fill_value = 0"
   ]
  },
  {
   "cell_type": "code",
   "execution_count": 164,
   "metadata": {},
   "outputs": [
    {
     "data": {
      "text/html": [
       "<i>Table length=6</i>\n",
       "<table id=\"table4923784888\" class=\"table-striped table-bordered table-condensed\">\n",
       "<thead><tr><th>component</th><th>mass</th><th>a (kpc)</th><th>b (kpc)</th><th>checked</th></tr></thead>\n",
       "<thead><tr><th>str12</th><th>float64</th><th>float64</th><th>str19</th><th>str5</th></tr></thead>\n",
       "<tr><td>BULGE</td><td>110000000.0</td><td>0.0</td><td>0.495</td><td>False</td></tr>\n",
       "<tr><td>THIN DISC</td><td>7118985055.444256</td><td>2.740511736223358</td><td>0.10709714693766031</td><td>True</td></tr>\n",
       "<tr><td>THICK DISC</td><td>39000000000.0</td><td>2.6</td><td>0.8</td><td>False</td></tr>\n",
       "<tr><td>EXP. DISC</td><td>500.0</td><td>5.3</td><td>None</td><td>False</td></tr>\n",
       "<tr><td>DARK HALO</td><td>257638242273.6968</td><td>16.277150721161576</td><td>None</td><td>True</td></tr>\n",
       "<tr><td>BURKERT HALO</td><td>8000000.0</td><td>20.0</td><td>None</td><td>False</td></tr>\n",
       "</table>"
      ],
      "text/plain": [
       "<Table length=6>\n",
       " component          mass            a (kpc)             b (kpc)       checked\n",
       "   str12          float64           float64              str19          str5 \n",
       "------------ ----------------- ------------------ ------------------- -------\n",
       "       BULGE       110000000.0                0.0               0.495   False\n",
       "   THIN DISC 7118985055.444256  2.740511736223358 0.10709714693766031    True\n",
       "  THICK DISC     39000000000.0                2.6                 0.8   False\n",
       "   EXP. DISC             500.0                5.3                None   False\n",
       "   DARK HALO 257638242273.6968 16.277150721161576                None    True\n",
       "BURKERT HALO         8000000.0               20.0                None   False"
      ]
     },
     "execution_count": 164,
     "metadata": {},
     "output_type": "execute_result"
    }
   ],
   "source": [
    "init_guess_params.filled()"
   ]
  },
  {
   "cell_type": "markdown",
   "metadata": {},
   "source": [
    "# If no args"
   ]
  },
  {
   "cell_type": "code",
   "execution_count": 10,
   "metadata": {},
   "outputs": [],
   "source": [
    "c_bulge, amp1, delta_mass_bulge, a1, delta_radial_bulge, b1, delta_vertical_bulge, include_bulge = *input_params[0], True\n",
    "c_tn, amp2, delta_mass_tn, a2, delta_radial_tn, b2, delta_vertical_tn, include_tn = *input_params[1], True\n",
    "c_tk, amp3, delta_mass_tk, a3, delta_radial_tk, b3, delta_vertical_tk, include_tk = *input_params[2], True\n",
    "c_ex, amp4, delta_mass_ex, h_r, delta_radial_ex, vertical_ex, delta_vertical_ex, include_ex = *input_params[3], True\n",
    "c_dh, amp5, delta_mass_dh, a5, delta_radial_dh, b5, delta_vertical_dh, include_dh = *input_params[4], True\n",
    "c_bh, amp6, delta_mass_bh, a6, delta_radial_bh, b6, delta_vertical_bh, include_bh = *input_params[5], True\n"
   ]
  },
  {
   "cell_type": "markdown",
   "metadata": {},
   "source": [
    "# With args"
   ]
  },
  {
   "cell_type": "code",
   "execution_count": 150,
   "metadata": {},
   "outputs": [],
   "source": [
    "c_bulge, amp1, a1, b1, include_bulge = init_guess_params[0]\n",
    "c_tn, amp2, a2, b2, include_tn = init_guess_params[1]\n",
    "c_tk, amp3, a3, b3, include_tk = init_guess_params[2]\n",
    "c_ex, amp4, h_r, vertical_ex, include_ex = init_guess_params[3]\n",
    "c_dh, amp5, a5, b5, include_dh = init_guess_params[4]\n",
    "c_bh, amp6, a6, b6, include_bh = init_guess_params[5]\n"
   ]
  },
  {
   "cell_type": "code",
   "execution_count": 160,
   "metadata": {},
   "outputs": [
    {
     "data": {
      "text/plain": [
       "('BURKERT HALO', 8000000.0, 20.0, 'None', 'False')"
      ]
     },
     "execution_count": 160,
     "metadata": {},
     "output_type": "execute_result"
    }
   ],
   "source": [
    "c_bh, amp6, a6, b6, include_bh"
   ]
  },
  {
   "cell_type": "code",
   "execution_count": 152,
   "metadata": {},
   "outputs": [],
   "source": [
    "include_bulge = bool(include_bulge)"
   ]
  },
  {
   "cell_type": "code",
   "execution_count": 153,
   "metadata": {},
   "outputs": [
    {
     "data": {
      "text/plain": [
       "True"
      ]
     },
     "execution_count": 153,
     "metadata": {},
     "output_type": "execute_result"
    }
   ],
   "source": [
    "include_bulge"
   ]
  },
  {
   "cell_type": "code",
   "execution_count": 133,
   "metadata": {},
   "outputs": [],
   "source": [
    "args1 = 'input.py a_curve.txt --gui bulge disk halo'"
   ]
  },
  {
   "cell_type": "code",
   "execution_count": 156,
   "metadata": {},
   "outputs": [],
   "source": [
    "args2 = 'input.py a_curve.txt --gui --guess=abc.txt'"
   ]
  },
  {
   "cell_type": "code",
   "execution_count": 135,
   "metadata": {},
   "outputs": [],
   "source": [
    "args3 = 'input.py a_curve.txt'"
   ]
  },
  {
   "cell_type": "code",
   "execution_count": 143,
   "metadata": {},
   "outputs": [],
   "source": [
    "args4 = 'input.py'"
   ]
  },
  {
   "cell_type": "code",
   "execution_count": 157,
   "metadata": {},
   "outputs": [
    {
     "name": "stdout",
     "output_type": "stream",
     "text": [
      "input.py\n"
     ]
    }
   ],
   "source": [
    "rot_curve_file = 'rot_curve.txt'\n",
    "has_gui = False\n",
    "has_guess = False\n",
    "guess_table = 'init_guess_params.txt'\n",
    "\n",
    "optional_potentials = set()\n",
    "\n",
    "warnings_args = []\n",
    "\n",
    "complete_args = args4.split()\n",
    "\n",
    "for (i, arg) in enumerate(complete_args):\n",
    "    print(arg)\n",
    "    if i == 1:\n",
    "        rot_curve_file = arg\n",
    "        warnings_args.append(\"Using '\"+arg+\"' as the rotation curve file.\")\n",
    "    if ('--gui' == arg) and (i > 1):\n",
    "        has_gui = has_gui or True\n",
    "    if '--guess' in arg:\n",
    "        guess_arg = arg.split(sep='=')\n",
    "        if len(guess_arg) == 2:\n",
    "            guess_table = guess_arg[-1]\n",
    "            has_guess = has_guess or True\n",
    "        \n",
    "        if has_bulge or has_disk or has_halo :\n",
    "            warnings_args.append(\"You will use '--guess' option but some potentials ('bulge', 'disk' or 'halo') are in your args too. There will be used the guess txt file.\")\n",
    "            \n",
    "    if 'bulge' == arg:\n",
    "        optional_potentials.add('bulge')\n",
    "    if 'disk' == arg:\n",
    "        optional_potentials.add('disk')\n",
    "    if 'halo' == arg:\n",
    "        optional_potentials.add('halo')\n",
    "\n",
    "if len(warnings_args) > 0:\n",
    "    print(\"Warning: \", warnings_args) "
   ]
  },
  {
   "cell_type": "code",
   "execution_count": 158,
   "metadata": {},
   "outputs": [
    {
     "data": {
      "text/plain": [
       "'init_guess_params.txt'"
      ]
     },
     "execution_count": 158,
     "metadata": {},
     "output_type": "execute_result"
    }
   ],
   "source": [
    "guess_table"
   ]
  },
  {
   "cell_type": "code",
   "execution_count": 138,
   "metadata": {},
   "outputs": [],
   "source": [
    "ALLOWED_OPTIONS = [{'bulge', 'halo'}, {'disk', 'halo'}, {'bulge', 'disk', 'halo'}]\n",
    "ALLOWED_POTENTIALS = [\"bulge\", \"disk\", \"thickDisk\", \"expDisk\", \"halo\", \"burkert\"]\n"
   ]
  },
  {
   "cell_type": "code",
   "execution_count": 149,
   "metadata": {},
   "outputs": [
    {
     "data": {
      "text/plain": [
       "{'bulge', 'halo'}"
      ]
     },
     "execution_count": 149,
     "metadata": {},
     "output_type": "execute_result"
    }
   ],
   "source": [
    "ALLOWED_OPTIONS[0]"
   ]
  },
  {
   "cell_type": "code",
   "execution_count": 139,
   "metadata": {},
   "outputs": [],
   "source": [
    "visibility = [True, True, True, True, True, True]\n",
    "for (i, potential) in enumerate(ALLOWED_POTENTIALS):\n",
    "    if potential in optional_potentials:\n",
    "        visibility[i] = True\n",
    "    else:\n",
    "        visibility[i] = False"
   ]
  },
  {
   "cell_type": "code",
   "execution_count": 140,
   "metadata": {},
   "outputs": [
    {
     "name": "stdout",
     "output_type": "stream",
     "text": [
      "Verified optional potentials {'bulge', 'disk', 'halo'}\n"
     ]
    }
   ],
   "source": [
    "\n",
    "\n",
    "if has_guess:\n",
    "    print('Using table', guess_table)\n",
    "elif optional_potentials in ALLOWED_OPTIONS:\n",
    "    print('Using optional potentials', optional_potentials)\n",
    "\n"
   ]
  },
  {
   "cell_type": "code",
   "execution_count": null,
   "metadata": {},
   "outputs": [],
   "source": [
    "valid_argv = True\n",
    "visibility = [True, True, True, True, True, True]\n",
    "if (len(complete_args) > 2):\n",
    "    \"\"\"for (i, potential) in enumerate(ALLOWED_POTENTIALS):\n",
    "        if potential in sys.argv:\n",
    "            visibility[i] = True\n",
    "        else:\n",
    "            visibility[i] = False\"\"\"\n",
    "\n",
    "    \"\"\"for i in sys.argv[2:]:\n",
    "        if i not in ALLOWED_ARGS:\n",
    "            valid_argv = valid_argv and False\"\"\"\n",
    "    if valid_argv:\n",
    "        # Rotation curve fitting\n",
    "        if (\"bulge\" in sys.argv) and (\"halo\" in sys.argv):\n",
    "            print(\"FIT---BULGE + HALO\")\n",
    "        if (\"bulge\" in sys.argv) and (\"disk\" in sys.argv) and (\"halo\" in sys.argv):\n",
    "            print(\"FIT---BULGE + DISK + HALO\")\n",
    "        if (\"disk\" in sys.argv) and (\"halo\" in sys.argv):\n",
    "            print(\"FIT---DISK + HALO\")\n",
    "else:\n",
    "    amp1, a1, b1 = input_component(c_bulge, amp1, a1, b1)\n",
    "    amp2, a2, b2 = input_component(c_tn, amp2, a2, b2)\n",
    "    amp3, a3, b3 = input_component(c_tk, amp3, a3, b3)\n",
    "    amp4, h_r, vertical_ex = input_component(c_ex, amp4, h_r, vertical_ex)\n",
    "    amp5, a5, b5 = input_component(c_dh, amp5, a5, b5)\n",
    "    amp6, a6, b6 = input_component(c_bh, amp6, a6, b6)"
   ]
  },
  {
   "cell_type": "code",
   "execution_count": null,
   "metadata": {},
   "outputs": [],
   "source": []
  },
  {
   "cell_type": "code",
   "execution_count": null,
   "metadata": {},
   "outputs": [],
   "source": []
  },
  {
   "cell_type": "code",
   "execution_count": null,
   "metadata": {},
   "outputs": [],
   "source": []
  },
  {
   "cell_type": "code",
   "execution_count": null,
   "metadata": {},
   "outputs": [],
   "source": []
  },
  {
   "cell_type": "code",
   "execution_count": 6,
   "metadata": {},
   "outputs": [],
   "source": [
    "import enum"
   ]
  },
  {
   "cell_type": "code",
   "execution_count": 7,
   "metadata": {},
   "outputs": [],
   "source": [
    "\"\"\"class Components_names(enum.Enum):\n",
    "    Bulge = 'Bulge'\n",
    "    Thin_disk = 'Thin disk'\n",
    "    Thick_disk = 'Thick disk'\n",
    "    Exponential_disk = 'Exponential disk'\n",
    "    Dark_halo = 'Dark halo'\n",
    "    Burkert_halo = 'Burkert halo'\"\"\"\n",
    "    \n",
    "\n",
    "def input_component(component, guess_mass, guess_a, guess_b):\n",
    "    \n",
    "    component_mass, component_scale_a, component_scale_b = guess_mass, guess_a, guess_b\n",
    "    \n",
    "    print('Set the guess parameters for', component)\n",
    "    try:\n",
    "        component_mass = float(input('Mass (in M_sun):'))\n",
    "    except:\n",
    "        print('No valid Mass for', component, '. It will be taken the default mass:', component_mass, 'M_sun')\n",
    "    \n",
    "    \n",
    "    try:\n",
    "        component_scale_a = float(input('Radial Scale Length (in kpc):'))\n",
    "    except:\n",
    "        print('No valid Radial Scale Length for', component, '. It will be taken the default Radial Scale Lenght:', component_scale_a, 'kpc')\n",
    "\n",
    "    if component not in [Components_names.Exponential_disk, Components_names.Dark_halo, Components_names.Burkert_halo]:\n",
    "        try:\n",
    "            component_scale_b = float(input('Vertical Scale Length (in kpc):'))\n",
    "        except:\n",
    "            print('No valid Vertical Scale Length for', component, '. It will be taken the default Vertical Scale Lenght:', component_scale_b, 'kpc')\n",
    "    \n",
    "    return component_mass, component_scale_a, component_scale_b\n",
    "    \n",
    "    "
   ]
  },
  {
   "cell_type": "code",
   "execution_count": 8,
   "metadata": {},
   "outputs": [
    {
     "name": "stdout",
     "output_type": "stream",
     "text": [
      "Set the guess parameters for BULGE\n",
      "No valid Mass for BULGE . It will be taken the default mass: 110000000.0 M_sun\n",
      "No valid Radial Scale Length for BULGE . It will be taken the default Radial Scale Lenght: 0.0 kpc\n"
     ]
    },
    {
     "ename": "NameError",
     "evalue": "name 'Components_names' is not defined",
     "output_type": "error",
     "traceback": [
      "\u001b[0;31m---------------------------------------------------------------------------\u001b[0m",
      "\u001b[0;31mNameError\u001b[0m                                 Traceback (most recent call last)",
      "\u001b[0;32m<ipython-input-8-850dae26f68b>\u001b[0m in \u001b[0;36m<module>\u001b[0;34m\u001b[0m\n\u001b[1;32m      1\u001b[0m \u001b[0mc\u001b[0m\u001b[0;34m,\u001b[0m \u001b[0mmass\u001b[0m\u001b[0;34m,\u001b[0m \u001b[0mdelta_mass\u001b[0m\u001b[0;34m,\u001b[0m \u001b[0mradial\u001b[0m\u001b[0;34m,\u001b[0m \u001b[0mdelta_radial\u001b[0m\u001b[0;34m,\u001b[0m \u001b[0mvertical\u001b[0m\u001b[0;34m,\u001b[0m \u001b[0mdelta_vertical\u001b[0m \u001b[0;34m=\u001b[0m \u001b[0minput_params\u001b[0m\u001b[0;34m[\u001b[0m\u001b[0;36m0\u001b[0m\u001b[0;34m]\u001b[0m\u001b[0;34m\u001b[0m\u001b[0;34m\u001b[0m\u001b[0m\n\u001b[0;32m----> 2\u001b[0;31m \u001b[0mmass\u001b[0m\u001b[0;34m,\u001b[0m \u001b[0mradial\u001b[0m\u001b[0;34m,\u001b[0m \u001b[0mvertical\u001b[0m \u001b[0;34m=\u001b[0m \u001b[0minput_component\u001b[0m\u001b[0;34m(\u001b[0m\u001b[0mc\u001b[0m\u001b[0;34m,\u001b[0m \u001b[0mmass\u001b[0m\u001b[0;34m,\u001b[0m \u001b[0mradial\u001b[0m\u001b[0;34m,\u001b[0m \u001b[0mvertical\u001b[0m\u001b[0;34m)\u001b[0m\u001b[0;34m\u001b[0m\u001b[0;34m\u001b[0m\u001b[0m\n\u001b[0m\u001b[1;32m      3\u001b[0m \u001b[0mprint\u001b[0m\u001b[0;34m(\u001b[0m\u001b[0mmass\u001b[0m\u001b[0;34m,\u001b[0m \u001b[0mradial\u001b[0m\u001b[0;34m,\u001b[0m \u001b[0mvertical\u001b[0m\u001b[0;34m)\u001b[0m\u001b[0;34m\u001b[0m\u001b[0;34m\u001b[0m\u001b[0m\n\u001b[1;32m      4\u001b[0m \u001b[0;34m\u001b[0m\u001b[0m\n\u001b[1;32m      5\u001b[0m \u001b[0mc\u001b[0m\u001b[0;34m,\u001b[0m \u001b[0mmass\u001b[0m\u001b[0;34m,\u001b[0m \u001b[0mdelta_mass\u001b[0m\u001b[0;34m,\u001b[0m \u001b[0mradial\u001b[0m\u001b[0;34m,\u001b[0m \u001b[0mdelta_radial\u001b[0m\u001b[0;34m,\u001b[0m \u001b[0mvertical\u001b[0m\u001b[0;34m,\u001b[0m \u001b[0mdelta_vertical\u001b[0m \u001b[0;34m=\u001b[0m \u001b[0minput_params\u001b[0m\u001b[0;34m[\u001b[0m\u001b[0;36m4\u001b[0m\u001b[0;34m]\u001b[0m\u001b[0;34m\u001b[0m\u001b[0;34m\u001b[0m\u001b[0m\n",
      "\u001b[0;32m<ipython-input-7-8d7181c74884>\u001b[0m in \u001b[0;36minput_component\u001b[0;34m(component, guess_mass, guess_a, guess_b)\u001b[0m\n\u001b[1;32m     24\u001b[0m         \u001b[0mprint\u001b[0m\u001b[0;34m(\u001b[0m\u001b[0;34m'No valid Radial Scale Length for'\u001b[0m\u001b[0;34m,\u001b[0m \u001b[0mcomponent\u001b[0m\u001b[0;34m,\u001b[0m \u001b[0;34m'. It will be taken the default Radial Scale Lenght:'\u001b[0m\u001b[0;34m,\u001b[0m \u001b[0mcomponent_scale_a\u001b[0m\u001b[0;34m,\u001b[0m \u001b[0;34m'kpc'\u001b[0m\u001b[0;34m)\u001b[0m\u001b[0;34m\u001b[0m\u001b[0;34m\u001b[0m\u001b[0m\n\u001b[1;32m     25\u001b[0m \u001b[0;34m\u001b[0m\u001b[0m\n\u001b[0;32m---> 26\u001b[0;31m     \u001b[0;32mif\u001b[0m \u001b[0mcomponent\u001b[0m \u001b[0;32mnot\u001b[0m \u001b[0;32min\u001b[0m \u001b[0;34m[\u001b[0m\u001b[0mComponents_names\u001b[0m\u001b[0;34m.\u001b[0m\u001b[0mExponential_disk\u001b[0m\u001b[0;34m,\u001b[0m \u001b[0mComponents_names\u001b[0m\u001b[0;34m.\u001b[0m\u001b[0mDark_halo\u001b[0m\u001b[0;34m,\u001b[0m \u001b[0mComponents_names\u001b[0m\u001b[0;34m.\u001b[0m\u001b[0mBurkert_halo\u001b[0m\u001b[0;34m]\u001b[0m\u001b[0;34m:\u001b[0m\u001b[0;34m\u001b[0m\u001b[0;34m\u001b[0m\u001b[0m\n\u001b[0m\u001b[1;32m     27\u001b[0m         \u001b[0;32mtry\u001b[0m\u001b[0;34m:\u001b[0m\u001b[0;34m\u001b[0m\u001b[0;34m\u001b[0m\u001b[0m\n\u001b[1;32m     28\u001b[0m             \u001b[0mcomponent_scale_b\u001b[0m \u001b[0;34m=\u001b[0m \u001b[0mfloat\u001b[0m\u001b[0;34m(\u001b[0m\u001b[0minput\u001b[0m\u001b[0;34m(\u001b[0m\u001b[0;34m'Vertical Scale Length (in kpc):'\u001b[0m\u001b[0;34m)\u001b[0m\u001b[0;34m)\u001b[0m\u001b[0;34m\u001b[0m\u001b[0;34m\u001b[0m\u001b[0m\n",
      "\u001b[0;31mNameError\u001b[0m: name 'Components_names' is not defined"
     ]
    }
   ],
   "source": [
    "c, mass, delta_mass, radial, delta_radial, vertical, delta_vertical = input_params[0]\n",
    "mass, radial, vertical = input_component(c, mass, radial, vertical)\n",
    "print(mass, radial, vertical)\n",
    "\n",
    "c, mass, delta_mass, radial, delta_radial, vertical, delta_vertical = input_params[4]\n",
    "mass, radial, vertical = input_component(c, mass, radial, vertical)\n",
    "print(mass, radial, vertical)\n"
   ]
  },
  {
   "cell_type": "code",
   "execution_count": null,
   "metadata": {},
   "outputs": [],
   "source": []
  },
  {
   "cell_type": "code",
   "execution_count": null,
   "metadata": {},
   "outputs": [],
   "source": []
  },
  {
   "cell_type": "code",
   "execution_count": null,
   "metadata": {},
   "outputs": [],
   "source": []
  },
  {
   "cell_type": "code",
   "execution_count": null,
   "metadata": {},
   "outputs": [],
   "source": []
  },
  {
   "cell_type": "code",
   "execution_count": null,
   "metadata": {},
   "outputs": [],
   "source": []
  },
  {
   "cell_type": "code",
   "execution_count": null,
   "metadata": {},
   "outputs": [],
   "source": []
  },
  {
   "cell_type": "code",
   "execution_count": null,
   "metadata": {},
   "outputs": [],
   "source": []
  },
  {
   "cell_type": "code",
   "execution_count": null,
   "metadata": {},
   "outputs": [],
   "source": []
  }
 ],
 "metadata": {
  "kernelspec": {
   "display_name": "Python 3",
   "language": "python",
   "name": "python3"
  },
  "language_info": {
   "codemirror_mode": {
    "name": "ipython",
    "version": 3
   },
   "file_extension": ".py",
   "mimetype": "text/x-python",
   "name": "python",
   "nbconvert_exporter": "python",
   "pygments_lexer": "ipython3",
   "version": "3.7.3"
  }
 },
 "nbformat": 4,
 "nbformat_minor": 4
}
