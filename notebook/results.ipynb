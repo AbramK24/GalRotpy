{
 "cells": [
  {
   "cell_type": "code",
   "execution_count": 1,
   "metadata": {},
   "outputs": [],
   "source": [
    "from astropy import table as Table"
   ]
  },
  {
   "cell_type": "code",
   "execution_count": 2,
   "metadata": {},
   "outputs": [
    {
     "data": {
      "text/html": [
       "<div><i>Table length=10</i>\n",
       "<table id=\"table2176274297664\" class=\"table-striped table-bordered table-condensed\">\n",
       "<thead><tr><th>col0</th><th>PARAMETER</th><th>UNITS</th><th>95%(-)</th><th>68%(-)</th><th>FIT</th><th>68%(+)</th><th>95%(+)</th></tr></thead>\n",
       "<thead><tr><th>str20</th><th>str18</th><th>str11</th><th>str21</th><th>str21</th><th>str21</th><th>str22</th><th>str22</th></tr></thead>\n",
       "<tr><td>THICK DISK</td><td>a</td><td>kpc</td><td>0.01344326133528706</td><td>0.002919473830886199</td><td>1.5018760503566466</td><td>0.003761376743262934</td><td>0.01160216205537501</td></tr>\n",
       "<tr><td>---</td><td>b</td><td>kpc</td><td>0.0007984418517227905</td><td>0.0005873148649985859</td><td>0.0008250231786781895</td><td>0.00020106362351638807</td><td>0.00022449851610475968</td></tr>\n",
       "<tr><td>---</td><td>M</td><td>M_Sun</td><td>459038702.85385895</td><td>39629022.50099945</td><td>42168763152.81998</td><td>642686468.9346008</td><td>1262244393.6311188</td></tr>\n",
       "<tr><td>NFW HALO</td><td>a</td><td>kpc</td><td>0.20358785138329338</td><td>0.06709194532322371</td><td>18.107040845931678</td><td>0.005840752974595631</td><td>0.06953901153251252</td></tr>\n",
       "<tr><td>---</td><td>M_0</td><td>M_Sun</td><td>19991382950.259033</td><td>13579997186.675537</td><td>964481973236.9237</td><td>1624418864.3701172</td><td>1767634279.053711</td></tr>\n",
       "<tr><td>---</td><td>rho_0</td><td>M_Sun/kpc^3</td><td>385741.8170809392</td><td>142550.46780368686</td><td>12947277.839052975</td><td>81037.43632893637</td><td>393106.5043828003</td></tr>\n",
       "<tr><td>---</td><td>X</td><td>---</td><td>0.21465043631458158</td><td>0.07884712488300849</td><td>18.21505490075154</td><td>0.04457886053711135</td><td>0.214630951807667</td></tr>\n",
       "<tr><td>---</td><td>M_h</td><td>M_Sun</td><td>52146639425.46216</td><td>33404486090.81006</td><td>1939068278199.0542</td><td>637128381.7355957</td><td>2744547181.7646484</td></tr>\n",
       "<tr><td>CRITICAL OVERDENSITY</td><td>101.14287921960845</td><td>---</td><td>---</td><td>---</td><td>---</td><td>---</td><td>---</td></tr>\n",
       "<tr><td>CHI^2</td><td>36.34345077276472</td><td>---</td><td>---</td><td>---</td><td>---</td><td>---</td><td>---</td></tr>\n",
       "</table></div>"
      ],
      "text/plain": [
       "<Table length=10>\n",
       "        col0             PARAMETER      ...         95%(+)        \n",
       "       str20               str18        ...         str22         \n",
       "-------------------- ------------------ ... ----------------------\n",
       "          THICK DISK                  a ...    0.01160216205537501\n",
       "                 ---                  b ... 0.00022449851610475968\n",
       "                 ---                  M ...     1262244393.6311188\n",
       "            NFW HALO                  a ...    0.06953901153251252\n",
       "                 ---                M_0 ...      1767634279.053711\n",
       "                 ---              rho_0 ...      393106.5043828003\n",
       "                 ---                  X ...      0.214630951807667\n",
       "                 ---                M_h ...     2744547181.7646484\n",
       "CRITICAL OVERDENSITY 101.14287921960845 ...                    ---\n",
       "               CHI^2  36.34345077276472 ...                    ---"
      ]
     },
     "execution_count": 2,
     "metadata": {},
     "output_type": "execute_result"
    }
   ],
   "source": [
    "final_params = Table.Table.read('../final_params.txt', format='ascii.tab')\n",
    "final_params"
   ]
  }
 ],
 "metadata": {
  "kernelspec": {
   "display_name": "base",
   "language": "python",
   "name": "python3"
  },
  "language_info": {
   "codemirror_mode": {
    "name": "ipython",
    "version": 3
   },
   "file_extension": ".py",
   "mimetype": "text/x-python",
   "name": "python",
   "nbconvert_exporter": "python",
   "pygments_lexer": "ipython3",
   "version": "3.9.16"
  },
  "orig_nbformat": 4
 },
 "nbformat": 4,
 "nbformat_minor": 2
}
