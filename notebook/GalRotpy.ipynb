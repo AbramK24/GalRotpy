{
 "cells": [
  {
   "cell_type": "code",
   "execution_count": 1,
   "metadata": {},
   "outputs": [
    {
     "name": "stdout",
     "output_type": "stream",
     "text": [
      "galpyWarning: libgalpy C extension module not loaded, because of error 'dlopen(/Library/Python/3.7/site-packages/libgalpy.cpython-37m-darwin.so, 6): Library not loaded: @rpath/libgsl.25.dylib\n",
      "  Referenced from: /Library/Python/3.7/site-packages/libgalpy.cpython-37m-darwin.so\n",
      "  Reason: image not found' \n"
     ]
    }
   ],
   "source": [
    "from matplotlib.widgets import Slider, Button, RadioButtons, CheckButtons, TextBox # Matplotlib widgets\n",
    "import matplotlib.pylab as plt # Plotting interface\n",
    "import numpy as np\n",
    "from galpy.potential import MiyamotoNagaiPotential, NFWPotential, RazorThinExponentialDiskPotential, BurkertPotential # GALPY potentials\n",
    "from galpy.potential import calcRotcurve # composed rotation curve calculation for plotting\n",
    "from astropy import units # Physical/real units data managing\n",
    "from astropy import table as Table # For fast and easy reading / writing with tables using numpy library\n",
    "import emcee\n",
    "import corner\n",
    "import time\n",
    "import pandas as pd\n",
    "import multiprocessing as mp\n",
    "from scipy.optimize import fsolve\n",
    "\n",
    "\n",
    "import ipywidgets as widgets\n"
   ]
  },
  {
   "cell_type": "code",
   "execution_count": 2,
   "metadata": {},
   "outputs": [],
   "source": [
    "input_params=Table.Table.read('../input_params.txt', format='ascii.tab') # Initial parameters\n"
   ]
  },
  {
   "cell_type": "code",
   "execution_count": 3,
   "metadata": {
    "scrolled": true
   },
   "outputs": [
    {
     "data": {
      "text/html": [
       "<i>Table length=6</i>\n",
       "<table id=\"table4737639368\" class=\"table-striped table-bordered table-condensed\">\n",
       "<thead><tr><th>component</th><th>mass</th><th>threshold_mass</th><th>a (kpc)</th><th>threshold_a</th><th>b (kpc)</th><th>threshold_b</th></tr></thead>\n",
       "<thead><tr><th>str12</th><th>float64</th><th>float64</th><th>float64</th><th>int64</th><th>float64</th><th>int64</th></tr></thead>\n",
       "<tr><td>BULGE</td><td>110000000.0</td><td>1.0</td><td>0.0</td><td>20</td><td>0.495</td><td>70</td></tr>\n",
       "<tr><td>THIN DISK</td><td>3900000000.0</td><td>1.0</td><td>5.3</td><td>90</td><td>0.25</td><td>1</td></tr>\n",
       "<tr><td>THICK DISK</td><td>39000000000.0</td><td>0.5</td><td>2.6</td><td>20</td><td>0.8</td><td>1</td></tr>\n",
       "<tr><td>EXP DISK</td><td>500.0</td><td>0.5</td><td>5.3</td><td>90</td><td>0.0</td><td>0</td></tr>\n",
       "<tr><td>DARK HALO</td><td>140000000000.0</td><td>1.0</td><td>13.0</td><td>90</td><td>0.0</td><td>0</td></tr>\n",
       "<tr><td>BURKERT HALO</td><td>8000000.0</td><td>1.0</td><td>20.0</td><td>90</td><td>0.0</td><td>0</td></tr>\n",
       "</table>"
      ],
      "text/plain": [
       "<Table length=6>\n",
       " component        mass      threshold_mass ... threshold_a b (kpc) threshold_b\n",
       "   str12        float64        float64     ...    int64    float64    int64   \n",
       "------------ -------------- -------------- ... ----------- ------- -----------\n",
       "       BULGE    110000000.0            1.0 ...          20   0.495          70\n",
       "   THIN DISK   3900000000.0            1.0 ...          90    0.25           1\n",
       "  THICK DISK  39000000000.0            0.5 ...          20     0.8           1\n",
       "    EXP DISK          500.0            0.5 ...          90     0.0           0\n",
       "   DARK HALO 140000000000.0            1.0 ...          90     0.0           0\n",
       "BURKERT HALO      8000000.0            1.0 ...          90     0.0           0"
      ]
     },
     "execution_count": 3,
     "metadata": {},
     "output_type": "execute_result"
    }
   ],
   "source": [
    "input_params"
   ]
  },
  {
   "cell_type": "code",
   "execution_count": 4,
   "metadata": {},
   "outputs": [],
   "source": [
    "tt=Table.Table.read('../rot_curve.txt', format='ascii.tab') # Rotation curve\n",
    "\n",
    "x_offset = 0.0  # It defines a radial coordinate offset as user input\n",
    "r_0=1*units.kpc # units \n",
    "v_0=220*units.km/units.s # units \n",
    "\n",
    "# Real data:\n",
    "r_data=tt['r']-x_offset # The txt file must contain the radial coordinate values in kpc\n",
    "v_c_data=tt['vel'] # velocity in km/s\n",
    "v_c_err_data = tt['e_vel'] # and velocity error in km/s\n",
    "\n",
    "# This loop is needed since galpy fails when r=0 or very close to 0\n",
    "for i in range(len(r_data)):\n",
    "    if r_data[i]<1e-3:\n",
    "        r_data[i]=1e-3\n",
    "\n"
   ]
  },
  {
   "cell_type": "code",
   "execution_count": 5,
   "metadata": {},
   "outputs": [],
   "source": [
    "class MiyamotoNagaiP:\n",
    "    def __init__(self, dict_params):\n",
    "        self.amp = dict_params['amp']\n",
    "        self.a = dict_params['a']\n",
    "        self.b = dict_params['b']\n",
    "    \n",
    "    def __str__(self):\n",
    "        return f\"amp={self.amp}, a={self.a}, b={self.b}\"\n",
    "    \n",
    "    def __repr__(self):\n",
    "        return f\"amp={self.amp}, a={self.a}, b={self.b}\"\n",
    "        \n",
    "class MassScaleP:\n",
    "    def __init__(self, dict_params):\n",
    "        self.amp = dict_params['amp']\n",
    "        self.a = dict_params['a']\n",
    "    \n",
    "    def __str__(self):\n",
    "        return f\"amp={self.amp}, a={self.a}\"\n",
    "    \n",
    "    def __repr__(self):\n",
    "        return f\"amp={self.amp}, a={self.a}\"\n",
    "        "
   ]
  },
  {
   "cell_type": "code",
   "execution_count": 15,
   "metadata": {},
   "outputs": [
    {
     "data": {
      "application/vnd.jupyter.widget-view+json": {
       "model_id": "32ce28b725ba41c59d2184c0014e382d",
       "version_major": 2,
       "version_minor": 0
      },
      "text/plain": [
       "HBox(children=(FloatSlider(value=11000000.0, max=1100000000.0, min=11000000.0, step=11000000.0), FloatSlider(v…"
      ]
     },
     "metadata": {},
     "output_type": "display_data"
    },
    {
     "data": {
      "application/vnd.jupyter.widget-view+json": {
       "model_id": "bff71bf46b2d4de6997d1d4bd6490993",
       "version_major": 2,
       "version_minor": 0
      },
      "text/plain": [
       "Output()"
      ]
     },
     "metadata": {},
     "output_type": "display_data"
    }
   ],
   "source": [
    "amp1 = widgets.FloatSlider(min=110000000.0*10**(-1), max=110000000.0*10**(1), step=110000000.0*0.1)\n",
    "b1 = widgets.FloatSlider(min=0.495*(100-70)/100, max=0.495*(100+70)/100, step=0.495*0.1)\n",
    "ui = widgets.HBox([amp1, b1])\n",
    "def f(amp1, b1):\n",
    "    global bulge_potential\n",
    "    bulge_dict = {'amp': amp1, 'a':0, 'b': b1 }\n",
    "    bulge_potential = MiyamotoNagaiP(bulge_dict)\n",
    "    print((amp1, b1))\n",
    "bulge_params = widgets.interactive_output(f, {'amp1': amp1, 'b1': b1})\n",
    "display(ui, bulge_params)"
   ]
  },
  {
   "cell_type": "code",
   "execution_count": 7,
   "metadata": {},
   "outputs": [
    {
     "data": {
      "application/vnd.jupyter.widget-view+json": {
       "model_id": "4532d91e0c644656ac3a418042e06a9e",
       "version_major": 2,
       "version_minor": 0
      },
      "text/plain": [
       "HBox(children=(FloatSlider(value=390000000.0, max=39000000000.0, min=390000000.0, step=390000000.0), FloatSlid…"
      ]
     },
     "metadata": {},
     "output_type": "display_data"
    },
    {
     "data": {
      "application/vnd.jupyter.widget-view+json": {
       "model_id": "ff396f7335c249669e59d340bdf684da",
       "version_major": 2,
       "version_minor": 0
      },
      "text/plain": [
       "Output()"
      ]
     },
     "metadata": {},
     "output_type": "display_data"
    }
   ],
   "source": [
    "amp2 = widgets.FloatSlider(min=3900000000.0*10**(-1), max=3900000000.0*10**(1), step=3900000000.0*0.1)\n",
    "a2 = widgets.FloatSlider(min=5.3*(100-90)/100, max=5.3*(100+90)/100, step=5.3*0.1)\n",
    "b2 = widgets.FloatSlider(min=0.25*(100-90)/100, max=0.25*(100+90)/100, step=0.25*0.1)\n",
    "ui = widgets.HBox([amp2, a2, b2])\n",
    "def f(amp2, a2, b2):\n",
    "    global thin_disk_potential\n",
    "    thin_disk_dict = {'amp': amp2, 'a':a2, 'b': b2 }\n",
    "    thin_disk_potential = MiyamotoNagaiP(thin_disk_dict)\n",
    "    print((amp2, a2, b2))\n",
    "\n",
    "thin_disk_params = widgets.interactive_output(f, {'amp2': amp2, 'a2': a2, 'b2': b2})\n",
    "\n",
    "display(ui, thin_disk_params)\n",
    "\n"
   ]
  },
  {
   "cell_type": "code",
   "execution_count": 8,
   "metadata": {},
   "outputs": [
    {
     "data": {
      "application/vnd.jupyter.widget-view+json": {
       "model_id": "362ce0c93d4047b68e508186687131ab",
       "version_major": 2,
       "version_minor": 0
      },
      "text/plain": [
       "HBox(children=(FloatSlider(value=12332882874.65668, max=123328828746.5668, min=12332882874.65668, step=3900000…"
      ]
     },
     "metadata": {},
     "output_type": "display_data"
    },
    {
     "data": {
      "application/vnd.jupyter.widget-view+json": {
       "model_id": "ff396f7335c249669e59d340bdf684da",
       "version_major": 2,
       "version_minor": 0
      },
      "text/plain": [
       "Output(outputs=({'output_type': 'stream', 'text': '(390000000.0, 0.53, 0.025)\\n', 'name': 'stdout'},))"
      ]
     },
     "metadata": {},
     "output_type": "display_data"
    }
   ],
   "source": [
    "amp3 = widgets.FloatSlider(min=39000000000.0*10**(-0.5), max=39000000000.0*10**(0.5), step=39000000000.0*0.1)\n",
    "a3 = widgets.FloatSlider(min=2.6*(100-20)/100, max=2.6*(100+20)/100, step=2.6*0.1)\n",
    "b3 = widgets.FloatSlider(min=0.8*(100-90)/100, max=0.8*(100+90)/100, step=0.8*0.1)\n",
    "ui = widgets.HBox([amp3, a3, b3])\n",
    "def f(amp3, a3, b3):\n",
    "    global thick_disk_potential\n",
    "    thick_disk_dict = {'amp': amp3, 'a':a3, 'b': b3 }\n",
    "    thick_disk_potential = MiyamotoNagaiP(thick_disk_dict)\n",
    "    print((amp3, a3, b3))\n",
    "\n",
    "thick_disk_params = widgets.interactive_output(f, {'amp3': amp3, 'a3': a3, 'b3': b3})\n",
    "\n",
    "display(ui, thin_disk_params)\n"
   ]
  },
  {
   "cell_type": "code",
   "execution_count": 9,
   "metadata": {},
   "outputs": [
    {
     "data": {
      "application/vnd.jupyter.widget-view+json": {
       "model_id": "97ae6fa17046440fb9d467e8c7a43e3d",
       "version_major": 2,
       "version_minor": 0
      },
      "text/plain": [
       "HBox(children=(FloatSlider(value=158.11388300841898, max=1581.1388300841897, min=158.11388300841898, step=50.0…"
      ]
     },
     "metadata": {},
     "output_type": "display_data"
    },
    {
     "data": {
      "application/vnd.jupyter.widget-view+json": {
       "model_id": "05c360364cdb4ee7b01d42530ddf78b1",
       "version_major": 2,
       "version_minor": 0
      },
      "text/plain": [
       "Output()"
      ]
     },
     "metadata": {},
     "output_type": "display_data"
    }
   ],
   "source": [
    "amp4 = widgets.FloatSlider(min=500.0*10**(-0.5), max=500.0*10**(0.5), step=500.0*0.1)\n",
    "h_r = widgets.FloatSlider(min=5.3*(100-90)/100, max=5.3*(100+90)/100, step=5.3*0.1)\n",
    "ui = widgets.HBox([amp4, h_r ])\n",
    "def f(amp4, h_r):\n",
    "    global exp_disk_potential\n",
    "    exp_disk_dict = {'amp': amp4, 'a': h_r}\n",
    "    exp_disk_potential = MassScaleP(exp_disk_dict)\n",
    "    print((amp4, h_r))\n",
    "exp_disk_params = widgets.interactive_output(f, {'amp4': amp4, 'h_r': h_r})\n",
    "display(ui, exp_disk_params)"
   ]
  },
  {
   "cell_type": "code",
   "execution_count": 10,
   "metadata": {},
   "outputs": [
    {
     "data": {
      "application/vnd.jupyter.widget-view+json": {
       "model_id": "f0dea12f22b94407b61df019969fcfe2",
       "version_major": 2,
       "version_minor": 0
      },
      "text/plain": [
       "HBox(children=(FloatSlider(value=14000000000.0, max=1400000000000.0, min=14000000000.0, step=14000000000.0), F…"
      ]
     },
     "metadata": {},
     "output_type": "display_data"
    },
    {
     "data": {
      "application/vnd.jupyter.widget-view+json": {
       "model_id": "7f2801d993ac40e883d4f1558abefab1",
       "version_major": 2,
       "version_minor": 0
      },
      "text/plain": [
       "Output()"
      ]
     },
     "metadata": {},
     "output_type": "display_data"
    }
   ],
   "source": [
    "amp5 = widgets.FloatSlider(min=140000000000.0*10**(-1), max=140000000000.0*10**(1), step=140000000000.0*0.1)\n",
    "a5 = widgets.FloatSlider(min=13*(100-90)/100, max=13*(100+90)/100, step=13*0.1)\n",
    "ui = widgets.HBox([amp5, a5 ])\n",
    "def f(amp5, a5):\n",
    "    global dark_halo_potential\n",
    "    dark_halo_dict = {'amp': amp5, 'a': a5}\n",
    "    dark_halo_potential = MassScaleP(dark_halo_dict)\n",
    "    print((amp5, a5))\n",
    "dark_halo_params = widgets.interactive_output(f, {'amp5': amp5, 'a5': a5})\n",
    "display(ui, dark_halo_params)"
   ]
  },
  {
   "cell_type": "code",
   "execution_count": 11,
   "metadata": {},
   "outputs": [
    {
     "data": {
      "application/vnd.jupyter.widget-view+json": {
       "model_id": "69a87b8afbf74c278dfa75a94adf1ef3",
       "version_major": 2,
       "version_minor": 0
      },
      "text/plain": [
       "HBox(children=(FloatSlider(value=800000.0, max=80000000.0, min=800000.0, step=800000.0), FloatSlider(value=2.0…"
      ]
     },
     "metadata": {},
     "output_type": "display_data"
    },
    {
     "data": {
      "application/vnd.jupyter.widget-view+json": {
       "model_id": "e6cb006dfb2e4020a80de844f18228dc",
       "version_major": 2,
       "version_minor": 0
      },
      "text/plain": [
       "Output()"
      ]
     },
     "metadata": {},
     "output_type": "display_data"
    }
   ],
   "source": [
    "amp6 = widgets.FloatSlider(min=8000000.0*10**(-1), max=8000000.0*10**(1), step=8000000.0*0.1)\n",
    "a6 = widgets.FloatSlider(min=20*(100-90)/100, max=20*(100+90)/100, step=20*0.1)\n",
    "ui = widgets.HBox([amp6, a6 ])\n",
    "def f(amp6, a6):\n",
    "    global burkert_halo_potential\n",
    "    burkert_halo_dict = {'amp': amp6, 'a': a6}\n",
    "    burkert_halo_potential = MassScaleP(burkert_halo_dict)\n",
    "    print((amp6, a6))\n",
    "burkert_halo_params = widgets.interactive_output(f, {'amp6': amp6, 'a6': a6})\n",
    "display(ui, burkert_halo_params)"
   ]
  },
  {
   "cell_type": "code",
   "execution_count": 12,
   "metadata": {},
   "outputs": [],
   "source": [
    "lista=np.linspace(0.001, 1.02*np.max(r_data), 10*len(r_data))"
   ]
  },
  {
   "cell_type": "code",
   "execution_count": 13,
   "metadata": {},
   "outputs": [
    {
     "data": {
      "text/plain": [
       "(amp=11000000.0, a=0, b=0.1485,\n",
       " amp=390000000.0, a=0.53, b=0.025,\n",
       " amp=12332882874.65668, a=2.08, b=0.08,\n",
       " amp=158.11388300841898, a=0.53,\n",
       " amp=14000000000.0, a=1.3,\n",
       " amp=800000.0, a=2.0)"
      ]
     },
     "execution_count": 13,
     "metadata": {},
     "output_type": "execute_result"
    }
   ],
   "source": [
    "bulge_potential, thin_disk_potential, thick_disk_potential, exp_disk_potential, dark_halo_potential, burkert_halo_potential"
   ]
  },
  {
   "cell_type": "code",
   "execution_count": 14,
   "metadata": {},
   "outputs": [],
   "source": [
    "MN_Bulge_p= MiyamotoNagaiPotential(amp=bulge_potential.amp*units.Msun,\n",
    "                                   a=bulge_potential.a*units.kpc,\n",
    "                                   b=bulge_potential.b*units.kpc,\n",
    "                                   normalize=False,\n",
    "                                   ro=r_0, vo=v_0)\n",
    "MN_Thin_Disk_p= MiyamotoNagaiPotential(amp=thin_disk_potential.amp*units.Msun,\n",
    "                                       a=thin_disk_potential.a*units.kpc,\n",
    "                                       b=thin_disk_potential.b*units.kpc,\n",
    "                                       normalize=False,\n",
    "                                       ro=r_0, vo=v_0)\n",
    "MN_Thick_Disk_p= MiyamotoNagaiPotential(amp=thick_disk_potential.amp*units.Msun,\n",
    "                                        a=thick_disk_potential.a*units.kpc,\n",
    "                                        b=thick_disk_potential.b*units.kpc,\n",
    "                                        normalize=False,\n",
    "                                        ro=r_0, vo=v_0)\n",
    "EX_Disk_p = RazorThinExponentialDiskPotential(amp=exp_disk_potential.amp*(units.Msun/(units.pc**2)), \n",
    "                                              hr=exp_disk_potential.a*units.kpc, maxiter=20, tol=0.001, \n",
    "                                              normalize=False, ro=r_0, vo=v_0, new=True, glorder=100)\n",
    "NFW_p = NFWPotential(amp=dark_halo_potential.amp*units.Msun, \n",
    "                     a=dark_halo_potential.a*units.kpc, normalize=False, ro=r_0, vo=v_0)\n",
    "BK_p = BurkertPotential(amp=burkert_halo_potential.amp*units.Msun/(units.kpc)**3, \n",
    "                        a=burkert_halo_potential.a*units.kpc, normalize=False, ro=r_0, vo=v_0)\n",
    "\n",
    "# Circular velocities in km/s\n",
    "MN_Bulge = calcRotcurve(MN_Bulge_p, lista, phi=None)*220\n",
    "MN_Thin_Disk = calcRotcurve(MN_Thin_Disk_p, lista, phi=None)*220\n",
    "MN_Thick_Disk = calcRotcurve(MN_Thick_Disk_p, lista, phi=None)*220\n",
    "EX_Disk = calcRotcurve(EX_Disk_p, lista, phi=None)*220\n",
    "NFW = calcRotcurve(NFW_p, lista, phi=None)*220\n",
    "BK = calcRotcurve(BK_p, lista, phi=None)*220\n",
    "\n",
    "# Circular velocity for the composition of 5 potentials in km/s\n",
    "v_circ_comp = calcRotcurve([MN_Bulge_p,MN_Thin_Disk_p,MN_Thick_Disk_p, EX_Disk_p, NFW_p, BK_p], lista, phi=None)*220\n",
    "\n"
   ]
  },
  {
   "cell_type": "code",
   "execution_count": null,
   "metadata": {},
   "outputs": [],
   "source": []
  },
  {
   "cell_type": "code",
   "execution_count": 55,
   "metadata": {},
   "outputs": [
    {
     "data": {
      "text/plain": [
       "amp=11000000.0, a=0, b=0.1485"
      ]
     },
     "execution_count": 55,
     "metadata": {},
     "output_type": "execute_result"
    }
   ],
   "source": [
    "bulge_potential"
   ]
  },
  {
   "cell_type": "code",
   "execution_count": 60,
   "metadata": {},
   "outputs": [
    {
     "data": {
      "image/png": "[encoded data removed]",
      "text/plain": [
       "<Figure size 432x288 with 1 Axes>"
      ]
     },
     "metadata": {
      "needs_background": "light"
     },
     "output_type": "display_data"
    }
   ],
   "source": [
    "\n",
    "fig = plt.figure(1)\n",
    "ax = fig.add_axes((0.41, 0.1, 0.55, 0.85))\n",
    "\n",
    "#ax.yaxis.set_ticks_position('both')\n",
    "#ax.tick_params(axis='y', which='both', labelleft=True, labelright=True)\n",
    "\n",
    "# Data\n",
    "CV_galaxy = ax.errorbar(r_data, v_c_data, v_c_err_data,  c='k', fmt='', ls='none')\n",
    "CV_galaxy_dot = ax.scatter(r_data, v_c_data, c='k')\n",
    "\n",
    "# A plot for each rotation curve with the colors indicated below\n",
    "MN_b_plot, = ax.plot(lista, MN_Bulge, linestyle='--', c='gray')\n",
    "MN_td_plot, = ax.plot(lista, MN_Thin_Disk, linestyle='--', c='purple')\n",
    "MN_tkd_plot, = ax.plot(lista, MN_Thick_Disk, linestyle='--', c='blue')\n",
    "EX_d_plot, = ax.plot(lista, EX_Disk, linestyle='--', c='cyan')\n",
    "NFW_plot, = ax.plot(lista, NFW, linestyle='--', c='green')\n",
    "BK_plot, = ax.plot(lista, BK, linestyle='--', c='orange')\n",
    "\n",
    "# Composed rotation curve\n",
    "v_circ_comp_plot, = ax.plot(lista, v_circ_comp, c='k')\n",
    "\n",
    "\n",
    "ax.set_xlabel(r'$R(kpc)$', fontsize=20)\n",
    "ax.set_ylabel(r'$v_c(km/s)$', fontsize=20)\n",
    "ax.tick_params(axis='both', which='both', labelsize=15)"
   ]
  },
  {
   "cell_type": "code",
   "execution_count": 61,
   "metadata": {},
   "outputs": [
    {
     "data": {
      "text/plain": [
       "[None, None, None, None, None, None, None, None, None, None, None, None]"
      ]
     },
     "execution_count": 61,
     "metadata": {},
     "output_type": "execute_result"
    },
    {
     "data": {
      "image/png": "[encoded data removed]",
      "text/plain": [
       "<Figure size 432x288 with 1 Axes>"
      ]
     },
     "metadata": {},
     "output_type": "display_data"
    }
   ],
   "source": [
    "rax = plt.axes((0.07, 0.8, 0.21, 0.15))\n",
    "check = CheckButtons(rax, ('MN Bulge (GRAY)', 'MN Thin Disc (PURPLE)', 'MN Thick Disc (BLUE)', 'Exp. Disc (CYAN)', 'NFW - Halo (GREEN)', 'Burkert - Halo (ORANGE)'), (True, True, True, True, True, True))\n",
    "\n",
    "for r in check.rectangles: # Checkbox options-colors\n",
    "    r.set_facecolor(\"lavender\") \n",
    "    r.set_edgecolor(\"black\")\n",
    "    #r.set_alpha(0.2) \n",
    "\n",
    "[ll.set_color(\"black\") for l in check.lines for ll in l]\n",
    "[ll.set_linewidth(2) for l in check.lines for ll in l]\n"
   ]
  },
  {
   "cell_type": "code",
   "execution_count": 62,
   "metadata": {},
   "outputs": [],
   "source": [
    "MN_b_amp_ax = fig.add_axes((0.09,0.75,0.17,0.03))\n",
    "MN_b_amp_s = Slider(MN_b_amp_ax, r\"$M$($M_\\odot$)\", input_params['mass'][0]/(10**input_params['threshold_mass'][0]), input_params['mass'][0]*(10**input_params['threshold_mass'][0]), valinit=input_params['mass'][0], color='gray', valfmt='%1.3E')\n",
    "MN_b_a_ax = fig.add_axes((0.09,0.72,0.17,0.03))\n",
    "MN_b_a_s = Slider(MN_b_a_ax, \"$a$ ($kpc$)\", 0, 0.1*input_params['threshold_a'][0], valinit=input_params['a (kpc)'][0], color='gray')\n",
    "MN_b_b_ax = fig.add_axes((0.09,0.69,0.17,0.03))\n",
    "MN_b_b_s = Slider(MN_b_b_ax, \"$b$ ($kpc$)\", input_params['b (kpc)'][0]*(1-0.01*input_params['threshold_b'][0]), input_params['b (kpc)'][0]*(1+0.01*input_params['threshold_b'][0]), valinit=input_params['b (kpc)'][0], color='gray')\n",
    "\n",
    "# Thin disk - purple\n",
    "MN_td_amp_ax = fig.add_axes((0.09,0.63,0.17,0.03))\n",
    "MN_td_amp_s = Slider(MN_td_amp_ax, r\"$M$($M_\\odot$)\", input_params['mass'][1]/(10**input_params['threshold_mass'][1]), input_params['mass'][1]*(10**input_params['threshold_mass'][1]), valinit=input_params['mass'][1], color='purple', valfmt='%1.3E')\n",
    "MN_td_a_ax = fig.add_axes((0.09,0.60,0.17,0.03))\n",
    "MN_td_a_s = Slider(MN_td_a_ax, \"$a$ ($kpc$)\", input_params['a (kpc)'][1]*(1-0.01*input_params['threshold_a'][1]), input_params['a (kpc)'][1]*(1+0.01*input_params['threshold_a'][1]), valinit=input_params['a (kpc)'][1], color='purple')\n",
    "MN_td_b_ax = fig.add_axes((0.09,0.57,0.17,0.03))\n",
    "MN_td_b_s = Slider(MN_td_b_ax, \"$b$ ($kpc$)\", input_params['b (kpc)'][1]/(10**input_params['threshold_b'][1]), input_params['b (kpc)'][1]*(10**input_params['threshold_b'][1]), valinit=input_params['b (kpc)'][1], color='purple')\n",
    "\n",
    "# Thick disk - Blue\n",
    "MN_tkd_amp_ax = fig.add_axes((0.09,0.51,0.17,0.03))\n",
    "MN_tkd_amp_s = Slider(MN_tkd_amp_ax, r\"$M$($M_\\odot$)\", input_params['mass'][2]/(10**input_params['threshold_mass'][2]), input_params['mass'][2]*(10**input_params['threshold_mass'][2]), valinit=input_params['mass'][2], color='blue', valfmt='%1.3E')\n",
    "MN_tkd_a_ax = fig.add_axes((0.09,0.48,0.17,0.03))\n",
    "MN_tkd_a_s = Slider(MN_tkd_a_ax, \"$a$ ($kpc$)\", input_params['a (kpc)'][2]*(1-0.01*input_params['threshold_a'][2]), input_params['a (kpc)'][2]*(1+0.01*input_params['threshold_a'][2]), valinit=input_params['a (kpc)'][2], color='blue')\n",
    "MN_tkd_b_ax = fig.add_axes((0.09,0.45,0.17,0.03))\n",
    "MN_tkd_b_s = Slider(MN_tkd_b_ax, \"$b$ ($kpc$)\", input_params['b (kpc)'][2]/(10**input_params['threshold_b'][2]), input_params['b (kpc)'][2]*(10**input_params['threshold_b'][2]), valinit=input_params['b (kpc)'][2], color='blue')\n",
    "\n",
    "# Exponential disk - Cyan\n",
    "MN_ed_amp_ax = fig.add_axes((0.09,0.39,0.17,0.03))\n",
    "MN_ed_amp_s = Slider(MN_ed_amp_ax, r\"$\\Sigma_0$($M_\\odot/pc^2$)\", input_params['mass'][3]/(10**input_params['threshold_mass'][3]), input_params['mass'][3]*(10**input_params['threshold_mass'][3]), valinit=input_params['mass'][3], color='cyan', valfmt='%1.3E')\n",
    "MN_ed_a_ax = fig.add_axes((0.09,0.36,0.17,0.03))\n",
    "MN_ed_a_s = Slider(MN_ed_a_ax, \"$h_r$ ($kpc$)\", input_params['a (kpc)'][3]*(1-0.01*input_params['threshold_a'][3]), input_params['a (kpc)'][3]*(1+0.01*input_params['threshold_a'][3]), valinit=input_params['a (kpc)'][3], color='cyan')\n",
    "\n",
    "# NFW Halo - green\n",
    "NFW_amp_ax = fig.add_axes((0.09,0.30,0.17,0.03))\n",
    "NFW_amp_s = Slider(NFW_amp_ax, r\"$M_0$($M_\\odot$)\", input_params['mass'][4]/(10*input_params['threshold_mass'][4]), input_params['mass'][4]*(10**input_params['threshold_mass'][4]), valinit=input_params['mass'][4], color='green', valfmt='%1.3E')\n",
    "NFW_a_ax = fig.add_axes((0.09,0.27,0.17,0.03))\n",
    "NFW_a_s = Slider(NFW_a_ax, \"$a$ ($kpc$)\", input_params['a (kpc)'][4]*(1-0.01*input_params['threshold_a'][4]), input_params['a (kpc)'][4]*(1+0.01*input_params['threshold_a'][4]), valinit=input_params['a (kpc)'][4], color='green')\n",
    "\n",
    "# Burkert Halo - orange\n",
    "BK_amp_ax = fig.add_axes((0.09,0.21,0.17,0.03))\n",
    "BK_amp_s = Slider(BK_amp_ax, r\"$\\rho_0$($M_\\odot/kpc^3$)\", input_params['mass'][5]/(10*input_params['threshold_mass'][5]), input_params['mass'][5]*(10**input_params['threshold_mass'][5]), valinit=input_params['mass'][5], color='orange', valfmt='%1.3E')\n",
    "BK_a_ax = fig.add_axes((0.09,0.18,0.17,0.03))\n",
    "BK_a_s = Slider(BK_a_ax, \"$a$ ($kpc$)\", input_params['a (kpc)'][5]*(1-0.01*input_params['threshold_a'][5]), input_params['a (kpc)'][5]*(1+0.01*input_params['threshold_a'][5]), valinit=input_params['a (kpc)'][5], color='orange')\n"
   ]
  },
  {
   "cell_type": "code",
   "execution_count": 63,
   "metadata": {},
   "outputs": [],
   "source": [
    "\n",
    "# Bulge\n",
    "def MN_b_amp_s_func(val):\n",
    "    if MN_b_plot.get_visible() == True:\n",
    "        global MN_Bulge_p, amp1, a1, b1\n",
    "        amp1=val*1\n",
    "        MN_Bulge_p = MiyamotoNagaiPotential(amp=val*units.Msun,a=a1*units.kpc,b=b1*units.kpc,normalize=False,ro=r_0, vo=v_0)   \n",
    "        update_rot_curve()\n",
    "def MN_b_a_s_func(val):\n",
    "    if MN_b_plot.get_visible() == True:\n",
    "        global MN_Bulge_p, amp1, a1, b1\n",
    "        a1=val*1\n",
    "        MN_Bulge_p = MiyamotoNagaiPotential(amp=amp1*units.Msun,a=val*units.kpc,b=b1*units.kpc,normalize=False,ro=r_0, vo=v_0)   \n",
    "        update_rot_curve()\n",
    "def MN_b_b_s_func(val):\n",
    "    if MN_b_plot.get_visible() == True:\n",
    "        global MN_Bulge_p, amp1, a1, b1\n",
    "        b1=val*1\n",
    "        MN_Bulge_p = MiyamotoNagaiPotential(amp=amp1*units.Msun,a=a1*units.kpc,b=val*units.kpc,normalize=False,ro=r_0, vo=v_0)   \n",
    "        update_rot_curve()\n",
    "        \n",
    "# Thin disk\n",
    "def MN_td_amp_s_func(val):\n",
    "    if MN_td_plot.get_visible() == True:\n",
    "        global MN_Thin_Disk_p, amp2, a2, b2\n",
    "        amp2=val*1\n",
    "        MN_Thin_Disk_p= MiyamotoNagaiPotential(amp=val*units.Msun,a=a2*units.kpc,b=b2*units.kpc,normalize=False,ro=r_0, vo=v_0)  \n",
    "        update_rot_curve()\n",
    "def MN_td_a_s_func(val):\n",
    "    if MN_td_plot.get_visible() == True:\n",
    "        global MN_Thin_Disk_p, amp2, a2, b2\n",
    "        a2=val*1\n",
    "        MN_Thin_Disk_p= MiyamotoNagaiPotential(amp=amp2*units.Msun,a=val*units.kpc,b=b2*units.kpc,normalize=False,ro=r_0, vo=v_0)  \n",
    "        update_rot_curve()\n",
    "def MN_td_b_s_func(val):\n",
    "    if MN_td_plot.get_visible() == True:\n",
    "        global MN_Thin_Disk_p, amp2, a2, b2\n",
    "        b2=val*1\n",
    "        MN_Thin_Disk_p= MiyamotoNagaiPotential(amp=amp2*units.Msun,a=a2*units.kpc,b=val*units.kpc,normalize=False,ro=r_0, vo=v_0)  \n",
    "        update_rot_curve()\n",
    "\n",
    "# Thick disk\n",
    "def MN_tkd_amp_s_func(val):\n",
    "    if MN_tkd_plot.get_visible() == True:\n",
    "        global MN_Thick_Disk_p, amp3, a3, b3\n",
    "        amp3=val*1\n",
    "        MN_Thick_Disk_p= MiyamotoNagaiPotential(amp=val*units.Msun,a=a3*units.kpc,b=b3*units.kpc,normalize=False,ro=r_0, vo=v_0)  \n",
    "        update_rot_curve()\n",
    "def MN_tkd_a_s_func(val):\n",
    "    if MN_tkd_plot.get_visible() == True:\n",
    "        global MN_Thick_Disk_p, amp3, a3, b3\n",
    "        a3=val*1\n",
    "        MN_Thick_Disk_p= MiyamotoNagaiPotential(amp=amp3*units.Msun,a=val*units.kpc,b=b3*units.kpc,normalize=False,ro=r_0, vo=v_0)  \n",
    "        update_rot_curve()\n",
    "def MN_tkd_b_s_func(val):\n",
    "    if MN_tkd_plot.get_visible() == True:\n",
    "        global MN_Thick_Disk_p, amp3, a3, b3\n",
    "        b3=val*1\n",
    "        MN_Thick_Disk_p= MiyamotoNagaiPotential(amp=amp3*units.Msun,a=a3*units.kpc,b=val*units.kpc,normalize=False,ro=r_0, vo=v_0)  \n",
    "        update_rot_curve()\n",
    "        \n",
    "# Exponential disk\n",
    "def MN_ed_amp_s_func(val):\n",
    "    if EX_d_plot.get_visible() == True:\n",
    "        global EX_Disk_p, amp4,h_r\n",
    "        amp4=val*1\n",
    "        EX_Disk_p = RazorThinExponentialDiskPotential(amp=val*(units.Msun/(units.pc**2)), hr=h_r*units.kpc, maxiter=20, tol=0.001, normalize=False, ro=r_0, vo=v_0, new=True, glorder=100)\n",
    "        update_rot_curve() \n",
    "def MN_ed_a_s_func(val):\n",
    "    if EX_d_plot.get_visible() == True:\n",
    "        global EX_Disk_p, amp4,h_r\n",
    "        h_r=val*1\n",
    "        EX_Disk_p = RazorThinExponentialDiskPotential(amp=amp4*(units.Msun/(units.pc**2)), hr=val*units.kpc, maxiter=20, tol=0.001, normalize=False, ro=r_0, vo=v_0, new=True, glorder=100)\n",
    "        update_rot_curve()\n",
    "        \n",
    "# NFW Halo       \n",
    "def NFW_amp_s_func(val):\n",
    "    if NFW_plot.get_visible() == True:\n",
    "        global NFW_p, amp5,a5\n",
    "        amp5=val*1\n",
    "        NFW_p = NFWPotential(amp=val*units.Msun, a=a5*units.kpc, normalize=False, ro=r_0, vo=v_0)\n",
    "        update_rot_curve()    \n",
    "def NFW_a_s_func(val):\n",
    "    if NFW_plot.get_visible() == True:\n",
    "        global NFW_p, amp5,a5\n",
    "        a5=val*1\n",
    "        NFW_p = NFWPotential(amp=amp5*units.Msun, a=val*units.kpc, normalize=False, ro=r_0, vo=v_0)\n",
    "        update_rot_curve()\n",
    "\n",
    "# Burkert Halo        \n",
    "def BK_amp_s_func(val):\n",
    "    if BK_plot.get_visible() == True:\n",
    "        global BK_p, amp6,a6\n",
    "        amp6=val*1\n",
    "        BK_p = BurkertPotential(amp=val*units.Msun/(units.kpc)**3, a=a6*units.kpc, normalize=False, ro=r_0, vo=v_0)\n",
    "        update_rot_curve()\n",
    "def BK_a_s_func(val):\n",
    "    if BK_plot.get_visible() == True:\n",
    "        global BK_p, amp6,a6\n",
    "        a6=val*1\n",
    "        BK_p = BurkertPotential(amp=amp6*units.Msun/(units.kpc)**3, a=val*units.kpc, normalize=False, ro=r_0, vo=v_0)\n",
    "        update_rot_curve()"
   ]
  },
  {
   "cell_type": "code",
   "execution_count": 64,
   "metadata": {},
   "outputs": [
    {
     "data": {
      "text/plain": [
       "0"
      ]
     },
     "execution_count": 64,
     "metadata": {},
     "output_type": "execute_result"
    }
   ],
   "source": [
    "def update_rot_curve():\n",
    "\tax.clear()\n",
    "\tglobal MN_b_plot, MN_Bulge_p, MN_Thin_Disk_p,MN_Thick_Disk_p, MN_td_plot,MN_tkd_plot, NFW_p, NFW_plot, EX_d_plot, EX_Disk_p, CV_galaxy, CV_galaxy_dot, BK_p, BK_plot\n",
    "\tcomposite_pot_array=[]\n",
    "\tax.set_xlabel(r'$R(kpc)$', fontsize=20)\n",
    "\tax.set_ylabel(r'$v_c(km/s)$', fontsize=20)\n",
    "\tax.tick_params(axis='both', which='both', labelsize=15)\n",
    "\t#ax.xaxis.set_major_locator(ticker.MultipleLocator(5))\n",
    "\tax.set_xlim([0, 1.02*r_data[-1]])\n",
    "\tax.set_ylim([0,np.max(v_c_data)*1.2])\n",
    "    \n",
    "\tif MN_b_plot.get_visible() == True:\n",
    "\t\tMN_Bulge = calcRotcurve(MN_Bulge_p, lista, phi=None)*220\n",
    "\t\tMN_b_plot, = ax.plot(lista, MN_Bulge, linestyle='--', c='gray')\n",
    "\t\tcomposite_pot_array.append(MN_Bulge_p)\n",
    "\tif MN_td_plot.get_visible() == True:\n",
    "\t\tMN_Thin_Disk = calcRotcurve(MN_Thin_Disk_p, lista, phi=None)*220\n",
    "\t\tMN_td_plot, = ax.plot(lista, MN_Thin_Disk, linestyle='--', c='purple')\n",
    "\t\tcomposite_pot_array.append(MN_Thin_Disk_p)\n",
    "\tif MN_tkd_plot.get_visible() == True:\n",
    "\t\tMN_Thick_Disk = calcRotcurve(MN_Thick_Disk_p, lista, phi=None)*220\n",
    "\t\tMN_tkd_plot, = ax.plot(lista, MN_Thick_Disk, linestyle='--', c='blue')\n",
    "\t\tcomposite_pot_array.append(MN_Thick_Disk_p)\n",
    "\tif NFW_plot.get_visible() == True:\n",
    "\t\tNFW = calcRotcurve(NFW_p, lista, phi=None)*220\n",
    "\t\tNFW_plot, = ax.plot(lista, NFW, linestyle='--', c='green')\n",
    "\t\tcomposite_pot_array.append(NFW_p)\n",
    "\tif EX_d_plot.get_visible() == True:\n",
    "\t\tEX_Disk = calcRotcurve(EX_Disk_p, lista, phi=None)*220\n",
    "\t\tEX_d_plot, = ax.plot(lista, EX_Disk, linestyle='--', c='cyan')\n",
    "\t\tcomposite_pot_array.append(EX_Disk_p)\n",
    "\tif BK_plot.get_visible() == True:\n",
    "\t\tBK = calcRotcurve(BK_p, lista, phi=None)*220\n",
    "\t\tBK_plot, = ax.plot(lista, BK, linestyle='--', c='orange')\n",
    "\t\tcomposite_pot_array.append(BK_p)\n",
    "\tCV_galaxy = ax.errorbar(r_data, v_c_data, v_c_err_data,  c='k', fmt='', ls='none')\n",
    "\tCV_galaxy_dot = ax.scatter(r_data, v_c_data, c='k')\n",
    "\tv_circ_comp = calcRotcurve(composite_pot_array, lista, phi=None)*220\n",
    "\tv_circ_comp_plot, = ax.plot(lista, v_circ_comp, c='k')\n",
    "\n",
    "\n",
    "#~~~~~~~~~~~~~~~~~~~~~~~~~~~~~~~~~~~~~~~~~~~~~~~~\n",
    "# Here we define the sliders update functions\n",
    "MN_b_amp_s.on_changed(MN_b_amp_s_func)\n",
    "MN_b_a_s.on_changed(MN_b_a_s_func)\n",
    "MN_b_b_s.on_changed(MN_b_b_s_func)\n",
    "MN_td_amp_s.on_changed(MN_td_amp_s_func)\n",
    "MN_td_a_s.on_changed(MN_td_a_s_func)\n",
    "MN_td_b_s.on_changed(MN_td_b_s_func)\n",
    "MN_tkd_amp_s.on_changed(MN_tkd_amp_s_func)\n",
    "MN_tkd_a_s.on_changed(MN_tkd_a_s_func)\n",
    "MN_tkd_b_s.on_changed(MN_tkd_b_s_func)\n",
    "NFW_amp_s.on_changed(NFW_amp_s_func)\n",
    "NFW_a_s.on_changed(NFW_a_s_func)\n",
    "BK_amp_s.on_changed(BK_amp_s_func)\n",
    "BK_a_s.on_changed(BK_a_s_func)\n",
    "MN_ed_amp_s.on_changed(MN_ed_amp_s_func)\n",
    "MN_ed_a_s.on_changed(MN_ed_a_s_func)"
   ]
  },
  {
   "cell_type": "code",
   "execution_count": 65,
   "metadata": {},
   "outputs": [
    {
     "data": {
      "text/plain": [
       "0"
      ]
     },
     "execution_count": 65,
     "metadata": {},
     "output_type": "execute_result"
    }
   ],
   "source": [
    "def reset(event):\n",
    "    MN_b_amp_s.reset()\n",
    "    MN_b_a_s.reset()\n",
    "    MN_b_b_s.reset()\n",
    "    MN_td_amp_s.reset()\n",
    "    MN_td_a_s.reset() \n",
    "    MN_td_b_s.reset()\n",
    "    MN_tkd_amp_s.reset()\n",
    "    MN_tkd_a_s.reset()\n",
    "    MN_tkd_b_s.reset()\n",
    "    MN_ed_amp_s.reset()\n",
    "    MN_ed_a_s.reset()\n",
    "    NFW_amp_s.reset()\n",
    "    NFW_a_s.reset()\n",
    "    BK_amp_s.reset()\n",
    "    BK_a_s.reset()\n",
    "\n",
    "axcolor=\"lavender\"\n",
    "resetax = fig.add_axes((0.07, 0.08, 0.08, 0.05))\n",
    "button_reset = Button(resetax, 'Reset', color=axcolor)\n",
    "button_reset.on_clicked(reset)"
   ]
  },
  {
   "cell_type": "code",
   "execution_count": 70,
   "metadata": {},
   "outputs": [
    {
     "data": {
      "text/plain": [
       "0"
      ]
     },
     "execution_count": 70,
     "metadata": {},
     "output_type": "execute_result"
    }
   ],
   "source": [
    "def check_on_clicked(label):\n",
    "\n",
    "    if label == 'MN Bulge (GRAY)':\n",
    "        MN_b_plot.set_visible(not MN_b_plot.get_visible())\n",
    "        update_rot_curve()\n",
    "    elif label == 'MN Thin Disc (PURPLE)':\n",
    "        MN_td_plot.set_visible(not MN_td_plot.get_visible())\n",
    "        update_rot_curve()\n",
    "    elif label == 'MN Thick Disc (BLUE)':\n",
    "        MN_tkd_plot.set_visible(not MN_tkd_plot.get_visible())\n",
    "        update_rot_curve()\n",
    "    elif label == 'Exp. Disc (CYAN)':\n",
    "        EX_d_plot.set_visible(not EX_d_plot.get_visible())\n",
    "        update_rot_curve()\n",
    "    elif label == 'NFW - Halo (GREEN)':\n",
    "        NFW_plot.set_visible(not NFW_plot.get_visible())\n",
    "        update_rot_curve()\n",
    "    elif label == 'Burkert - Halo (ORANGE)':\n",
    "        BK_plot.set_visible(not BK_plot.get_visible())\n",
    "        update_rot_curve()\n",
    "    plt.draw()\n",
    "\n",
    "#~~~~~~~~~~~~~~~~~~~~~~~~~~~~~~~~~~~~~~~~~~~~~~~~\n",
    "# Plotting all the curves\n",
    "\n",
    "ax.set_xlabel(r'$R(kpc)$', fontsize=20)\n",
    "ax.set_ylabel(r'$v_c(km/s)$', fontsize=20)\n",
    "ax.tick_params(axis='both', which='both', labelsize=15)\n",
    "#ax.xaxis.set_major_locator(ticker.MultipleLocator(5))\n",
    "#ax.set_xlim([0, np.max(lista)])\n",
    "#ax.set_ylim([0,np.max(v_c_data)*1.2])\n",
    "check.on_clicked(check_on_clicked)"
   ]
  },
  {
   "cell_type": "code",
   "execution_count": 68,
   "metadata": {},
   "outputs": [
    {
     "data": {
      "text/plain": [
       "<matplotlib.axes._axes.Axes at 0x120acb748>"
      ]
     },
     "execution_count": 68,
     "metadata": {},
     "output_type": "execute_result"
    }
   ],
   "source": [
    "ax"
   ]
  },
  {
   "cell_type": "code",
   "execution_count": null,
   "metadata": {},
   "outputs": [],
   "source": []
  }
 ],
 "metadata": {
  "kernelspec": {
   "display_name": "Python 3",
   "language": "python",
   "name": "python3"
  },
  "language_info": {
   "codemirror_mode": {
    "name": "ipython",
    "version": 3
   },
   "file_extension": ".py",
   "mimetype": "text/x-python",
   "name": "python",
   "nbconvert_exporter": "python",
   "pygments_lexer": "ipython3",
   "version": "3.7.3"
  }
 },
 "nbformat": 4,
 "nbformat_minor": 4
}
