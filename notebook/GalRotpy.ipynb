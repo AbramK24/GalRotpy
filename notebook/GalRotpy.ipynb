{
 "cells": [
  {
   "cell_type": "code",
   "execution_count": 1,
   "metadata": {},
   "outputs": [],
   "source": [
    "from matplotlib.widgets import Slider, Button, RadioButtons, CheckButtons, TextBox # Matplotlib widgets\n",
    "import matplotlib.pylab as plt # Plotting interface\n",
    "import numpy as np\n",
    "from galpy.potential import MiyamotoNagaiPotential, NFWPotential, RazorThinExponentialDiskPotential, BurkertPotential # GALPY potentials\n",
    "from galpy.potential import calcRotcurve # composed rotation curve calculation for plotting\n",
    "from astropy import units # Physical/real units data managing\n",
    "from astropy import table as Table # For fast and easy reading / writing with tables using numpy library\n",
    "import corner\n",
    "import time\n",
    "import pandas as pd\n",
    "import multiprocessing as mp\n",
    "from scipy.optimize import fsolve\n",
    "\n",
    "\n",
    "import ipywidgets as widgets\n"
   ]
  },
  {
   "cell_type": "code",
   "execution_count": 2,
   "metadata": {},
   "outputs": [],
   "source": [
    "\n",
    "def boolString_to_bool(boolString):\n",
    "    if boolString == 'True':\n",
    "        return True\n",
    "    elif boolString == 'False':\n",
    "        return False\n",
    "    else:\n",
    "        return None"
   ]
  },
  {
   "cell_type": "code",
   "execution_count": 3,
   "metadata": {},
   "outputs": [],
   "source": [
    "init_guess_params = Table.Table.read('../M33_guess_params.txt', format='ascii.tab')"
   ]
  },
  {
   "cell_type": "code",
   "execution_count": 4,
   "metadata": {},
   "outputs": [
    {
     "data": {
      "text/html": [
       "<div><i>Table length=6</i>\n",
       "<table id=\"table1964868179856\" class=\"table-striped table-bordered table-condensed\">\n",
       "<thead><tr><th>component</th><th>mass</th><th>a (kpc)</th><th>b (kpc)</th><th>checked</th></tr></thead>\n",
       "<thead><tr><th>str12</th><th>float64</th><th>float64</th><th>float64</th><th>str5</th></tr></thead>\n",
       "<tr><td>BULGE</td><td>110000000.0</td><td>0.0</td><td>0.495</td><td>False</td></tr>\n",
       "<tr><td>THIN DISC</td><td>38837296969.03567</td><td>10.069858729947157</td><td>2.499954901776149</td><td>True</td></tr>\n",
       "<tr><td>THICK DISC</td><td>39000000000.0</td><td>2.6</td><td>0.8</td><td>False</td></tr>\n",
       "<tr><td>EXP. DISC</td><td>500.0</td><td>5.3</td><td>0.0</td><td>False</td></tr>\n",
       "<tr><td>DARK HALO</td><td>1196921394849.7383</td><td>18.682199726086495</td><td>0.0</td><td>True</td></tr>\n",
       "<tr><td>BURKERT HALO</td><td>8000000.0</td><td>20.0</td><td>0.0</td><td>False</td></tr>\n",
       "</table></div>"
      ],
      "text/plain": [
       "<Table length=6>\n",
       " component          mass             a (kpc)            b (kpc)      checked\n",
       "   str12          float64            float64            float64        str5 \n",
       "------------ ------------------ ------------------ ----------------- -------\n",
       "       BULGE        110000000.0                0.0             0.495   False\n",
       "   THIN DISC  38837296969.03567 10.069858729947157 2.499954901776149    True\n",
       "  THICK DISC      39000000000.0                2.6               0.8   False\n",
       "   EXP. DISC              500.0                5.3               0.0   False\n",
       "   DARK HALO 1196921394849.7383 18.682199726086495               0.0    True\n",
       "BURKERT HALO          8000000.0               20.0               0.0   False"
      ]
     },
     "execution_count": 4,
     "metadata": {},
     "output_type": "execute_result"
    }
   ],
   "source": [
    "init_guess_params"
   ]
  },
  {
   "cell_type": "code",
   "execution_count": 5,
   "metadata": {},
   "outputs": [],
   "source": [
    "c_bulge, amp1, a1, b1, include_bulge = init_guess_params[0]\n",
    "c_tn, amp2, a2, b2, include_tn = init_guess_params[1]\n",
    "c_tk, amp3, a3, b3, include_tk = init_guess_params[2]\n",
    "c_ex, amp4, h_r, vertical_ex, include_ex = init_guess_params[3]\n",
    "c_dh, amp5, a5, b5, include_dh = init_guess_params[4]\n",
    "c_bh, amp6, a6, b6, include_bh = init_guess_params[5]"
   ]
  },
  {
   "cell_type": "code",
   "execution_count": 6,
   "metadata": {},
   "outputs": [],
   "source": [
    "visibility = [ boolString_to_bool(include_bulge), boolString_to_bool(include_tn), boolString_to_bool(include_tk), boolString_to_bool(include_ex), boolString_to_bool(include_dh), boolString_to_bool(include_bh)]"
   ]
  },
  {
   "cell_type": "code",
   "execution_count": 7,
   "metadata": {},
   "outputs": [
    {
     "ename": "FileNotFoundError",
     "evalue": "[Errno 2] No such file or directory: '../input_params.txt'",
     "output_type": "error",
     "traceback": [
      "\u001b[1;31m---------------------------------------------------------------------------\u001b[0m",
      "\u001b[1;31mFileNotFoundError\u001b[0m                         Traceback (most recent call last)",
      "Cell \u001b[1;32mIn[7], line 1\u001b[0m\n\u001b[1;32m----> 1\u001b[0m input_params\u001b[39m=\u001b[39mTable\u001b[39m.\u001b[39;49mTable\u001b[39m.\u001b[39;49mread(\u001b[39m'\u001b[39;49m\u001b[39m../input_params.txt\u001b[39;49m\u001b[39m'\u001b[39;49m, \u001b[39mformat\u001b[39;49m\u001b[39m=\u001b[39;49m\u001b[39m'\u001b[39;49m\u001b[39mascii.tab\u001b[39;49m\u001b[39m'\u001b[39;49m) \u001b[39m# Initial parameters\u001b[39;00m\n\u001b[0;32m      2\u001b[0m input_params\n",
      "File \u001b[1;32mc:\\Users\\Abram\\anaconda3\\lib\\site-packages\\astropy\\table\\connect.py:62\u001b[0m, in \u001b[0;36mTableRead.__call__\u001b[1;34m(self, *args, **kwargs)\u001b[0m\n\u001b[0;32m     59\u001b[0m units \u001b[39m=\u001b[39m kwargs\u001b[39m.\u001b[39mpop(\u001b[39m\"\u001b[39m\u001b[39munits\u001b[39m\u001b[39m\"\u001b[39m, \u001b[39mNone\u001b[39;00m)\n\u001b[0;32m     60\u001b[0m descriptions \u001b[39m=\u001b[39m kwargs\u001b[39m.\u001b[39mpop(\u001b[39m\"\u001b[39m\u001b[39mdescriptions\u001b[39m\u001b[39m\"\u001b[39m, \u001b[39mNone\u001b[39;00m)\n\u001b[1;32m---> 62\u001b[0m out \u001b[39m=\u001b[39m \u001b[39mself\u001b[39m\u001b[39m.\u001b[39mregistry\u001b[39m.\u001b[39mread(\u001b[39mcls\u001b[39m, \u001b[39m*\u001b[39margs, \u001b[39m*\u001b[39m\u001b[39m*\u001b[39mkwargs)\n\u001b[0;32m     64\u001b[0m \u001b[39m# For some readers (e.g., ascii.ecsv), the returned `out` class is not\u001b[39;00m\n\u001b[0;32m     65\u001b[0m \u001b[39m# guaranteed to be the same as the desired output `cls`.  If so,\u001b[39;00m\n\u001b[0;32m     66\u001b[0m \u001b[39m# try coercing to desired class without copying (io.registry.read\u001b[39;00m\n\u001b[0;32m     67\u001b[0m \u001b[39m# would normally do a copy).  The normal case here is swapping\u001b[39;00m\n\u001b[0;32m     68\u001b[0m \u001b[39m# Table <=> QTable.\u001b[39;00m\n\u001b[0;32m     69\u001b[0m \u001b[39mif\u001b[39;00m \u001b[39mcls\u001b[39m \u001b[39mis\u001b[39;00m \u001b[39mnot\u001b[39;00m out\u001b[39m.\u001b[39m\u001b[39m__class__\u001b[39m:\n",
      "File \u001b[1;32mc:\\Users\\Abram\\anaconda3\\lib\\site-packages\\astropy\\io\\registry\\core.py:218\u001b[0m, in \u001b[0;36mUnifiedInputRegistry.read\u001b[1;34m(self, cls, format, cache, *args, **kwargs)\u001b[0m\n\u001b[0;32m    213\u001b[0m     \u001b[39mformat\u001b[39m \u001b[39m=\u001b[39m \u001b[39mself\u001b[39m\u001b[39m.\u001b[39m_get_valid_format(\n\u001b[0;32m    214\u001b[0m         \u001b[39m\"\u001b[39m\u001b[39mread\u001b[39m\u001b[39m\"\u001b[39m, \u001b[39mcls\u001b[39m, path, fileobj, args, kwargs\n\u001b[0;32m    215\u001b[0m     )\n\u001b[0;32m    217\u001b[0m reader \u001b[39m=\u001b[39m \u001b[39mself\u001b[39m\u001b[39m.\u001b[39mget_reader(\u001b[39mformat\u001b[39m, \u001b[39mcls\u001b[39m)\n\u001b[1;32m--> 218\u001b[0m data \u001b[39m=\u001b[39m reader(\u001b[39m*\u001b[39margs, \u001b[39m*\u001b[39m\u001b[39m*\u001b[39mkwargs)\n\u001b[0;32m    220\u001b[0m \u001b[39mif\u001b[39;00m \u001b[39mnot\u001b[39;00m \u001b[39misinstance\u001b[39m(data, \u001b[39mcls\u001b[39m):\n\u001b[0;32m    221\u001b[0m     \u001b[39m# User has read with a subclass where only the parent class is\u001b[39;00m\n\u001b[0;32m    222\u001b[0m     \u001b[39m# registered.  This returns the parent class, so try coercing\u001b[39;00m\n\u001b[0;32m    223\u001b[0m     \u001b[39m# to desired subclass.\u001b[39;00m\n\u001b[0;32m    224\u001b[0m     \u001b[39mtry\u001b[39;00m:\n",
      "File \u001b[1;32mc:\\Users\\Abram\\anaconda3\\lib\\site-packages\\astropy\\io\\ascii\\connect.py:19\u001b[0m, in \u001b[0;36mio_read\u001b[1;34m(format, filename, **kwargs)\u001b[0m\n\u001b[0;32m     17\u001b[0m     \u001b[39mformat\u001b[39m \u001b[39m=\u001b[39m re\u001b[39m.\u001b[39msub(\u001b[39mr\u001b[39m\u001b[39m\"\u001b[39m\u001b[39m^ascii\u001b[39m\u001b[39m\\\u001b[39m\u001b[39m.\u001b[39m\u001b[39m\"\u001b[39m, \u001b[39m\"\u001b[39m\u001b[39m\"\u001b[39m, \u001b[39mformat\u001b[39m)\n\u001b[0;32m     18\u001b[0m     kwargs[\u001b[39m\"\u001b[39m\u001b[39mformat\u001b[39m\u001b[39m\"\u001b[39m] \u001b[39m=\u001b[39m \u001b[39mformat\u001b[39m\n\u001b[1;32m---> 19\u001b[0m \u001b[39mreturn\u001b[39;00m read(filename, \u001b[39m*\u001b[39m\u001b[39m*\u001b[39mkwargs)\n",
      "File \u001b[1;32mc:\\Users\\Abram\\anaconda3\\lib\\site-packages\\astropy\\io\\ascii\\ui.py:374\u001b[0m, in \u001b[0;36mread\u001b[1;34m(table, guess, **kwargs)\u001b[0m\n\u001b[0;32m    368\u001b[0m             new_kwargs[\u001b[39m\"\u001b[39m\u001b[39mguess_html\u001b[39m\u001b[39m\"\u001b[39m] \u001b[39m=\u001b[39m _probably_html(table)\n\u001b[0;32m    370\u001b[0m \u001b[39m# Get the table from guess in ``dat``.  If ``dat`` comes back as None\u001b[39;00m\n\u001b[0;32m    371\u001b[0m \u001b[39m# then there was just one set of kwargs in the guess list so fall\u001b[39;00m\n\u001b[0;32m    372\u001b[0m \u001b[39m# through below to the non-guess way so that any problems result in a\u001b[39;00m\n\u001b[0;32m    373\u001b[0m \u001b[39m# more useful traceback.\u001b[39;00m\n\u001b[1;32m--> 374\u001b[0m dat \u001b[39m=\u001b[39m _guess(table, new_kwargs, \u001b[39mformat\u001b[39;49m, fast_reader)\n\u001b[0;32m    375\u001b[0m \u001b[39mif\u001b[39;00m dat \u001b[39mis\u001b[39;00m \u001b[39mNone\u001b[39;00m:\n\u001b[0;32m    376\u001b[0m     guess \u001b[39m=\u001b[39m \u001b[39mFalse\u001b[39;00m\n",
      "File \u001b[1;32mc:\\Users\\Abram\\anaconda3\\lib\\site-packages\\astropy\\io\\ascii\\ui.py:581\u001b[0m, in \u001b[0;36m_guess\u001b[1;34m(table, read_kwargs, format, fast_reader)\u001b[0m\n\u001b[0;32m    578\u001b[0m reader \u001b[39m=\u001b[39m get_reader(\u001b[39m*\u001b[39m\u001b[39m*\u001b[39mguess_kwargs)\n\u001b[0;32m    580\u001b[0m reader\u001b[39m.\u001b[39mguessing \u001b[39m=\u001b[39m \u001b[39mTrue\u001b[39;00m\n\u001b[1;32m--> 581\u001b[0m dat \u001b[39m=\u001b[39m reader\u001b[39m.\u001b[39;49mread(table)\n\u001b[0;32m    582\u001b[0m _read_trace\u001b[39m.\u001b[39mappend(\n\u001b[0;32m    583\u001b[0m     {\n\u001b[0;32m    584\u001b[0m         \u001b[39m\"\u001b[39m\u001b[39mkwargs\u001b[39m\u001b[39m\"\u001b[39m: copy\u001b[39m.\u001b[39mdeepcopy(guess_kwargs),\n\u001b[1;32m   (...)\u001b[0m\n\u001b[0;32m    588\u001b[0m     }\n\u001b[0;32m    589\u001b[0m )\n\u001b[0;32m    590\u001b[0m \u001b[39mreturn\u001b[39;00m dat\n",
      "File \u001b[1;32mc:\\Users\\Abram\\anaconda3\\lib\\site-packages\\astropy\\io\\ascii\\fastbasic.py:131\u001b[0m, in \u001b[0;36mFastBasic.read\u001b[1;34m(self, table)\u001b[0m\n\u001b[0;32m    128\u001b[0m \u001b[39m# Put fast_reader dict back into kwargs.\u001b[39;00m\n\u001b[0;32m    129\u001b[0m \u001b[39mself\u001b[39m\u001b[39m.\u001b[39mkwargs[\u001b[39m\"\u001b[39m\u001b[39mfast_reader\u001b[39m\u001b[39m\"\u001b[39m] \u001b[39m=\u001b[39m fast_reader\n\u001b[1;32m--> 131\u001b[0m \u001b[39mself\u001b[39m\u001b[39m.\u001b[39mengine \u001b[39m=\u001b[39m cparser\u001b[39m.\u001b[39mCParser(\n\u001b[0;32m    132\u001b[0m     table,\n\u001b[0;32m    133\u001b[0m     \u001b[39mself\u001b[39m\u001b[39m.\u001b[39mstrip_whitespace_lines,\n\u001b[0;32m    134\u001b[0m     \u001b[39mself\u001b[39m\u001b[39m.\u001b[39mstrip_whitespace_fields,\n\u001b[0;32m    135\u001b[0m     delimiter\u001b[39m=\u001b[39m\u001b[39mself\u001b[39m\u001b[39m.\u001b[39mdelimiter,\n\u001b[0;32m    136\u001b[0m     header_start\u001b[39m=\u001b[39m\u001b[39mself\u001b[39m\u001b[39m.\u001b[39mheader_start,\n\u001b[0;32m    137\u001b[0m     comment\u001b[39m=\u001b[39m\u001b[39mself\u001b[39m\u001b[39m.\u001b[39mcomment,\n\u001b[0;32m    138\u001b[0m     quotechar\u001b[39m=\u001b[39m\u001b[39mself\u001b[39m\u001b[39m.\u001b[39mquotechar,\n\u001b[0;32m    139\u001b[0m     data_start\u001b[39m=\u001b[39m\u001b[39mself\u001b[39m\u001b[39m.\u001b[39mdata_start,\n\u001b[0;32m    140\u001b[0m     fill_extra_cols\u001b[39m=\u001b[39m\u001b[39mself\u001b[39m\u001b[39m.\u001b[39mfill_extra_cols,\n\u001b[0;32m    141\u001b[0m     \u001b[39m*\u001b[39m\u001b[39m*\u001b[39m\u001b[39mself\u001b[39m\u001b[39m.\u001b[39mkwargs,\n\u001b[0;32m    142\u001b[0m )\n\u001b[0;32m    143\u001b[0m conversion_info \u001b[39m=\u001b[39m \u001b[39mself\u001b[39m\u001b[39m.\u001b[39m_read_header()\n\u001b[0;32m    144\u001b[0m \u001b[39mself\u001b[39m\u001b[39m.\u001b[39mcheck_header()\n",
      "File \u001b[1;32mastropy\\io\\ascii\\cparser.pyx:254\u001b[0m, in \u001b[0;36mastropy.io.ascii.cparser.CParser.__cinit__\u001b[1;34m()\u001b[0m\n",
      "File \u001b[1;32mastropy\\io\\ascii\\cparser.pyx:302\u001b[0m, in \u001b[0;36mastropy.io.ascii.cparser.CParser.setup_tokenizer\u001b[1;34m()\u001b[0m\n",
      "File \u001b[1;32mastropy\\io\\ascii\\cparser.pyx:130\u001b[0m, in \u001b[0;36mastropy.io.ascii.cparser.FileString.__cinit__\u001b[1;34m()\u001b[0m\n",
      "\u001b[1;31mFileNotFoundError\u001b[0m: [Errno 2] No such file or directory: '../input_params.txt'"
     ]
    }
   ],
   "source": [
    "input_params=Table.Table.read('../input_params.txt', format='ascii.tab') # Initial parameters\n",
    "input_params"
   ]
  },
  {
   "cell_type": "code",
   "execution_count": null,
   "metadata": {},
   "outputs": [],
   "source": [
    "tt=Table.Table.read('../M31_rot_curve.txt', format='ascii.tab') # Rotation curve\n",
    "\n",
    "x_offset = 0.0  # It defines a radial coordinate offset as user input\n",
    "r_0=1*units.kpc # units \n",
    "v_0=220*units.km/units.s # units \n",
    "\n",
    "# Real data:\n",
    "r_data=tt['r']-x_offset # The txt file must contain the radial coordinate values in kpc\n",
    "v_c_data=tt['vel'] # velocity in km/s\n",
    "v_c_err_data = tt['e_vel'] # and velocity error in km/s\n",
    "\n",
    "# This loop is needed since galpy fails when r=0 or very close to 0\n",
    "for i in range(len(r_data)):\n",
    "    if r_data[i]<1e-3:\n",
    "        r_data[i]=1e-3\n",
    "\n"
   ]
  },
  {
   "cell_type": "code",
   "execution_count": null,
   "metadata": {},
   "outputs": [
    {
     "data": {
      "text/html": [
       "<div><i>Table length=28</i>\n",
       "<table id=\"table2527958392208\" class=\"table-striped table-bordered table-condensed\">\n",
       "<thead><tr><th>r</th><th>r2</th><th>vel</th><th>e_vel</th></tr></thead>\n",
       "<thead><tr><th>float64</th><th>float64</th><th>float64</th><th>float64</th></tr></thead>\n",
       "<tr><td>25.0</td><td>5.68</td><td>235.5</td><td>17.8</td></tr>\n",
       "<tr><td>30.0</td><td>6.81</td><td>242.9</td><td>0.8</td></tr>\n",
       "<tr><td>35.0</td><td>7.95</td><td>251.1</td><td>0.7</td></tr>\n",
       "<tr><td>40.0</td><td>9.08</td><td>262.0</td><td>2.1</td></tr>\n",
       "<tr><td>45.0</td><td>10.22</td><td>258.9</td><td>6.9</td></tr>\n",
       "<tr><td>50.0</td><td>11.35</td><td>255.1</td><td>5.7</td></tr>\n",
       "<tr><td>55.0</td><td>12.49</td><td>251.8</td><td>17.1</td></tr>\n",
       "<tr><td>60.0</td><td>13.62</td><td>252.1</td><td>7.4</td></tr>\n",
       "<tr><td>65.0</td><td>14.76</td><td>251.0</td><td>18.6</td></tr>\n",
       "<tr><td>70.0</td><td>15.89</td><td>245.5</td><td>28.8</td></tr>\n",
       "<tr><td>...</td><td>...</td><td>...</td><td>...</td></tr>\n",
       "<tr><td>112.5</td><td>25.54</td><td>227.4</td><td>28.8</td></tr>\n",
       "<tr><td>117.0</td><td>26.56</td><td>225.6</td><td>28.8</td></tr>\n",
       "<tr><td>121.5</td><td>27.58</td><td>224.4</td><td>28.8</td></tr>\n",
       "<tr><td>126.0</td><td>28.6</td><td>222.3</td><td>28.8</td></tr>\n",
       "<tr><td>130.5</td><td>29.62</td><td>222.1</td><td>28.8</td></tr>\n",
       "<tr><td>135.0</td><td>30.65</td><td>224.9</td><td>28.8</td></tr>\n",
       "<tr><td>139.5</td><td>31.67</td><td>228.1</td><td>28.8</td></tr>\n",
       "<tr><td>144.0</td><td>32.69</td><td>231.1</td><td>28.8</td></tr>\n",
       "<tr><td>148.5</td><td>33.71</td><td>230.4</td><td>28.8</td></tr>\n",
       "<tr><td>153.0</td><td>34.73</td><td>226.8</td><td>28.8</td></tr>\n",
       "</table></div>"
      ],
      "text/plain": [
       "<Table length=28>\n",
       "   r       r2     vel    e_vel \n",
       "float64 float64 float64 float64\n",
       "------- ------- ------- -------\n",
       "   25.0    5.68   235.5    17.8\n",
       "   30.0    6.81   242.9     0.8\n",
       "   35.0    7.95   251.1     0.7\n",
       "   40.0    9.08   262.0     2.1\n",
       "   45.0   10.22   258.9     6.9\n",
       "   50.0   11.35   255.1     5.7\n",
       "   55.0   12.49   251.8    17.1\n",
       "   60.0   13.62   252.1     7.4\n",
       "   65.0   14.76   251.0    18.6\n",
       "   70.0   15.89   245.5    28.8\n",
       "    ...     ...     ...     ...\n",
       "  112.5   25.54   227.4    28.8\n",
       "  117.0   26.56   225.6    28.8\n",
       "  121.5   27.58   224.4    28.8\n",
       "  126.0    28.6   222.3    28.8\n",
       "  130.5   29.62   222.1    28.8\n",
       "  135.0   30.65   224.9    28.8\n",
       "  139.5   31.67   228.1    28.8\n",
       "  144.0   32.69   231.1    28.8\n",
       "  148.5   33.71   230.4    28.8\n",
       "  153.0   34.73   226.8    28.8"
      ]
     },
     "execution_count": 9,
     "metadata": {},
     "output_type": "execute_result"
    }
   ],
   "source": [
    "tt"
   ]
  },
  {
   "cell_type": "code",
   "execution_count": null,
   "metadata": {},
   "outputs": [
    {
     "data": {
      "text/plain": [
       "array([1.00000000e-03, 5.60351254e-01, 1.11970251e+00, 1.67905376e+00,\n",
       "       2.23840502e+00, 2.79775627e+00, 3.35710753e+00, 3.91645878e+00,\n",
       "       4.47581004e+00, 5.03516129e+00, 5.59451254e+00, 6.15386380e+00,\n",
       "       6.71321505e+00, 7.27256631e+00, 7.83191756e+00, 8.39126882e+00,\n",
       "       8.95062007e+00, 9.50997133e+00, 1.00693226e+01, 1.06286738e+01,\n",
       "       1.11880251e+01, 1.17473763e+01, 1.23067276e+01, 1.28660789e+01,\n",
       "       1.34254301e+01, 1.39847814e+01, 1.45441326e+01, 1.51034839e+01,\n",
       "       1.56628351e+01, 1.62221864e+01, 1.67815376e+01, 1.73408889e+01,\n",
       "       1.79002401e+01, 1.84595914e+01, 1.90189427e+01, 1.95782939e+01,\n",
       "       2.01376452e+01, 2.06969964e+01, 2.12563477e+01, 2.18156989e+01,\n",
       "       2.23750502e+01, 2.29344014e+01, 2.34937527e+01, 2.40531039e+01,\n",
       "       2.46124552e+01, 2.51718065e+01, 2.57311577e+01, 2.62905090e+01,\n",
       "       2.68498602e+01, 2.74092115e+01, 2.79685627e+01, 2.85279140e+01,\n",
       "       2.90872652e+01, 2.96466165e+01, 3.02059677e+01, 3.07653190e+01,\n",
       "       3.13246703e+01, 3.18840215e+01, 3.24433728e+01, 3.30027240e+01,\n",
       "       3.35620753e+01, 3.41214265e+01, 3.46807778e+01, 3.52401290e+01,\n",
       "       3.57994803e+01, 3.63588315e+01, 3.69181828e+01, 3.74775341e+01,\n",
       "       3.80368853e+01, 3.85962366e+01, 3.91555878e+01, 3.97149391e+01,\n",
       "       4.02742903e+01, 4.08336416e+01, 4.13929928e+01, 4.19523441e+01,\n",
       "       4.25116953e+01, 4.30710466e+01, 4.36303978e+01, 4.41897491e+01,\n",
       "       4.47491004e+01, 4.53084516e+01, 4.58678029e+01, 4.64271541e+01,\n",
       "       4.69865054e+01, 4.75458566e+01, 4.81052079e+01, 4.86645591e+01,\n",
       "       4.92239104e+01, 4.97832616e+01, 5.03426129e+01, 5.09019642e+01,\n",
       "       5.14613154e+01, 5.20206667e+01, 5.25800179e+01, 5.31393692e+01,\n",
       "       5.36987204e+01, 5.42580717e+01, 5.48174229e+01, 5.53767742e+01,\n",
       "       5.59361254e+01, 5.64954767e+01, 5.70548280e+01, 5.76141792e+01,\n",
       "       5.81735305e+01, 5.87328817e+01, 5.92922330e+01, 5.98515842e+01,\n",
       "       6.04109355e+01, 6.09702867e+01, 6.15296380e+01, 6.20889892e+01,\n",
       "       6.26483405e+01, 6.32076918e+01, 6.37670430e+01, 6.43263943e+01,\n",
       "       6.48857455e+01, 6.54450968e+01, 6.60044480e+01, 6.65637993e+01,\n",
       "       6.71231505e+01, 6.76825018e+01, 6.82418530e+01, 6.88012043e+01,\n",
       "       6.93605556e+01, 6.99199068e+01, 7.04792581e+01, 7.10386093e+01,\n",
       "       7.15979606e+01, 7.21573118e+01, 7.27166631e+01, 7.32760143e+01,\n",
       "       7.38353656e+01, 7.43947168e+01, 7.49540681e+01, 7.55134194e+01,\n",
       "       7.60727706e+01, 7.66321219e+01, 7.71914731e+01, 7.77508244e+01,\n",
       "       7.83101756e+01, 7.88695269e+01, 7.94288781e+01, 7.99882294e+01,\n",
       "       8.05475806e+01, 8.11069319e+01, 8.16662832e+01, 8.22256344e+01,\n",
       "       8.27849857e+01, 8.33443369e+01, 8.39036882e+01, 8.44630394e+01,\n",
       "       8.50223907e+01, 8.55817419e+01, 8.61410932e+01, 8.67004444e+01,\n",
       "       8.72597957e+01, 8.78191470e+01, 8.83784982e+01, 8.89378495e+01,\n",
       "       8.94972007e+01, 9.00565520e+01, 9.06159032e+01, 9.11752545e+01,\n",
       "       9.17346057e+01, 9.22939570e+01, 9.28533082e+01, 9.34126595e+01,\n",
       "       9.39720108e+01, 9.45313620e+01, 9.50907133e+01, 9.56500645e+01,\n",
       "       9.62094158e+01, 9.67687670e+01, 9.73281183e+01, 9.78874695e+01,\n",
       "       9.84468208e+01, 9.90061720e+01, 9.95655233e+01, 1.00124875e+02,\n",
       "       1.00684226e+02, 1.01243577e+02, 1.01802928e+02, 1.02362280e+02,\n",
       "       1.02921631e+02, 1.03480982e+02, 1.04040333e+02, 1.04599685e+02,\n",
       "       1.05159036e+02, 1.05718387e+02, 1.06277738e+02, 1.06837090e+02,\n",
       "       1.07396441e+02, 1.07955792e+02, 1.08515143e+02, 1.09074495e+02,\n",
       "       1.09633846e+02, 1.10193197e+02, 1.10752548e+02, 1.11311900e+02,\n",
       "       1.11871251e+02, 1.12430602e+02, 1.12989953e+02, 1.13549305e+02,\n",
       "       1.14108656e+02, 1.14668007e+02, 1.15227358e+02, 1.15786710e+02,\n",
       "       1.16346061e+02, 1.16905412e+02, 1.17464763e+02, 1.18024115e+02,\n",
       "       1.18583466e+02, 1.19142817e+02, 1.19702168e+02, 1.20261520e+02,\n",
       "       1.20820871e+02, 1.21380222e+02, 1.21939573e+02, 1.22498925e+02,\n",
       "       1.23058276e+02, 1.23617627e+02, 1.24176978e+02, 1.24736330e+02,\n",
       "       1.25295681e+02, 1.25855032e+02, 1.26414384e+02, 1.26973735e+02,\n",
       "       1.27533086e+02, 1.28092437e+02, 1.28651789e+02, 1.29211140e+02,\n",
       "       1.29770491e+02, 1.30329842e+02, 1.30889194e+02, 1.31448545e+02,\n",
       "       1.32007896e+02, 1.32567247e+02, 1.33126599e+02, 1.33685950e+02,\n",
       "       1.34245301e+02, 1.34804652e+02, 1.35364004e+02, 1.35923355e+02,\n",
       "       1.36482706e+02, 1.37042057e+02, 1.37601409e+02, 1.38160760e+02,\n",
       "       1.38720111e+02, 1.39279462e+02, 1.39838814e+02, 1.40398165e+02,\n",
       "       1.40957516e+02, 1.41516867e+02, 1.42076219e+02, 1.42635570e+02,\n",
       "       1.43194921e+02, 1.43754272e+02, 1.44313624e+02, 1.44872975e+02,\n",
       "       1.45432326e+02, 1.45991677e+02, 1.46551029e+02, 1.47110380e+02,\n",
       "       1.47669731e+02, 1.48229082e+02, 1.48788434e+02, 1.49347785e+02,\n",
       "       1.49907136e+02, 1.50466487e+02, 1.51025839e+02, 1.51585190e+02,\n",
       "       1.52144541e+02, 1.52703892e+02, 1.53263244e+02, 1.53822595e+02,\n",
       "       1.54381946e+02, 1.54941297e+02, 1.55500649e+02, 1.56060000e+02])"
      ]
     },
     "execution_count": 10,
     "metadata": {},
     "output_type": "execute_result"
    }
   ],
   "source": [
    "lista=np.linspace(0.001, 1.02*np.max(r_data), 10*len(r_data)) # radial coordinate for the rotation curve calculation\n",
    "lista"
   ]
  },
  {
   "cell_type": "code",
   "execution_count": null,
   "metadata": {},
   "outputs": [],
   "source": [
    "class MiyamotoNagaiP:\n",
    "    def __init__(self, dict_params):\n",
    "        self.amp = dict_params['amp']\n",
    "        self.a = dict_params['a']\n",
    "        self.b = dict_params['b']\n",
    "    \n",
    "    def __str__(self):\n",
    "        return f\"amp={self.amp}, a={self.a}, b={self.b}\"\n",
    "    \n",
    "    def __repr__(self):\n",
    "        return f\"amp={self.amp}, a={self.a}, b={self.b}\"\n",
    "        \n",
    "class MassScaleP:\n",
    "    def __init__(self, dict_params):\n",
    "        self.amp = dict_params['amp']\n",
    "        self.a = dict_params['a']\n",
    "    \n",
    "    def __str__(self):\n",
    "        return f\"amp={self.amp}, a={self.a}\"\n",
    "    \n",
    "    def __repr__(self):\n",
    "        return f\"amp={self.amp}, a={self.a}\"\n",
    "        "
   ]
  },
  {
   "cell_type": "code",
   "execution_count": null,
   "metadata": {},
   "outputs": [
    {
     "data": {
      "application/vnd.jupyter.widget-view+json": {
       "model_id": "da1d6ae31a5c43fc8e1af0163ab98551",
       "version_major": 2,
       "version_minor": 0
      },
      "text/plain": [
       "HBox(children=(FloatSlider(value=11000000.0, max=1100000000.0, min=11000000.0, step=11000000.0), FloatSlider(v…"
      ]
     },
     "metadata": {},
     "output_type": "display_data"
    },
    {
     "data": {
      "application/vnd.jupyter.widget-view+json": {
       "model_id": "ab4888f6c4464986b8109cb8391a133a",
       "version_major": 2,
       "version_minor": 0
      },
      "text/plain": [
       "Output()"
      ]
     },
     "metadata": {},
     "output_type": "display_data"
    }
   ],
   "source": [
    "amp1 = widgets.FloatSlider(min=110000000.0*10**(-1), max=110000000.0*10**(1), step=110000000.0*0.1)\n",
    "b1 = widgets.FloatSlider(min=0.495*(100-70)/100, max=0.495*(100+70)/100, step=0.495*0.1)\n",
    "ui = widgets.HBox([amp1, b1])\n",
    "def f(amp1, b1):\n",
    "    global bulge_potential\n",
    "    bulge_dict = {'amp': amp1, 'a':0, 'b': b1 }\n",
    "    bulge_potential = MiyamotoNagaiP(bulge_dict)\n",
    "    print((amp1, b1))\n",
    "bulge_params = widgets.interactive_output(f, {'amp1': amp1, 'b1': b1})\n",
    "display(ui, bulge_params)"
   ]
  },
  {
   "cell_type": "code",
   "execution_count": null,
   "metadata": {},
   "outputs": [
    {
     "data": {
      "application/vnd.jupyter.widget-view+json": {
       "model_id": "3abb54a1f0bc46ea828867bdbfa3ad94",
       "version_major": 2,
       "version_minor": 0
      },
      "text/plain": [
       "HBox(children=(FloatSlider(value=390000000.0, max=39000000000.0, min=390000000.0, step=390000000.0), FloatSlid…"
      ]
     },
     "metadata": {},
     "output_type": "display_data"
    },
    {
     "data": {
      "application/vnd.jupyter.widget-view+json": {
       "model_id": "f20a3b05facb4a07940283606e36f46b",
       "version_major": 2,
       "version_minor": 0
      },
      "text/plain": [
       "Output()"
      ]
     },
     "metadata": {},
     "output_type": "display_data"
    }
   ],
   "source": [
    "amp2 = widgets.FloatSlider(min=3900000000.0*10**(-1), max=3900000000.0*10**(1), step=3900000000.0*0.1)\n",
    "a2 = widgets.FloatSlider(min=5.3*(100-90)/100, max=5.3*(100+90)/100, step=5.3*0.1)\n",
    "b2 = widgets.FloatSlider(min=0.25*(100-90)/100, max=0.25*(100+90)/100, step=0.25*0.1)\n",
    "ui = widgets.HBox([amp2, a2, b2])\n",
    "def f(amp2, a2, b2):\n",
    "    global thin_disk_potential\n",
    "    thin_disk_dict = {'amp': amp2, 'a':a2, 'b': b2 }\n",
    "    thin_disk_potential = MiyamotoNagaiP(thin_disk_dict)\n",
    "    print((amp2, a2, b2))\n",
    "\n",
    "thin_disk_params = widgets.interactive_output(f, {'amp2': amp2, 'a2': a2, 'b2': b2})\n",
    "\n",
    "display(ui, thin_disk_params)\n",
    "\n"
   ]
  },
  {
   "cell_type": "code",
   "execution_count": null,
   "metadata": {},
   "outputs": [
    {
     "data": {
      "application/vnd.jupyter.widget-view+json": {
       "model_id": "d8f2d1718b364ec1aad2fdc962c7a9a2",
       "version_major": 2,
       "version_minor": 0
      },
      "text/plain": [
       "HBox(children=(FloatSlider(value=12332882874.65668, max=123328828746.5668, min=12332882874.65668, step=3900000…"
      ]
     },
     "metadata": {},
     "output_type": "display_data"
    },
    {
     "data": {
      "application/vnd.jupyter.widget-view+json": {
       "model_id": "f20a3b05facb4a07940283606e36f46b",
       "version_major": 2,
       "version_minor": 0
      },
      "text/plain": [
       "Output(outputs=({'name': 'stdout', 'text': '(390000000.0, 0.53, 0.025)\\n', 'output_type': 'stream'},))"
      ]
     },
     "metadata": {},
     "output_type": "display_data"
    }
   ],
   "source": [
    "amp3 = widgets.FloatSlider(min=39000000000.0*10**(-0.5), max=39000000000.0*10**(0.5), step=39000000000.0*0.1)\n",
    "a3 = widgets.FloatSlider(min=2.6*(100-20)/100, max=2.6*(100+20)/100, step=2.6*0.1)\n",
    "b3 = widgets.FloatSlider(min=0.8*(100-90)/100, max=0.8*(100+90)/100, step=0.8*0.1)\n",
    "ui = widgets.HBox([amp3, a3, b3])\n",
    "def f(amp3, a3, b3):\n",
    "    global thick_disk_potential\n",
    "    thick_disk_dict = {'amp': amp3, 'a':a3, 'b': b3 }\n",
    "    thick_disk_potential = MiyamotoNagaiP(thick_disk_dict)\n",
    "    print((amp3, a3, b3))\n",
    "\n",
    "thick_disk_params = widgets.interactive_output(f, {'amp3': amp3, 'a3': a3, 'b3': b3})\n",
    "\n",
    "display(ui, thin_disk_params)\n"
   ]
  },
  {
   "cell_type": "code",
   "execution_count": null,
   "metadata": {},
   "outputs": [
    {
     "data": {
      "application/vnd.jupyter.widget-view+json": {
       "model_id": "a6d7426cfa234a8ca1fd4dcbc6cdf950",
       "version_major": 2,
       "version_minor": 0
      },
      "text/plain": [
       "HBox(children=(FloatSlider(value=158.11388300841898, max=1581.1388300841897, min=158.11388300841898, step=50.0…"
      ]
     },
     "metadata": {},
     "output_type": "display_data"
    },
    {
     "data": {
      "application/vnd.jupyter.widget-view+json": {
       "model_id": "d13e0644b1f24b9bb8818ac53b5cffed",
       "version_major": 2,
       "version_minor": 0
      },
      "text/plain": [
       "Output()"
      ]
     },
     "metadata": {},
     "output_type": "display_data"
    }
   ],
   "source": [
    "amp4 = widgets.FloatSlider(min=500.0*10**(-0.5), max=500.0*10**(0.5), step=500.0*0.1)\n",
    "h_r = widgets.FloatSlider(min=5.3*(100-90)/100, max=5.3*(100+90)/100, step=5.3*0.1)\n",
    "ui = widgets.HBox([amp4, h_r ])\n",
    "def f(amp4, h_r):\n",
    "    global exp_disk_potential\n",
    "    exp_disk_dict = {'amp': amp4, 'a': h_r}\n",
    "    exp_disk_potential = MassScaleP(exp_disk_dict)\n",
    "    print((amp4, h_r))\n",
    "exp_disk_params = widgets.interactive_output(f, {'amp4': amp4, 'h_r': h_r})\n",
    "display(ui, exp_disk_params)"
   ]
  },
  {
   "cell_type": "code",
   "execution_count": null,
   "metadata": {},
   "outputs": [
    {
     "data": {
      "application/vnd.jupyter.widget-view+json": {
       "model_id": "f66b2a93a0684f12a2b297566a3f1aeb",
       "version_major": 2,
       "version_minor": 0
      },
      "text/plain": [
       "HBox(children=(FloatSlider(value=14000000000.0, max=1400000000000.0, min=14000000000.0, step=14000000000.0), F…"
      ]
     },
     "metadata": {},
     "output_type": "display_data"
    },
    {
     "data": {
      "application/vnd.jupyter.widget-view+json": {
       "model_id": "50725b2b63614a329e9f628945a006b9",
       "version_major": 2,
       "version_minor": 0
      },
      "text/plain": [
       "Output()"
      ]
     },
     "metadata": {},
     "output_type": "display_data"
    }
   ],
   "source": [
    "amp5 = widgets.FloatSlider(min=140000000000.0*10**(-1), max=140000000000.0*10**(1), step=140000000000.0*0.1)\n",
    "a5 = widgets.FloatSlider(min=13*(100-90)/100, max=13*(100+90)/100, step=13*0.1)\n",
    "ui = widgets.HBox([amp5, a5 ])\n",
    "def f(amp5, a5):\n",
    "    global dark_halo_potential\n",
    "    dark_halo_dict = {'amp': amp5, 'a': a5}\n",
    "    dark_halo_potential = MassScaleP(dark_halo_dict)\n",
    "    print((amp5, a5))\n",
    "dark_halo_params = widgets.interactive_output(f, {'amp5': amp5, 'a5': a5})\n",
    "display(ui, dark_halo_params)"
   ]
  },
  {
   "cell_type": "code",
   "execution_count": null,
   "metadata": {},
   "outputs": [
    {
     "data": {
      "application/vnd.jupyter.widget-view+json": {
       "model_id": "7deb0190b59049c588e7d002cdde057a",
       "version_major": 2,
       "version_minor": 0
      },
      "text/plain": [
       "HBox(children=(FloatSlider(value=800000.0, max=80000000.0, min=800000.0, step=800000.0), FloatSlider(value=2.0…"
      ]
     },
     "metadata": {},
     "output_type": "display_data"
    },
    {
     "data": {
      "application/vnd.jupyter.widget-view+json": {
       "model_id": "627e0a2525c7452abe724588b369d8d2",
       "version_major": 2,
       "version_minor": 0
      },
      "text/plain": [
       "Output()"
      ]
     },
     "metadata": {},
     "output_type": "display_data"
    }
   ],
   "source": [
    "amp6 = widgets.FloatSlider(min=8000000.0*10**(-1), max=8000000.0*10**(1), step=8000000.0*0.1)\n",
    "a6 = widgets.FloatSlider(min=20*(100-90)/100, max=20*(100+90)/100, step=20*0.1)\n",
    "ui = widgets.HBox([amp6, a6 ])\n",
    "def f(amp6, a6):\n",
    "    global burkert_halo_potential\n",
    "    burkert_halo_dict = {'amp': amp6, 'a': a6}\n",
    "    burkert_halo_potential = MassScaleP(burkert_halo_dict)\n",
    "    print((amp6, a6))\n",
    "burkert_halo_params = widgets.interactive_output(f, {'amp6': amp6, 'a6': a6})\n",
    "display(ui, burkert_halo_params)"
   ]
  },
  {
   "cell_type": "code",
   "execution_count": null,
   "metadata": {},
   "outputs": [],
   "source": [
    "lista=np.linspace(0.001, 1.02*np.max(r_data), 10*len(r_data))"
   ]
  },
  {
   "cell_type": "code",
   "execution_count": null,
   "metadata": {},
   "outputs": [
    {
     "data": {
      "text/plain": [
       "(amp=11000000.0, a=0, b=0.1485,\n",
       " amp=390000000.0, a=0.53, b=0.025,\n",
       " amp=12332882874.65668, a=2.08, b=0.08,\n",
       " amp=158.11388300841898, a=0.53,\n",
       " amp=14000000000.0, a=1.3,\n",
       " amp=800000.0, a=2.0)"
      ]
     },
     "execution_count": 19,
     "metadata": {},
     "output_type": "execute_result"
    }
   ],
   "source": [
    "bulge_potential, thin_disk_potential, thick_disk_potential, exp_disk_potential, dark_halo_potential, burkert_halo_potential"
   ]
  },
  {
   "cell_type": "code",
   "execution_count": null,
   "metadata": {},
   "outputs": [
    {
     "name": "stdout",
     "output_type": "stream",
     "text": [
      "Set the guess parameters for BULGE\n",
      "No valid Mass for BULGE . It will be taken the default mass: 110000000.0 M_sun\n",
      "No valid Radial Scale Length for BULGE . It will be taken the default Radial Scale Lenght: 0.0 kpc\n",
      "No valid Vertical Scale Length for BULGE . It will be taken the default Vertical Scale Lenght: 0.495 kpc\n",
      "Set the guess parameters for THIN DISK\n",
      "No valid Mass for THIN DISK . It will be taken the default mass: 3900000000.0 M_sun\n",
      "No valid Radial Scale Length for THIN DISK . It will be taken the default Radial Scale Lenght: 5.3 kpc\n",
      "No valid Vertical Scale Length for THIN DISK . It will be taken the default Vertical Scale Lenght: 0.25 kpc\n",
      "Set the guess parameters for THICK DISK\n",
      "No valid Mass for THICK DISK . It will be taken the default mass: 39000000000.0 M_sun\n",
      "No valid Radial Scale Length for THICK DISK . It will be taken the default Radial Scale Lenght: 2.6 kpc\n",
      "No valid Vertical Scale Length for THICK DISK . It will be taken the default Vertical Scale Lenght: 0.8 kpc\n",
      "Set the guess parameters for EXP DISK\n",
      "No valid Mass for EXP DISK . It will be taken the default mass: 500.0 M_sun\n",
      "No valid Radial Scale Length for EXP DISK . It will be taken the default Radial Scale Lenght: 5.3 kpc\n",
      "Set the guess parameters for DARK HALO\n",
      "No valid Mass for DARK HALO . It will be taken the default mass: 140000000000.0 M_sun\n",
      "No valid Radial Scale Length for DARK HALO . It will be taken the default Radial Scale Lenght: 13.0 kpc\n",
      "Set the guess parameters for BURKERT HALO\n",
      "No valid Mass for BURKERT HALO . It will be taken the default mass: 8000000.0 M_sun\n",
      "No valid Radial Scale Length for BURKERT HALO . It will be taken the default Radial Scale Lenght: 20.0 kpc\n"
     ]
    }
   ],
   "source": [
    "data_rows = [('BULGE', 110000000.0, 1.0, 0.0, 20, 0.495, 70),\n",
    "             ('THIN DISK', 3900000000.0, 1.0, 5.3, 90, 0.25, 1),\n",
    "             ('THICK DISK', 39000000000.0, 0.5, 2.6, 20, 0.8, 1),\n",
    "             ('EXP DISK', 500.0, 0.5, 5.3, 90, 0.0, 0),\n",
    "             ('DARK HALO', 140000000000.0, 1.0, 13.0, 90, 0.0, 0),\n",
    "             ('BURKERT HALO', 8000000.0, 1.0, 20.0, 90, 0.0, 0)]\n",
    "input_params = Table.Table(rows=data_rows, names=('component', 'mass', 'threshold_mass', 'a (kpc)', 'threshold_a', 'b (kpc)', 'threshold_b'))\n",
    "\n",
    "def input_component(component, guess_mass, guess_a, guess_b):\n",
    "    \n",
    "    component_mass, component_scale_a, component_scale_b = guess_mass, guess_a, guess_b\n",
    "    \n",
    "    print('Set the guess parameters for', component)\n",
    "    try:\n",
    "        component_mass = float(input('Mass (in M_sun):'))\n",
    "    except:\n",
    "        print('No valid Mass for', component, '. It will be taken the default mass:', component_mass, 'M_sun')\n",
    "    \n",
    "    \n",
    "    try:\n",
    "        component_scale_a = float(input('Radial Scale Length (in kpc):'))\n",
    "    except:\n",
    "        print('No valid Radial Scale Length for', component, '. It will be taken the default Radial Scale Lenght:', component_scale_a, 'kpc')\n",
    "\n",
    "    if component not in ['EXP DISK', 'DARK HALO', 'BURKERT HALO' ]:\n",
    "        try:\n",
    "            component_scale_b = float(input('Vertical Scale Length (in kpc):'))\n",
    "        except:\n",
    "            print('No valid Vertical Scale Length for', component, '. It will be taken the default Vertical Scale Lenght:', component_scale_b, 'kpc')\n",
    "    \n",
    "    return component_mass, component_scale_a, component_scale_b\n",
    "\n",
    "#~~~~~~~~~~~~~~~~~~~~~~~~~~~~~~~~~~~~~~~~~~~~~~~~\n",
    "\n",
    "x_offset = 0.0  # It defines a radial coordinate offset as user input\n",
    "r_0=1*units.kpc # units \n",
    "v_0=220*units.km/units.s # units \n",
    "\n",
    "# Real data:\n",
    "r_data=tt['r']-x_offset # The txt file must contain the radial coordinate values in kpc\n",
    "v_c_data=tt['vel'] # velocity in km/s\n",
    "v_c_err_data = tt['e_vel'] # and velocity error in km/s\n",
    "\n",
    "# This loop is needed since galpy fails when r=0 or very close to 0\n",
    "for i in range(len(r_data)):\n",
    "    if r_data[i]<1e-3:\n",
    "        r_data[i]=1e-3\n",
    "\n",
    "#~~~~~~~~~~~~~~~~~~~~~~~~~~~~~~~~~~~~~~~~~~~~~~~~\n",
    "# Initial parameters:\n",
    "\n",
    "c_bulge, amp1, delta_mass_bulge, a1, delta_radial_bulge, b1, delta_vertical_bulge = input_params[0]\n",
    "amp1, a1, b1 = input_component(c_bulge, amp1, a1, b1)\n",
    "#print(mass, radial, vertical)\n",
    "\n",
    "c_tn, amp2, delta_mass_tn, a2, delta_radial_tn, b2, delta_vertical_tn = input_params[1]\n",
    "amp2, a2, b2 = input_component(c_tn, amp2, a2, b2)\n",
    "#print(mass, radial, vertical)\n",
    "\n",
    "c_tk, amp3, delta_mass_tk, a3, delta_radial_tk, b3, delta_vertical_tk = input_params[2]\n",
    "amp3, a3, b3 = input_component(c_tk, amp3, a3, b3)\n",
    "#print(mass, radial, vertical)\n",
    "\n",
    "c_ex, amp4, delta_mass_ex, h_r, delta_radial_ex, vertical_ex, delta_vertical_ex = input_params[3]\n",
    "amp4, h_r, vertical_ex = input_component(c_ex, amp4, h_r, vertical_ex)\n",
    "#print(mass, radial, vertical)\n",
    "\n",
    "c_dh, amp5, delta_mass_dh, a5, delta_radial_dh, b5, delta_vertical_dh = input_params[4]\n",
    "amp5, a5, b5 = input_component(c_dh, amp5, a5, b5)\n",
    "#print(mass, radial, vertical)\n",
    "\n",
    "c_bh, amp6, delta_mass_bh, a6, delta_radial_bh, b6, delta_vertical_bh = input_params[5]\n",
    "amp6, a6, b6 = input_component(c_bh, amp6, a6, b6)"
   ]
  },
  {
   "cell_type": "code",
   "execution_count": null,
   "metadata": {},
   "outputs": [],
   "source": [
    "MN_Bulge_p= MiyamotoNagaiPotential(amp=bulge_potential.amp*units.Msun,\n",
    "                                   a=bulge_potential.a*units.kpc,\n",
    "                                   b=bulge_potential.b*units.kpc,\n",
    "                                   normalize=False,\n",
    "                                   ro=r_0, vo=v_0)\n",
    "MN_Thin_Disk_p= MiyamotoNagaiPotential(amp=thin_disk_potential.amp*units.Msun,\n",
    "                                       a=thin_disk_potential.a*units.kpc,\n",
    "                                       b=thin_disk_potential.b*units.kpc,\n",
    "                                       normalize=False,\n",
    "                                       ro=r_0, vo=v_0)\n",
    "MN_Thick_Disk_p= MiyamotoNagaiPotential(amp=thick_disk_potential.amp*units.Msun,\n",
    "                                        a=thick_disk_potential.a*units.kpc,\n",
    "                                        b=thick_disk_potential.b*units.kpc,\n",
    "                                        normalize=False,\n",
    "                                        ro=r_0, vo=v_0)\n",
    "EX_Disk_p = RazorThinExponentialDiskPotential(amp=exp_disk_potential.amp*(units.Msun/(units.pc**2)), \n",
    "                                              hr=exp_disk_potential.a*units.kpc, \n",
    "                                              normalize=False, ro=r_0, vo=v_0, new=True, glorder=100)\n",
    "NFW_p = NFWPotential(amp=dark_halo_potential.amp*units.Msun, \n",
    "                     a=dark_halo_potential.a*units.kpc, normalize=False, ro=r_0, vo=v_0)\n",
    "BK_p = BurkertPotential(amp=burkert_halo_potential.amp*units.Msun/(units.kpc)**3, \n",
    "                        a=burkert_halo_potential.a*units.kpc, normalize=False, ro=r_0, vo=v_0)\n",
    "\n",
    "# Circular velocities in km/s\n",
    "MN_Bulge = calcRotcurve(MN_Bulge_p, lista, phi=None)*220\n",
    "MN_Thin_Disk = calcRotcurve(MN_Thin_Disk_p, lista, phi=None)*220\n",
    "MN_Thick_Disk = calcRotcurve(MN_Thick_Disk_p, lista, phi=None)*220\n",
    "EX_Disk = calcRotcurve(EX_Disk_p, lista, phi=None)*220\n",
    "NFW = calcRotcurve(NFW_p, lista, phi=None)*220\n",
    "BK = calcRotcurve(BK_p, lista, phi=None)*220\n",
    "\n",
    "# Circular velocity for the composition of 5 potentials in km/s\n",
    "v_circ_comp = calcRotcurve([MN_Bulge_p,MN_Thin_Disk_p,MN_Thick_Disk_p, EX_Disk_p, NFW_p, BK_p], lista, phi=None)*220\n",
    "\n"
   ]
  },
  {
   "cell_type": "code",
   "execution_count": null,
   "metadata": {},
   "outputs": [
    {
     "data": {
      "text/plain": [
       "amp=11000000.0, a=0, b=0.1485"
      ]
     },
     "execution_count": 22,
     "metadata": {},
     "output_type": "execute_result"
    }
   ],
   "source": [
    "bulge_potential"
   ]
  },
  {
   "cell_type": "code",
   "execution_count": null,
   "metadata": {},
   "outputs": [
    {
     "data": {
      "text/plain": [
       "('BULGE', 110000000.0, 1.0, 0.0, 20, 0.495, 70)"
      ]
     },
     "execution_count": 23,
     "metadata": {},
     "output_type": "execute_result"
    }
   ],
   "source": [
    "c_bulge, amp1, delta_mass_bulge, a1, delta_radial_bulge, b1, delta_vertical_bulge "
   ]
  },
  {
   "cell_type": "code",
   "execution_count": null,
   "metadata": {},
   "outputs": [
    {
     "data": {
      "text/plain": [
       "('DARK HALO', 140000000000.0, 1.0, 13.0, 90, 0.0, 0)"
      ]
     },
     "execution_count": 24,
     "metadata": {},
     "output_type": "execute_result"
    }
   ],
   "source": [
    "c_dh, amp5, delta_mass_dh, a5, delta_radial_dh, b5, delta_vertical_dh "
   ]
  },
  {
   "cell_type": "code",
   "execution_count": null,
   "metadata": {},
   "outputs": [],
   "source": [
    "from scipy.optimize import curve_fit"
   ]
  },
  {
   "attachments": {},
   "cell_type": "markdown",
   "metadata": {},
   "source": [
    "# Bulge_NFW_potentials"
   ]
  },
  {
   "cell_type": "code",
   "execution_count": null,
   "metadata": {},
   "outputs": [
    {
     "data": {
      "text/plain": [
       "((-10,\n",
       "  11000000.0,\n",
       "  0.0,\n",
       "  0.14849999999999997,\n",
       "  14000000000.0,\n",
       "  1.2999999999999998),\n",
       " (10, 1100000000.0, 2.0, 0.8415, 1400000000000.0, 24.7))"
      ]
     },
     "execution_count": 26,
     "metadata": {},
     "output_type": "execute_result"
    }
   ],
   "source": [
    "def Bulge_NFW_potentials( r, delta_r, bulge_amp, bulge_a, bulge_b, dark_halo_amp, dark_halo_a ):\n",
    "    r_0=1*units.kpc # units \n",
    "    v_0=220*units.km/units.s # units \n",
    "\n",
    "    MN_Bulge_p= MiyamotoNagaiPotential(amp=bulge_amp*units.Msun,\n",
    "                                       a=bulge_a*units.kpc,\n",
    "                                       b=bulge_b*units.kpc,\n",
    "                                       normalize=False,\n",
    "                                       ro=r_0, vo=v_0)\n",
    "    NFW_p = NFWPotential(amp=dark_halo_amp*units.Msun, \n",
    "                         a=dark_halo_a*units.kpc, \n",
    "                         normalize=False, \n",
    "                         ro=r_0, vo=v_0)\n",
    "\n",
    "    v_circ_comp = calcRotcurve([MN_Bulge_p, NFW_p], r-delta_r , phi=None)*220\n",
    "    return v_circ_comp\n",
    "\n",
    "\n",
    "\n",
    "bounds = (( -10, amp1/(10**delta_mass_bulge), a1, b1*(1-0.01*delta_vertical_bulge), amp5/(10*delta_mass_dh), a5*(1-0.01*delta_radial_dh)  ), \n",
    "          (  10, amp1*(10**delta_mass_bulge), 0.1*delta_radial_bulge,  b1*(1+0.01*delta_vertical_bulge), amp5*(10**delta_mass_dh), a5*(1+0.01*delta_radial_dh)  ) )\n",
    "\n",
    "bounds"
   ]
  },
  {
   "cell_type": "code",
   "execution_count": null,
   "metadata": {},
   "outputs": [
    {
     "name": "stdout",
     "output_type": "stream",
     "text": [
      "[5.96212202e+00 1.10000000e+07 2.00000000e+00 8.41500000e-01\n",
      " 1.19139516e+12 1.75709355e+01] [8.76101130e+02 9.58848487e+12 2.63861065e+06 1.40609543e+06\n",
      " 4.72477370e+12 3.65459561e+02]\n"
     ]
    },
    {
     "data": {
      "text/plain": [
       "[<matplotlib.lines.Line2D at 0x24c9905cbe0>]"
      ]
     },
     "execution_count": 27,
     "metadata": {},
     "output_type": "execute_result"
    },
    {
     "data": {
      "image/png": "[encoded data removed]",
      "text/plain": [
       "<Figure size 640x480 with 1 Axes>"
      ]
     },
     "metadata": {},
     "output_type": "display_data"
    }
   ],
   "source": [
    "popt, pcov = curve_fit(Bulge_NFW_potentials, \n",
    "                       r_data, v_c_data.data, \n",
    "                       p0=[0, amp1, a1, b1, amp5, a5 ],\n",
    "                       bounds=bounds )\n",
    "\n",
    "print(popt, np.sqrt(np.diag(pcov)))\n",
    "\n",
    "plt.scatter( r_data, v_c_data.data )\n",
    "plt.plot( r_data, Bulge_NFW_potentials( r_data, *popt ) )"
   ]
  },
  {
   "attachments": {},
   "cell_type": "markdown",
   "metadata": {},
   "source": [
    "# Bulge_ThinDisk_NFW_potentials"
   ]
  },
  {
   "cell_type": "code",
   "execution_count": null,
   "metadata": {},
   "outputs": [
    {
     "data": {
      "text/plain": [
       "('THIN DISK', 3900000000.0, 1.0, 5.3, 90, 0.25, 1)"
      ]
     },
     "execution_count": 28,
     "metadata": {},
     "output_type": "execute_result"
    }
   ],
   "source": [
    "c_tn, amp2, delta_mass_tn, a2, delta_radial_tn, b2, delta_vertical_tn "
   ]
  },
  {
   "cell_type": "code",
   "execution_count": null,
   "metadata": {},
   "outputs": [
    {
     "data": {
      "text/plain": [
       "((-10,\n",
       "  11000000.0,\n",
       "  0.0,\n",
       "  0.14849999999999997,\n",
       "  390000000.0,\n",
       "  0.5299999999999999,\n",
       "  0.025,\n",
       "  14000000000.0,\n",
       "  1.2999999999999998),\n",
       " (10,\n",
       "  1100000000.0,\n",
       "  2.0,\n",
       "  0.8415,\n",
       "  39000000000.0,\n",
       "  10.069999999999999,\n",
       "  2.5,\n",
       "  1400000000000.0,\n",
       "  24.7))"
      ]
     },
     "execution_count": 29,
     "metadata": {},
     "output_type": "execute_result"
    }
   ],
   "source": [
    "def Bulge_ThinDisk_NFW_potentials( r, delta_r, bulge_amp, bulge_a, bulge_b, tn_amp, tn_a, tn_b, dark_halo_amp, dark_halo_a ):\n",
    "    r_0=1*units.kpc # units \n",
    "    v_0=220*units.km/units.s # units \n",
    "\n",
    "    MN_Bulge_p= MiyamotoNagaiPotential(amp=bulge_amp*units.Msun,\n",
    "                                       a=bulge_a*units.kpc,\n",
    "                                       b=bulge_b*units.kpc,\n",
    "                                       normalize=False,\n",
    "                                       ro=r_0, vo=v_0)\n",
    "    MN_Thin_Disk_p= MiyamotoNagaiPotential(amp=tn_amp*units.Msun,\n",
    "                                       a=tn_a*units.kpc,\n",
    "                                       b=tn_b*units.kpc,\n",
    "                                       normalize=False,\n",
    "                                       ro=r_0, vo=v_0)\n",
    "    NFW_p = NFWPotential(amp=dark_halo_amp*units.Msun, \n",
    "                         a=dark_halo_a*units.kpc, \n",
    "                         normalize=False, \n",
    "                         ro=r_0, vo=v_0)\n",
    "\n",
    "    v_circ_comp = calcRotcurve([MN_Bulge_p, MN_Thin_Disk_p, NFW_p], r-delta_r , phi=None)*220\n",
    "    return v_circ_comp\n",
    "\n",
    "\n",
    "\n",
    "bounds = (( -10, amp1/(10**delta_mass_bulge), a1, b1*(1-0.01*delta_vertical_bulge), amp2/(10**delta_mass_tn), a2*(1-0.01*delta_radial_tn), b2/(10**delta_vertical_tn), amp5/(10*delta_mass_dh), a5*(1-0.01*delta_radial_dh)  ), \n",
    "          (  10, amp1*(10**delta_mass_bulge), 0.1*delta_radial_bulge,  b1*(1+0.01*delta_vertical_bulge), amp2*(10**delta_mass_tn), a2*(1+0.01*delta_radial_tn), b2*(10**delta_vertical_tn), amp5*(10**delta_mass_dh), a5*(1+0.01*delta_radial_dh)  ) )\n",
    "\n",
    "bounds"
   ]
  },
  {
   "cell_type": "code",
   "execution_count": null,
   "metadata": {},
   "outputs": [
    {
     "name": "stdout",
     "output_type": "stream",
     "text": [
      "[7.53306450e+00 1.10000000e+09 2.00000000e+00 8.41500000e-01\n",
      " 3.90000000e+10 1.00700000e+01 2.50000000e+00 1.21045788e+12\n",
      " 1.89625108e+01] [3.07158955e+03 2.44250797e+12 1.21102479e+06 1.12020004e+06\n",
      " 1.86413180e+13 3.17103392e+06 3.16954522e+06 1.27145355e+13\n",
      " 1.01752935e+03]\n"
     ]
    },
    {
     "data": {
      "text/plain": [
       "[<matplotlib.lines.Line2D at 0x24c990bf940>]"
      ]
     },
     "execution_count": 30,
     "metadata": {},
     "output_type": "execute_result"
    },
    {
     "data": {
      "image/png": "[encoded data removed]",
      "text/plain": [
       "<Figure size 640x480 with 1 Axes>"
      ]
     },
     "metadata": {},
     "output_type": "display_data"
    }
   ],
   "source": [
    "popt, pcov = curve_fit(Bulge_ThinDisk_NFW_potentials, \n",
    "                       r_data, v_c_data.data, \n",
    "                       p0=[0, amp1, a1, b1, amp2, a2, b2, amp5, a5 ],\n",
    "                       bounds=bounds )\n",
    "\n",
    "print(popt, np.sqrt(np.diag(pcov)))\n",
    "\n",
    "plt.scatter( r_data, v_c_data.data )\n",
    "plt.plot( r_data, Bulge_ThinDisk_NFW_potentials( r_data, *popt ) )"
   ]
  },
  {
   "attachments": {},
   "cell_type": "markdown",
   "metadata": {},
   "source": [
    "# ThinDisk_NFW_potentials"
   ]
  },
  {
   "cell_type": "code",
   "execution_count": null,
   "metadata": {},
   "outputs": [
    {
     "data": {
      "text/plain": [
       "((-10,\n",
       "  390000000.0,\n",
       "  0.5299999999999999,\n",
       "  0.025,\n",
       "  14000000000.0,\n",
       "  1.2999999999999998),\n",
       " (10, 39000000000.0, 10.069999999999999, 2.5, 1400000000000.0, 24.7))"
      ]
     },
     "execution_count": 31,
     "metadata": {},
     "output_type": "execute_result"
    }
   ],
   "source": [
    "def ThinDisk_NFW_potentials( r, delta_r, tn_amp, tn_a, tn_b, dark_halo_amp, dark_halo_a ):\n",
    "    r_0=1*units.kpc # units \n",
    "    v_0=220*units.km/units.s # units \n",
    "\n",
    "    MN_Thin_Disk_p= MiyamotoNagaiPotential(amp=tn_amp*units.Msun,\n",
    "                                       a=tn_a*units.kpc,\n",
    "                                       b=tn_b*units.kpc,\n",
    "                                       normalize=False,\n",
    "                                       ro=r_0, vo=v_0)\n",
    "    NFW_p = NFWPotential(amp=dark_halo_amp*units.Msun, \n",
    "                         a=dark_halo_a*units.kpc, \n",
    "                         normalize=False, \n",
    "                         ro=r_0, vo=v_0)\n",
    "\n",
    "    v_circ_comp = calcRotcurve([ MN_Thin_Disk_p, NFW_p], r-delta_r , phi=None)*220\n",
    "    return v_circ_comp\n",
    "\n",
    "\n",
    "\n",
    "bounds = (( -10, amp2/(10**delta_mass_tn), a2*(1-0.01*delta_radial_tn), b2/(10**delta_vertical_tn), amp5/(10*delta_mass_dh), a5*(1-0.01*delta_radial_dh)  ), \n",
    "          (  10, amp2*(10**delta_mass_tn), a2*(1+0.01*delta_radial_tn), b2*(10**delta_vertical_tn), amp5*(10**delta_mass_dh), a5*(1+0.01*delta_radial_dh)  ) )\n",
    "\n",
    "bounds"
   ]
  },
  {
   "cell_type": "code",
   "execution_count": null,
   "metadata": {},
   "outputs": [
    {
     "name": "stdout",
     "output_type": "stream",
     "text": [
      "[7.89525604e+00 3.88373055e+10 1.00698588e+01 2.49995484e+00\n",
      " 1.19692206e+12 1.86822117e+01] [9.65163129e+01 4.98821546e+11 2.40230624e+06 2.40231621e+06\n",
      " 4.53242672e+11 1.75133468e+01]\n"
     ]
    },
    {
     "data": {
      "text/plain": [
       "[<matplotlib.lines.Line2D at 0x24c991422b0>]"
      ]
     },
     "execution_count": 32,
     "metadata": {},
     "output_type": "execute_result"
    },
    {
     "data": {
      "image/png": "[encoded data removed]",
      "text/plain": [
       "<Figure size 640x480 with 1 Axes>"
      ]
     },
     "metadata": {},
     "output_type": "display_data"
    }
   ],
   "source": [
    "popt, pcov = curve_fit(ThinDisk_NFW_potentials, \n",
    "                       r_data, v_c_data.data, \n",
    "                       p0=[0,  amp2, a2, b2, amp5, a5 ],\n",
    "                       bounds=bounds )\n",
    "\n",
    "print(popt, np.sqrt(np.diag(pcov)))\n",
    "\n",
    "plt.scatter( r_data, v_c_data.data )\n",
    "plt.plot( r_data, ThinDisk_NFW_potentials( r_data, *popt ) )"
   ]
  },
  {
   "cell_type": "code",
   "execution_count": null,
   "metadata": {},
   "outputs": [
    {
     "name": "stdout",
     "output_type": "stream",
     "text": [
      "a\n",
      "Creation of the directory a failed\n"
     ]
    }
   ],
   "source": [
    "run args_input.py a b"
   ]
  },
  {
   "cell_type": "code",
   "execution_count": null,
   "metadata": {},
   "outputs": [],
   "source": [
    "args = [1, 2, 3]\n",
    "flag = True\n",
    "for i in args:\n",
    "    if i not in [1, 2, 4, 5]:\n",
    "        flag = False"
   ]
  },
  {
   "cell_type": "code",
   "execution_count": null,
   "metadata": {},
   "outputs": [
    {
     "data": {
      "text/plain": [
       "False"
      ]
     },
     "execution_count": 35,
     "metadata": {},
     "output_type": "execute_result"
    }
   ],
   "source": [
    "flag"
   ]
  },
  {
   "cell_type": "code",
   "execution_count": null,
   "metadata": {},
   "outputs": [
    {
     "data": {
      "image/png": "[encoded data removed]",
      "text/plain": [
       "<Figure size 640x480 with 1 Axes>"
      ]
     },
     "metadata": {},
     "output_type": "display_data"
    }
   ],
   "source": [
    "\n",
    "fig = plt.figure(1)\n",
    "ax = fig.add_axes((0.41, 0.1, 0.55, 0.85))\n",
    "\n",
    "#ax.yaxis.set_ticks_position('both')\n",
    "#ax.tick_params(axis='y', which='both', labelleft=True, labelright=True)\n",
    "\n",
    "# Data\n",
    "CV_galaxy = ax.errorbar(r_data, v_c_data, v_c_err_data,  c='k', fmt='', ls='none')\n",
    "CV_galaxy_dot = ax.scatter(r_data, v_c_data, c='k')\n",
    "\n",
    "# A plot for each rotation curve with the colors indicated below\n",
    "MN_b_plot, = ax.plot(lista, MN_Bulge, linestyle='--', c='gray')\n",
    "MN_td_plot, = ax.plot(lista, MN_Thin_Disk, linestyle='--', c='purple')\n",
    "MN_tkd_plot, = ax.plot(lista, MN_Thick_Disk, linestyle='--', c='blue')\n",
    "EX_d_plot, = ax.plot(lista, EX_Disk, linestyle='--', c='cyan')\n",
    "NFW_plot, = ax.plot(lista, NFW, linestyle='--', c='green')\n",
    "BK_plot, = ax.plot(lista, BK, linestyle='--', c='orange')\n",
    "\n",
    "# Composed rotation curve\n",
    "v_circ_comp_plot, = ax.plot(lista, v_circ_comp, c='k')\n",
    "\n",
    "\n",
    "ax.set_xlabel(r'$R(kpc)$', fontsize=20)\n",
    "ax.set_ylabel(r'$v_c(km/s)$', fontsize=20)\n",
    "ax.tick_params(axis='both', which='both', labelsize=15)"
   ]
  },
  {
   "cell_type": "code",
   "execution_count": null,
   "metadata": {},
   "outputs": [
    {
     "name": "stdout",
     "output_type": "stream",
     "text": [
      "C:\\Users\\Abram\\AppData\\Local\\Temp\\ipykernel_21596\\1700101123.py:4: MatplotlibDeprecationWarning: The rectangles attribute was deprecated in Matplotlib 3.7 and will be removed two minor releases later. Any custom property styling may be lost.\n",
      "  for r in check.rectangles: # Checkbox options-colors\n",
      "\n",
      "C:\\Users\\Abram\\AppData\\Local\\Temp\\ipykernel_21596\\1700101123.py:9: MatplotlibDeprecationWarning: The lines attribute was deprecated in Matplotlib 3.7 and will be removed two minor releases later. Any custom property styling may be lost.\n",
      "  [ll.set_color(\"black\") for l in check.lines for ll in l]\n",
      "\n",
      "C:\\Users\\Abram\\AppData\\Local\\Temp\\ipykernel_21596\\1700101123.py:10: MatplotlibDeprecationWarning: The lines attribute was deprecated in Matplotlib 3.7 and will be removed two minor releases later. Any custom property styling may be lost.\n",
      "  [ll.set_linewidth(2) for l in check.lines for ll in l]\n",
      "\n"
     ]
    },
    {
     "data": {
      "text/plain": [
       "[None, None, None, None, None, None, None, None, None, None, None, None]"
      ]
     },
     "execution_count": 37,
     "metadata": {},
     "output_type": "execute_result"
    },
    {
     "data": {
      "image/png": "[encoded data removed]",
      "text/plain": [
       "<Figure size 640x480 with 1 Axes>"
      ]
     },
     "metadata": {},
     "output_type": "display_data"
    }
   ],
   "source": [
    "rax = plt.axes((0.07, 0.8, 0.21, 0.15))\n",
    "check = CheckButtons(rax, ('MN Bulge (GRAY)', 'MN Thin Disc (PURPLE)', 'MN Thick Disc (BLUE)', 'Exp. Disc (CYAN)', 'NFW - Halo (GREEN)', 'Burkert - Halo (ORANGE)'), (True, True, True, True, True, True))\n",
    "\n",
    "for r in check.rectangles: # Checkbox options-colors\n",
    "    r.set_facecolor(\"lavender\") \n",
    "    r.set_edgecolor(\"black\")\n",
    "    #r.set_alpha(0.2) \n",
    "\n",
    "[ll.set_color(\"black\") for l in check.lines for ll in l]\n",
    "[ll.set_linewidth(2) for l in check.lines for ll in l]\n"
   ]
  },
  {
   "cell_type": "code",
   "execution_count": null,
   "metadata": {},
   "outputs": [],
   "source": [
    "MN_b_amp_ax = fig.add_axes((0.09,0.75,0.17,0.03))\n",
    "MN_b_amp_s = Slider(MN_b_amp_ax, r\"$M$($M_\\odot$)\", input_params['mass'][0]/(10**input_params['threshold_mass'][0]), input_params['mass'][0]*(10**input_params['threshold_mass'][0]), valinit=input_params['mass'][0], color='gray', valfmt='%1.3E')\n",
    "MN_b_a_ax = fig.add_axes((0.09,0.72,0.17,0.03))\n",
    "MN_b_a_s = Slider(MN_b_a_ax, \"$a$ ($kpc$)\", 0, 0.1*input_params['threshold_a'][0], valinit=input_params['a (kpc)'][0], color='gray')\n",
    "MN_b_b_ax = fig.add_axes((0.09,0.69,0.17,0.03))\n",
    "MN_b_b_s = Slider(MN_b_b_ax, \"$b$ ($kpc$)\", input_params['b (kpc)'][0]*(1-0.01*input_params['threshold_b'][0]), input_params['b (kpc)'][0]*(1+0.01*input_params['threshold_b'][0]), valinit=input_params['b (kpc)'][0], color='gray')\n",
    "\n",
    "# Thin disk - purple\n",
    "MN_td_amp_ax = fig.add_axes((0.09,0.63,0.17,0.03))\n",
    "MN_td_amp_s = Slider(MN_td_amp_ax, r\"$M$($M_\\odot$)\", input_params['mass'][1]/(10**input_params['threshold_mass'][1]), input_params['mass'][1]*(10**input_params['threshold_mass'][1]), valinit=input_params['mass'][1], color='purple', valfmt='%1.3E')\n",
    "MN_td_a_ax = fig.add_axes((0.09,0.60,0.17,0.03))\n",
    "MN_td_a_s = Slider(MN_td_a_ax, \"$a$ ($kpc$)\", input_params['a (kpc)'][1]*(1-0.01*input_params['threshold_a'][1]), input_params['a (kpc)'][1]*(1+0.01*input_params['threshold_a'][1]), valinit=input_params['a (kpc)'][1], color='purple')\n",
    "MN_td_b_ax = fig.add_axes((0.09,0.57,0.17,0.03))\n",
    "MN_td_b_s = Slider(MN_td_b_ax, \"$b$ ($kpc$)\", input_params['b (kpc)'][1]/(10**input_params['threshold_b'][1]), input_params['b (kpc)'][1]*(10**input_params['threshold_b'][1]), valinit=input_params['b (kpc)'][1], color='purple')\n",
    "\n",
    "# Thick disk - Blue\n",
    "MN_tkd_amp_ax = fig.add_axes((0.09,0.51,0.17,0.03))\n",
    "MN_tkd_amp_s = Slider(MN_tkd_amp_ax, r\"$M$($M_\\odot$)\", input_params['mass'][2]/(10**input_params['threshold_mass'][2]), input_params['mass'][2]*(10**input_params['threshold_mass'][2]), valinit=input_params['mass'][2], color='blue', valfmt='%1.3E')\n",
    "MN_tkd_a_ax = fig.add_axes((0.09,0.48,0.17,0.03))\n",
    "MN_tkd_a_s = Slider(MN_tkd_a_ax, \"$a$ ($kpc$)\", input_params['a (kpc)'][2]*(1-0.01*input_params['threshold_a'][2]), input_params['a (kpc)'][2]*(1+0.01*input_params['threshold_a'][2]), valinit=input_params['a (kpc)'][2], color='blue')\n",
    "MN_tkd_b_ax = fig.add_axes((0.09,0.45,0.17,0.03))\n",
    "MN_tkd_b_s = Slider(MN_tkd_b_ax, \"$b$ ($kpc$)\", input_params['b (kpc)'][2]/(10**input_params['threshold_b'][2]), input_params['b (kpc)'][2]*(10**input_params['threshold_b'][2]), valinit=input_params['b (kpc)'][2], color='blue')\n",
    "\n",
    "# Exponential disk - Cyan\n",
    "MN_ed_amp_ax = fig.add_axes((0.09,0.39,0.17,0.03))\n",
    "MN_ed_amp_s = Slider(MN_ed_amp_ax, r\"$\\Sigma_0$($M_\\odot/pc^2$)\", input_params['mass'][3]/(10**input_params['threshold_mass'][3]), input_params['mass'][3]*(10**input_params['threshold_mass'][3]), valinit=input_params['mass'][3], color='cyan', valfmt='%1.3E')\n",
    "MN_ed_a_ax = fig.add_axes((0.09,0.36,0.17,0.03))\n",
    "MN_ed_a_s = Slider(MN_ed_a_ax, \"$h_r$ ($kpc$)\", input_params['a (kpc)'][3]*(1-0.01*input_params['threshold_a'][3]), input_params['a (kpc)'][3]*(1+0.01*input_params['threshold_a'][3]), valinit=input_params['a (kpc)'][3], color='cyan')\n",
    "\n",
    "# NFW Halo - green\n",
    "NFW_amp_ax = fig.add_axes((0.09,0.30,0.17,0.03))\n",
    "NFW_amp_s = Slider(NFW_amp_ax, r\"$M_0$($M_\\odot$)\", input_params['mass'][4]/(10*input_params['threshold_mass'][4]), input_params['mass'][4]*(10**input_params['threshold_mass'][4]), valinit=input_params['mass'][4], color='green', valfmt='%1.3E')\n",
    "NFW_a_ax = fig.add_axes((0.09,0.27,0.17,0.03))\n",
    "NFW_a_s = Slider(NFW_a_ax, \"$a$ ($kpc$)\", input_params['a (kpc)'][4]*(1-0.01*input_params['threshold_a'][4]), input_params['a (kpc)'][4]*(1+0.01*input_params['threshold_a'][4]), valinit=input_params['a (kpc)'][4], color='green')\n",
    "\n",
    "# Burkert Halo - orange\n",
    "BK_amp_ax = fig.add_axes((0.09,0.21,0.17,0.03))\n",
    "BK_amp_s = Slider(BK_amp_ax, r\"$\\rho_0$($M_\\odot/kpc^3$)\", input_params['mass'][5]/(10*input_params['threshold_mass'][5]), input_params['mass'][5]*(10**input_params['threshold_mass'][5]), valinit=input_params['mass'][5], color='orange', valfmt='%1.3E')\n",
    "BK_a_ax = fig.add_axes((0.09,0.18,0.17,0.03))\n",
    "BK_a_s = Slider(BK_a_ax, \"$a$ ($kpc$)\", input_params['a (kpc)'][5]*(1-0.01*input_params['threshold_a'][5]), input_params['a (kpc)'][5]*(1+0.01*input_params['threshold_a'][5]), valinit=input_params['a (kpc)'][5], color='orange')\n"
   ]
  },
  {
   "cell_type": "code",
   "execution_count": null,
   "metadata": {},
   "outputs": [],
   "source": [
    "\n",
    "# Bulge\n",
    "def MN_b_amp_s_func(val):\n",
    "    if MN_b_plot.get_visible() == True:\n",
    "        global MN_Bulge_p, amp1, a1, b1\n",
    "        amp1=val*1\n",
    "        MN_Bulge_p = MiyamotoNagaiPotential(amp=val*units.Msun,a=a1*units.kpc,b=b1*units.kpc,normalize=False,ro=r_0, vo=v_0)   \n",
    "        update_rot_curve()\n",
    "def MN_b_a_s_func(val):\n",
    "    if MN_b_plot.get_visible() == True:\n",
    "        global MN_Bulge_p, amp1, a1, b1\n",
    "        a1=val*1\n",
    "        MN_Bulge_p = MiyamotoNagaiPotential(amp=amp1*units.Msun,a=val*units.kpc,b=b1*units.kpc,normalize=False,ro=r_0, vo=v_0)   \n",
    "        update_rot_curve()\n",
    "def MN_b_b_s_func(val):\n",
    "    if MN_b_plot.get_visible() == True:\n",
    "        global MN_Bulge_p, amp1, a1, b1\n",
    "        b1=val*1\n",
    "        MN_Bulge_p = MiyamotoNagaiPotential(amp=amp1*units.Msun,a=a1*units.kpc,b=val*units.kpc,normalize=False,ro=r_0, vo=v_0)   \n",
    "        update_rot_curve()\n",
    "        \n",
    "# Thin disk\n",
    "def MN_td_amp_s_func(val):\n",
    "    if MN_td_plot.get_visible() == True:\n",
    "        global MN_Thin_Disk_p, amp2, a2, b2\n",
    "        amp2=val*1\n",
    "        MN_Thin_Disk_p= MiyamotoNagaiPotential(amp=val*units.Msun,a=a2*units.kpc,b=b2*units.kpc,normalize=False,ro=r_0, vo=v_0)  \n",
    "        update_rot_curve()\n",
    "def MN_td_a_s_func(val):\n",
    "    if MN_td_plot.get_visible() == True:\n",
    "        global MN_Thin_Disk_p, amp2, a2, b2\n",
    "        a2=val*1\n",
    "        MN_Thin_Disk_p= MiyamotoNagaiPotential(amp=amp2*units.Msun,a=val*units.kpc,b=b2*units.kpc,normalize=False,ro=r_0, vo=v_0)  \n",
    "        update_rot_curve()\n",
    "def MN_td_b_s_func(val):\n",
    "    if MN_td_plot.get_visible() == True:\n",
    "        global MN_Thin_Disk_p, amp2, a2, b2\n",
    "        b2=val*1\n",
    "        MN_Thin_Disk_p= MiyamotoNagaiPotential(amp=amp2*units.Msun,a=a2*units.kpc,b=val*units.kpc,normalize=False,ro=r_0, vo=v_0)  \n",
    "        update_rot_curve()\n",
    "\n",
    "# Thick disk\n",
    "def MN_tkd_amp_s_func(val):\n",
    "    if MN_tkd_plot.get_visible() == True:\n",
    "        global MN_Thick_Disk_p, amp3, a3, b3\n",
    "        amp3=val*1\n",
    "        MN_Thick_Disk_p= MiyamotoNagaiPotential(amp=val*units.Msun,a=a3*units.kpc,b=b3*units.kpc,normalize=False,ro=r_0, vo=v_0)  \n",
    "        update_rot_curve()\n",
    "def MN_tkd_a_s_func(val):\n",
    "    if MN_tkd_plot.get_visible() == True:\n",
    "        global MN_Thick_Disk_p, amp3, a3, b3\n",
    "        a3=val*1\n",
    "        MN_Thick_Disk_p= MiyamotoNagaiPotential(amp=amp3*units.Msun,a=val*units.kpc,b=b3*units.kpc,normalize=False,ro=r_0, vo=v_0)  \n",
    "        update_rot_curve()\n",
    "def MN_tkd_b_s_func(val):\n",
    "    if MN_tkd_plot.get_visible() == True:\n",
    "        global MN_Thick_Disk_p, amp3, a3, b3\n",
    "        b3=val*1\n",
    "        MN_Thick_Disk_p= MiyamotoNagaiPotential(amp=amp3*units.Msun,a=a3*units.kpc,b=val*units.kpc,normalize=False,ro=r_0, vo=v_0)  \n",
    "        update_rot_curve()\n",
    "        \n",
    "# Exponential disk\n",
    "def MN_ed_amp_s_func(val):\n",
    "    if EX_d_plot.get_visible() == True:\n",
    "        global EX_Disk_p, amp4,h_r\n",
    "        amp4=val*1\n",
    "        EX_Disk_p = RazorThinExponentialDiskPotential(amp=val*(units.Msun/(units.pc**2)), hr=h_r*units.kpc, maxiter=20, tol=0.001, normalize=False, ro=r_0, vo=v_0, new=True, glorder=100)\n",
    "        update_rot_curve() \n",
    "def MN_ed_a_s_func(val):\n",
    "    if EX_d_plot.get_visible() == True:\n",
    "        global EX_Disk_p, amp4,h_r\n",
    "        h_r=val*1\n",
    "        EX_Disk_p = RazorThinExponentialDiskPotential(amp=amp4*(units.Msun/(units.pc**2)), hr=val*units.kpc, maxiter=20, tol=0.001, normalize=False, ro=r_0, vo=v_0, new=True, glorder=100)\n",
    "        update_rot_curve()\n",
    "        \n",
    "# NFW Halo       \n",
    "def NFW_amp_s_func(val):\n",
    "    if NFW_plot.get_visible() == True:\n",
    "        global NFW_p, amp5,a5\n",
    "        amp5=val*1\n",
    "        NFW_p = NFWPotential(amp=val*units.Msun, a=a5*units.kpc, normalize=False, ro=r_0, vo=v_0)\n",
    "        update_rot_curve()    \n",
    "def NFW_a_s_func(val):\n",
    "    if NFW_plot.get_visible() == True:\n",
    "        global NFW_p, amp5,a5\n",
    "        a5=val*1\n",
    "        NFW_p = NFWPotential(amp=amp5*units.Msun, a=val*units.kpc, normalize=False, ro=r_0, vo=v_0)\n",
    "        update_rot_curve()\n",
    "\n",
    "# Burkert Halo        \n",
    "def BK_amp_s_func(val):\n",
    "    if BK_plot.get_visible() == True:\n",
    "        global BK_p, amp6,a6\n",
    "        amp6=val*1\n",
    "        BK_p = BurkertPotential(amp=val*units.Msun/(units.kpc)**3, a=a6*units.kpc, normalize=False, ro=r_0, vo=v_0)\n",
    "        update_rot_curve()\n",
    "def BK_a_s_func(val):\n",
    "    if BK_plot.get_visible() == True:\n",
    "        global BK_p, amp6,a6\n",
    "        a6=val*1\n",
    "        BK_p = BurkertPotential(amp=amp6*units.Msun/(units.kpc)**3, a=val*units.kpc, normalize=False, ro=r_0, vo=v_0)\n",
    "        update_rot_curve()"
   ]
  },
  {
   "cell_type": "code",
   "execution_count": null,
   "metadata": {},
   "outputs": [
    {
     "data": {
      "text/plain": [
       "0"
      ]
     },
     "execution_count": 40,
     "metadata": {},
     "output_type": "execute_result"
    }
   ],
   "source": [
    "def update_rot_curve():\n",
    "\tax.clear()\n",
    "\tglobal MN_b_plot, MN_Bulge_p, MN_Thin_Disk_p,MN_Thick_Disk_p, MN_td_plot,MN_tkd_plot, NFW_p, NFW_plot, EX_d_plot, EX_Disk_p, CV_galaxy, CV_galaxy_dot, BK_p, BK_plot\n",
    "\tcomposite_pot_array=[]\n",
    "\tax.set_xlabel(r'$R(kpc)$', fontsize=20)\n",
    "\tax.set_ylabel(r'$v_c(km/s)$', fontsize=20)\n",
    "\tax.tick_params(axis='both', which='both', labelsize=15)\n",
    "\t#ax.xaxis.set_major_locator(ticker.MultipleLocator(5))\n",
    "\tax.set_xlim([0, 1.02*r_data[-1]])\n",
    "\tax.set_ylim([0,np.max(v_c_data)*1.2])\n",
    "    \n",
    "\tif MN_b_plot.get_visible() == True:\n",
    "\t\tMN_Bulge = calcRotcurve(MN_Bulge_p, lista, phi=None)*220\n",
    "\t\tMN_b_plot, = ax.plot(lista, MN_Bulge, linestyle='--', c='gray')\n",
    "\t\tcomposite_pot_array.append(MN_Bulge_p)\n",
    "\tif MN_td_plot.get_visible() == True:\n",
    "\t\tMN_Thin_Disk = calcRotcurve(MN_Thin_Disk_p, lista, phi=None)*220\n",
    "\t\tMN_td_plot, = ax.plot(lista, MN_Thin_Disk, linestyle='--', c='purple')\n",
    "\t\tcomposite_pot_array.append(MN_Thin_Disk_p)\n",
    "\tif MN_tkd_plot.get_visible() == True:\n",
    "\t\tMN_Thick_Disk = calcRotcurve(MN_Thick_Disk_p, lista, phi=None)*220\n",
    "\t\tMN_tkd_plot, = ax.plot(lista, MN_Thick_Disk, linestyle='--', c='blue')\n",
    "\t\tcomposite_pot_array.append(MN_Thick_Disk_p)\n",
    "\tif NFW_plot.get_visible() == True:\n",
    "\t\tNFW = calcRotcurve(NFW_p, lista, phi=None)*220\n",
    "\t\tNFW_plot, = ax.plot(lista, NFW, linestyle='--', c='green')\n",
    "\t\tcomposite_pot_array.append(NFW_p)\n",
    "\tif EX_d_plot.get_visible() == True:\n",
    "\t\tEX_Disk = calcRotcurve(EX_Disk_p, lista, phi=None)*220\n",
    "\t\tEX_d_plot, = ax.plot(lista, EX_Disk, linestyle='--', c='cyan')\n",
    "\t\tcomposite_pot_array.append(EX_Disk_p)\n",
    "\tif BK_plot.get_visible() == True:\n",
    "\t\tBK = calcRotcurve(BK_p, lista, phi=None)*220\n",
    "\t\tBK_plot, = ax.plot(lista, BK, linestyle='--', c='orange')\n",
    "\t\tcomposite_pot_array.append(BK_p)\n",
    "\tCV_galaxy = ax.errorbar(r_data, v_c_data, v_c_err_data,  c='k', fmt='', ls='none')\n",
    "\tCV_galaxy_dot = ax.scatter(r_data, v_c_data, c='k')\n",
    "\tv_circ_comp = calcRotcurve(composite_pot_array, lista, phi=None)*220\n",
    "\tv_circ_comp_plot, = ax.plot(lista, v_circ_comp, c='k')\n",
    "\n",
    "\n",
    "#~~~~~~~~~~~~~~~~~~~~~~~~~~~~~~~~~~~~~~~~~~~~~~~~\n",
    "# Here we define the sliders update functions\n",
    "MN_b_amp_s.on_changed(MN_b_amp_s_func)\n",
    "MN_b_a_s.on_changed(MN_b_a_s_func)\n",
    "MN_b_b_s.on_changed(MN_b_b_s_func)\n",
    "MN_td_amp_s.on_changed(MN_td_amp_s_func)\n",
    "MN_td_a_s.on_changed(MN_td_a_s_func)\n",
    "MN_td_b_s.on_changed(MN_td_b_s_func)\n",
    "MN_tkd_amp_s.on_changed(MN_tkd_amp_s_func)\n",
    "MN_tkd_a_s.on_changed(MN_tkd_a_s_func)\n",
    "MN_tkd_b_s.on_changed(MN_tkd_b_s_func)\n",
    "NFW_amp_s.on_changed(NFW_amp_s_func)\n",
    "NFW_a_s.on_changed(NFW_a_s_func)\n",
    "BK_amp_s.on_changed(BK_amp_s_func)\n",
    "BK_a_s.on_changed(BK_a_s_func)\n",
    "MN_ed_amp_s.on_changed(MN_ed_amp_s_func)\n",
    "MN_ed_a_s.on_changed(MN_ed_a_s_func)"
   ]
  },
  {
   "cell_type": "code",
   "execution_count": null,
   "metadata": {},
   "outputs": [
    {
     "data": {
      "text/plain": [
       "0"
      ]
     },
     "execution_count": 41,
     "metadata": {},
     "output_type": "execute_result"
    }
   ],
   "source": [
    "def reset(event):\n",
    "    MN_b_amp_s.reset()\n",
    "    MN_b_a_s.reset()\n",
    "    MN_b_b_s.reset()\n",
    "    MN_td_amp_s.reset()\n",
    "    MN_td_a_s.reset() \n",
    "    MN_td_b_s.reset()\n",
    "    MN_tkd_amp_s.reset()\n",
    "    MN_tkd_a_s.reset()\n",
    "    MN_tkd_b_s.reset()\n",
    "    MN_ed_amp_s.reset()\n",
    "    MN_ed_a_s.reset()\n",
    "    NFW_amp_s.reset()\n",
    "    NFW_a_s.reset()\n",
    "    BK_amp_s.reset()\n",
    "    BK_a_s.reset()\n",
    "\n",
    "axcolor=\"lavender\"\n",
    "resetax = fig.add_axes((0.07, 0.08, 0.08, 0.05))\n",
    "button_reset = Button(resetax, 'Reset', color=axcolor)\n",
    "button_reset.on_clicked(reset)"
   ]
  },
  {
   "cell_type": "code",
   "execution_count": null,
   "metadata": {},
   "outputs": [
    {
     "data": {
      "text/plain": [
       "0"
      ]
     },
     "execution_count": 42,
     "metadata": {},
     "output_type": "execute_result"
    }
   ],
   "source": [
    "def check_on_clicked(label):\n",
    "\n",
    "    if label == 'MN Bulge (GRAY)':\n",
    "        MN_b_plot.set_visible(not MN_b_plot.get_visible())\n",
    "        update_rot_curve()\n",
    "    elif label == 'MN Thin Disc (PURPLE)':\n",
    "        MN_td_plot.set_visible(not MN_td_plot.get_visible())\n",
    "        update_rot_curve()\n",
    "    elif label == 'MN Thick Disc (BLUE)':\n",
    "        MN_tkd_plot.set_visible(not MN_tkd_plot.get_visible())\n",
    "        update_rot_curve()\n",
    "    elif label == 'Exp. Disc (CYAN)':\n",
    "        EX_d_plot.set_visible(not EX_d_plot.get_visible())\n",
    "        update_rot_curve()\n",
    "    elif label == 'NFW - Halo (GREEN)':\n",
    "        NFW_plot.set_visible(not NFW_plot.get_visible())\n",
    "        update_rot_curve()\n",
    "    elif label == 'Burkert - Halo (ORANGE)':\n",
    "        BK_plot.set_visible(not BK_plot.get_visible())\n",
    "        update_rot_curve()\n",
    "    plt.draw()\n",
    "\n",
    "#~~~~~~~~~~~~~~~~~~~~~~~~~~~~~~~~~~~~~~~~~~~~~~~~\n",
    "# Plotting all the curves\n",
    "\n",
    "ax.set_xlabel(r'$R(kpc)$', fontsize=20)\n",
    "ax.set_ylabel(r'$v_c(km/s)$', fontsize=20)\n",
    "ax.tick_params(axis='both', which='both', labelsize=15)\n",
    "#ax.xaxis.set_major_locator(ticker.MultipleLocator(5))\n",
    "#ax.set_xlim([0, np.max(lista)])\n",
    "#ax.set_ylim([0,np.max(v_c_data)*1.2])\n",
    "check.on_clicked(check_on_clicked)"
   ]
  },
  {
   "cell_type": "code",
   "execution_count": null,
   "metadata": {},
   "outputs": [
    {
     "data": {
      "text/plain": [
       "<Axes: xlabel='$R(kpc)$', ylabel='$v_c(km/s)$'>"
      ]
     },
     "execution_count": 43,
     "metadata": {},
     "output_type": "execute_result"
    }
   ],
   "source": [
    "ax"
   ]
  },
  {
   "cell_type": "code",
   "execution_count": null,
   "metadata": {},
   "outputs": [],
   "source": [
    "from matplotlib.widgets import Slider, Button, RadioButtons, CheckButtons, TextBox # Matplotlib widgets"
   ]
  },
  {
   "cell_type": "code",
   "execution_count": null,
   "metadata": {},
   "outputs": [
    {
     "data": {
      "text/plain": [
       "matplotlib.widgets.CheckButtons"
      ]
     },
     "execution_count": 45,
     "metadata": {},
     "output_type": "execute_result"
    }
   ],
   "source": [
    "CheckButtons"
   ]
  },
  {
   "cell_type": "code",
   "execution_count": null,
   "metadata": {},
   "outputs": [
    {
     "name": "stdout",
     "output_type": "stream",
     "text": [
      "Using matplotlib backend: <object object at 0x0000024C8E3709A0>\n"
     ]
    },
    {
     "data": {
      "text/plain": [
       "0"
      ]
     },
     "execution_count": 46,
     "metadata": {},
     "output_type": "execute_result"
    }
   ],
   "source": [
    "%matplotlib\n",
    "\n",
    "t = np.arange(0.0, 2.0, 0.01)\n",
    "s0 = np.sin(2*np.pi*t)\n",
    "s1 = np.sin(4*np.pi*t)\n",
    "s2 = np.sin(6*np.pi*t)\n",
    "\n",
    "fig, ax = plt.subplots()\n",
    "l0, = ax.plot(t, s0, visible=False, lw=2, color='k', label='2 Hz')\n",
    "l1, = ax.plot(t, s1, lw=2, color='r', label='4 Hz')\n",
    "l2, = ax.plot(t, s2, lw=2, color='g', label='6 Hz')\n",
    "plt.subplots_adjust(left=0.2)\n",
    "\n",
    "lines = [l0, l1, l2]\n",
    "\n",
    "# Make checkbuttons with all plotted lines with correct visibility\n",
    "rax = plt.axes([0.05, 0.4, 0.1, 0.15])\n",
    "labels = [str(line.get_label()) for line in lines]\n",
    "visibility = [line.get_visible() for line in lines]\n",
    "check = CheckButtons(rax, labels, visibility)\n",
    "\n",
    "\n",
    "def func(label):\n",
    "    index = labels.index(label)\n",
    "    lines[index].set_visible(not lines[index].get_visible())\n",
    "    plt.draw()\n",
    "\n",
    "check.on_clicked(func)\n",
    "\n"
   ]
  },
  {
   "cell_type": "code",
   "execution_count": null,
   "metadata": {},
   "outputs": [
    {
     "data": {
      "text/plain": [
       "[False, True, True]"
      ]
     },
     "execution_count": 47,
     "metadata": {},
     "output_type": "execute_result"
    }
   ],
   "source": [
    "visibility"
   ]
  },
  {
   "cell_type": "code",
   "execution_count": null,
   "metadata": {},
   "outputs": [
    {
     "data": {
      "text/plain": [
       "[False, True, True]"
      ]
     },
     "execution_count": 48,
     "metadata": {},
     "output_type": "execute_result"
    }
   ],
   "source": [
    "check.get_status()"
   ]
  },
  {
   "cell_type": "code",
   "execution_count": null,
   "metadata": {},
   "outputs": [
    {
     "data": {
      "text/plain": [
       "<bound method Artist.set_visible of <matplotlib.lines.Line2D object at 0x0000024C9ED5B490>>"
      ]
     },
     "execution_count": 49,
     "metadata": {},
     "output_type": "execute_result"
    }
   ],
   "source": [
    "l1.set_visible"
   ]
  },
  {
   "cell_type": "code",
   "execution_count": null,
   "metadata": {},
   "outputs": [
    {
     "name": "stdout",
     "output_type": "stream",
     "text": [
      "[False, True, True]\n"
     ]
    },
    {
     "ename": "IndexError",
     "evalue": "list index out of range",
     "output_type": "error",
     "traceback": [
      "\u001b[1;31m---------------------------------------------------------------------------\u001b[0m",
      "\u001b[1;31mIndexError\u001b[0m                                Traceback (most recent call last)",
      "Cell \u001b[1;32mIn[50], line 6\u001b[0m\n\u001b[0;32m      4\u001b[0m MN_td_plot\u001b[39m.\u001b[39mset_visible(check_visibility[\u001b[39m1\u001b[39m])\n\u001b[0;32m      5\u001b[0m MN_tkd_plot\u001b[39m.\u001b[39mset_visible(check_visibility[\u001b[39m2\u001b[39m])\n\u001b[1;32m----> 6\u001b[0m EX_d_plot\u001b[39m.\u001b[39mset_visible(check_visibility[\u001b[39m3\u001b[39;49m])\n\u001b[0;32m      7\u001b[0m NFW_plot\u001b[39m.\u001b[39mset_visible(check_visibility[\u001b[39m4\u001b[39m])\n\u001b[0;32m      8\u001b[0m BK_plot\u001b[39m.\u001b[39mset_visible(check_visibility[\u001b[39m5\u001b[39m])\n",
      "\u001b[1;31mIndexError\u001b[0m: list index out of range"
     ]
    },
    {
     "ename": "",
     "evalue": "",
     "output_type": "error",
     "traceback": [
      "\u001b[1;31mThe Kernel crashed while executing code in the the current cell or a previous cell. Please review the code in the cell(s) to identify a possible cause of the failure. Click <a href='https://aka.ms/vscodeJupyterKernelCrash'>here</a> for more info. View Jupyter <a href='command:jupyter.viewOutput'>log</a> for further details."
     ]
    }
   ],
   "source": [
    "\tprint( check.get_status() )\n",
    "\tcheck_visibility = check.get_status()\n",
    "\tMN_b_plot.set_visible(check_visibility[0])\n",
    "\tMN_td_plot.set_visible(check_visibility[1])\n",
    "\tMN_tkd_plot.set_visible(check_visibility[2])\n",
    "\tEX_d_plot.set_visible(check_visibility[3])\n",
    "\tNFW_plot.set_visible(check_visibility[4])\n",
    "\tBK_plot.set_visible(check_visibility[5])"
   ]
  }
 ],
 "metadata": {
  "kernelspec": {
   "display_name": "Python 3",
   "language": "python",
   "name": "python3"
  },
  "language_info": {
   "codemirror_mode": {
    "name": "ipython",
    "version": 3
   },
   "file_extension": ".py",
   "mimetype": "text/x-python",
   "name": "python",
   "nbconvert_exporter": "python",
   "pygments_lexer": "ipython3",
   "version": "3.9.16"
  }
 },
 "nbformat": 4,
 "nbformat_minor": 4
}
