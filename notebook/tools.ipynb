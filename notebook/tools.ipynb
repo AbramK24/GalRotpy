{
 "cells": [
  {
   "cell_type": "code",
   "execution_count": 1,
   "metadata": {},
   "outputs": [
    {
     "name": "stdout",
     "output_type": "stream",
     "text": [
      "galpyWarning: libgalpy C extension module not loaded, because of error 'dlopen(/Library/Python/3.7/site-packages/libgalpy.cpython-37m-darwin.so, 6): Library not loaded: @rpath/libgsl.25.dylib\n",
      "  Referenced from: /Library/Python/3.7/site-packages/libgalpy.cpython-37m-darwin.so\n",
      "  Reason: image not found' \n"
     ]
    }
   ],
   "source": [
    "from matplotlib.widgets import Slider, Button, RadioButtons, CheckButtons, TextBox # Matplotlib widgets\n",
    "import matplotlib.pylab as plt # Plotting interface\n",
    "import numpy as np\n",
    "from galpy.potential import MiyamotoNagaiPotential, NFWPotential, RazorThinExponentialDiskPotential, BurkertPotential # GALPY potentials\n",
    "from galpy.potential import calcRotcurve # composed rotation curve calculation for plotting\n",
    "from astropy import units # Physical/real units data managing\n",
    "from astropy import table as Table # For fast and easy reading / writing with tables using numpy library\n",
    "import emcee\n",
    "import corner\n",
    "import time\n",
    "import pandas as pd\n",
    "import multiprocessing as mp\n",
    "from scipy.optimize import fsolve\n",
    "\n",
    "\n",
    "import ipywidgets as widgets\n"
   ]
  },
  {
   "cell_type": "code",
   "execution_count": 2,
   "metadata": {},
   "outputs": [],
   "source": [
    "#input_params=Table.Table.read('../input_params.txt', format='ascii.tab') # Initial parameters\n",
    "#input_params"
   ]
  },
  {
   "cell_type": "code",
   "execution_count": 3,
   "metadata": {},
   "outputs": [
    {
     "data": {
      "text/html": [
       "<i>Table length=6</i>\n",
       "<table id=\"table4805189416\" class=\"table-striped table-bordered table-condensed\">\n",
       "<thead><tr><th>component</th><th>mass</th><th>threshold_mass</th><th>a (kpc)</th><th>threshold_a</th><th>b (kpc)</th><th>threshold_b</th></tr></thead>\n",
       "<thead><tr><th>str12</th><th>float64</th><th>float64</th><th>float64</th><th>int64</th><th>float64</th><th>int64</th></tr></thead>\n",
       "<tr><td>BULGE</td><td>110000000.0</td><td>1.0</td><td>0.0</td><td>20</td><td>0.495</td><td>70</td></tr>\n",
       "<tr><td>THIN DISK</td><td>3900000000.0</td><td>1.0</td><td>5.3</td><td>90</td><td>0.25</td><td>1</td></tr>\n",
       "<tr><td>THICK DISK</td><td>39000000000.0</td><td>0.5</td><td>2.6</td><td>20</td><td>0.8</td><td>1</td></tr>\n",
       "<tr><td>EXP DISK</td><td>500.0</td><td>0.5</td><td>5.3</td><td>90</td><td>0.0</td><td>0</td></tr>\n",
       "<tr><td>DARK HALO</td><td>140000000000.0</td><td>1.0</td><td>13.0</td><td>90</td><td>0.0</td><td>0</td></tr>\n",
       "<tr><td>BURKERT HALO</td><td>8000000.0</td><td>1.0</td><td>20.0</td><td>90</td><td>0.0</td><td>0</td></tr>\n",
       "</table>"
      ],
      "text/plain": [
       "<Table length=6>\n",
       " component        mass      threshold_mass ... threshold_a b (kpc) threshold_b\n",
       "   str12        float64        float64     ...    int64    float64    int64   \n",
       "------------ -------------- -------------- ... ----------- ------- -----------\n",
       "       BULGE    110000000.0            1.0 ...          20   0.495          70\n",
       "   THIN DISK   3900000000.0            1.0 ...          90    0.25           1\n",
       "  THICK DISK  39000000000.0            0.5 ...          20     0.8           1\n",
       "    EXP DISK          500.0            0.5 ...          90     0.0           0\n",
       "   DARK HALO 140000000000.0            1.0 ...          90     0.0           0\n",
       "BURKERT HALO      8000000.0            1.0 ...          90     0.0           0"
      ]
     },
     "execution_count": 3,
     "metadata": {},
     "output_type": "execute_result"
    }
   ],
   "source": [
    "data_rows = [('BULGE', 110000000.0, 1.0, 0.0, 20, 0.495, 70),\n",
    "             ('THIN DISK', 3900000000.0, 1.0, 5.3, 90, 0.25, 1),\n",
    "             ('THICK DISK', 39000000000.0, 0.5, 2.6, 20, 0.8, 1),\n",
    "             ('EXP DISK', 500.0, 0.5, 5.3, 90, 0.0, 0),\n",
    "             ('DARK HALO', 140000000000.0, 1.0, 13.0, 90, 0.0, 0),\n",
    "             ('BURKERT HALO', 8000000.0, 1.0, 20.0, 90, 0.0, 0)]\n",
    "input_params = Table.Table(rows=data_rows, names=('component', 'mass', 'threshold_mass', 'a (kpc)', 'threshold_a', 'b (kpc)', 'threshold_b'))\n",
    "input_params\n"
   ]
  },
  {
   "cell_type": "code",
   "execution_count": 4,
   "metadata": {},
   "outputs": [],
   "source": [
    "c, mass, delta_mass, radial, delta_radial, vertical, delta_vertical = input_params[0]"
   ]
  },
  {
   "cell_type": "code",
   "execution_count": 6,
   "metadata": {},
   "outputs": [],
   "source": [
    "import enum"
   ]
  },
  {
   "cell_type": "code",
   "execution_count": 7,
   "metadata": {},
   "outputs": [],
   "source": [
    "\"\"\"class Components_names(enum.Enum):\n",
    "    Bulge = 'Bulge'\n",
    "    Thin_disk = 'Thin disk'\n",
    "    Thick_disk = 'Thick disk'\n",
    "    Exponential_disk = 'Exponential disk'\n",
    "    Dark_halo = 'Dark halo'\n",
    "    Burkert_halo = 'Burkert halo'\"\"\"\n",
    "    \n",
    "\n",
    "def input_component(component, guess_mass, guess_a, guess_b):\n",
    "    \n",
    "    component_mass, component_scale_a, component_scale_b = guess_mass, guess_a, guess_b\n",
    "    \n",
    "    print('Set the guess parameters for', component)\n",
    "    try:\n",
    "        component_mass = float(input('Mass (in M_sun):'))\n",
    "    except:\n",
    "        print('No valid Mass for', component, '. It will be taken the default mass:', component_mass, 'M_sun')\n",
    "    \n",
    "    \n",
    "    try:\n",
    "        component_scale_a = float(input('Radial Scale Length (in kpc):'))\n",
    "    except:\n",
    "        print('No valid Radial Scale Length for', component, '. It will be taken the default Radial Scale Lenght:', component_scale_a, 'kpc')\n",
    "\n",
    "    if component not in [Components_names.Exponential_disk, Components_names.Dark_halo, Components_names.Burkert_halo]:\n",
    "        try:\n",
    "            component_scale_b = float(input('Vertical Scale Length (in kpc):'))\n",
    "        except:\n",
    "            print('No valid Vertical Scale Length for', component, '. It will be taken the default Vertical Scale Lenght:', component_scale_b, 'kpc')\n",
    "    \n",
    "    return component_mass, component_scale_a, component_scale_b\n",
    "    \n",
    "    "
   ]
  },
  {
   "cell_type": "code",
   "execution_count": 8,
   "metadata": {},
   "outputs": [
    {
     "name": "stdout",
     "output_type": "stream",
     "text": [
      "Set the guess parameters for BULGE\n",
      "No valid Mass for BULGE . It will be taken the default mass: 110000000.0 M_sun\n",
      "No valid Radial Scale Length for BULGE . It will be taken the default Radial Scale Lenght: 0.0 kpc\n"
     ]
    },
    {
     "ename": "NameError",
     "evalue": "name 'Components_names' is not defined",
     "output_type": "error",
     "traceback": [
      "\u001b[0;31m---------------------------------------------------------------------------\u001b[0m",
      "\u001b[0;31mNameError\u001b[0m                                 Traceback (most recent call last)",
      "\u001b[0;32m<ipython-input-8-850dae26f68b>\u001b[0m in \u001b[0;36m<module>\u001b[0;34m\u001b[0m\n\u001b[1;32m      1\u001b[0m \u001b[0mc\u001b[0m\u001b[0;34m,\u001b[0m \u001b[0mmass\u001b[0m\u001b[0;34m,\u001b[0m \u001b[0mdelta_mass\u001b[0m\u001b[0;34m,\u001b[0m \u001b[0mradial\u001b[0m\u001b[0;34m,\u001b[0m \u001b[0mdelta_radial\u001b[0m\u001b[0;34m,\u001b[0m \u001b[0mvertical\u001b[0m\u001b[0;34m,\u001b[0m \u001b[0mdelta_vertical\u001b[0m \u001b[0;34m=\u001b[0m \u001b[0minput_params\u001b[0m\u001b[0;34m[\u001b[0m\u001b[0;36m0\u001b[0m\u001b[0;34m]\u001b[0m\u001b[0;34m\u001b[0m\u001b[0;34m\u001b[0m\u001b[0m\n\u001b[0;32m----> 2\u001b[0;31m \u001b[0mmass\u001b[0m\u001b[0;34m,\u001b[0m \u001b[0mradial\u001b[0m\u001b[0;34m,\u001b[0m \u001b[0mvertical\u001b[0m \u001b[0;34m=\u001b[0m \u001b[0minput_component\u001b[0m\u001b[0;34m(\u001b[0m\u001b[0mc\u001b[0m\u001b[0;34m,\u001b[0m \u001b[0mmass\u001b[0m\u001b[0;34m,\u001b[0m \u001b[0mradial\u001b[0m\u001b[0;34m,\u001b[0m \u001b[0mvertical\u001b[0m\u001b[0;34m)\u001b[0m\u001b[0;34m\u001b[0m\u001b[0;34m\u001b[0m\u001b[0m\n\u001b[0m\u001b[1;32m      3\u001b[0m \u001b[0mprint\u001b[0m\u001b[0;34m(\u001b[0m\u001b[0mmass\u001b[0m\u001b[0;34m,\u001b[0m \u001b[0mradial\u001b[0m\u001b[0;34m,\u001b[0m \u001b[0mvertical\u001b[0m\u001b[0;34m)\u001b[0m\u001b[0;34m\u001b[0m\u001b[0;34m\u001b[0m\u001b[0m\n\u001b[1;32m      4\u001b[0m \u001b[0;34m\u001b[0m\u001b[0m\n\u001b[1;32m      5\u001b[0m \u001b[0mc\u001b[0m\u001b[0;34m,\u001b[0m \u001b[0mmass\u001b[0m\u001b[0;34m,\u001b[0m \u001b[0mdelta_mass\u001b[0m\u001b[0;34m,\u001b[0m \u001b[0mradial\u001b[0m\u001b[0;34m,\u001b[0m \u001b[0mdelta_radial\u001b[0m\u001b[0;34m,\u001b[0m \u001b[0mvertical\u001b[0m\u001b[0;34m,\u001b[0m \u001b[0mdelta_vertical\u001b[0m \u001b[0;34m=\u001b[0m \u001b[0minput_params\u001b[0m\u001b[0;34m[\u001b[0m\u001b[0;36m4\u001b[0m\u001b[0;34m]\u001b[0m\u001b[0;34m\u001b[0m\u001b[0;34m\u001b[0m\u001b[0m\n",
      "\u001b[0;32m<ipython-input-7-8d7181c74884>\u001b[0m in \u001b[0;36minput_component\u001b[0;34m(component, guess_mass, guess_a, guess_b)\u001b[0m\n\u001b[1;32m     24\u001b[0m         \u001b[0mprint\u001b[0m\u001b[0;34m(\u001b[0m\u001b[0;34m'No valid Radial Scale Length for'\u001b[0m\u001b[0;34m,\u001b[0m \u001b[0mcomponent\u001b[0m\u001b[0;34m,\u001b[0m \u001b[0;34m'. It will be taken the default Radial Scale Lenght:'\u001b[0m\u001b[0;34m,\u001b[0m \u001b[0mcomponent_scale_a\u001b[0m\u001b[0;34m,\u001b[0m \u001b[0;34m'kpc'\u001b[0m\u001b[0;34m)\u001b[0m\u001b[0;34m\u001b[0m\u001b[0;34m\u001b[0m\u001b[0m\n\u001b[1;32m     25\u001b[0m \u001b[0;34m\u001b[0m\u001b[0m\n\u001b[0;32m---> 26\u001b[0;31m     \u001b[0;32mif\u001b[0m \u001b[0mcomponent\u001b[0m \u001b[0;32mnot\u001b[0m \u001b[0;32min\u001b[0m \u001b[0;34m[\u001b[0m\u001b[0mComponents_names\u001b[0m\u001b[0;34m.\u001b[0m\u001b[0mExponential_disk\u001b[0m\u001b[0;34m,\u001b[0m \u001b[0mComponents_names\u001b[0m\u001b[0;34m.\u001b[0m\u001b[0mDark_halo\u001b[0m\u001b[0;34m,\u001b[0m \u001b[0mComponents_names\u001b[0m\u001b[0;34m.\u001b[0m\u001b[0mBurkert_halo\u001b[0m\u001b[0;34m]\u001b[0m\u001b[0;34m:\u001b[0m\u001b[0;34m\u001b[0m\u001b[0;34m\u001b[0m\u001b[0m\n\u001b[0m\u001b[1;32m     27\u001b[0m         \u001b[0;32mtry\u001b[0m\u001b[0;34m:\u001b[0m\u001b[0;34m\u001b[0m\u001b[0;34m\u001b[0m\u001b[0m\n\u001b[1;32m     28\u001b[0m             \u001b[0mcomponent_scale_b\u001b[0m \u001b[0;34m=\u001b[0m \u001b[0mfloat\u001b[0m\u001b[0;34m(\u001b[0m\u001b[0minput\u001b[0m\u001b[0;34m(\u001b[0m\u001b[0;34m'Vertical Scale Length (in kpc):'\u001b[0m\u001b[0;34m)\u001b[0m\u001b[0;34m)\u001b[0m\u001b[0;34m\u001b[0m\u001b[0;34m\u001b[0m\u001b[0m\n",
      "\u001b[0;31mNameError\u001b[0m: name 'Components_names' is not defined"
     ]
    }
   ],
   "source": [
    "c, mass, delta_mass, radial, delta_radial, vertical, delta_vertical = input_params[0]\n",
    "mass, radial, vertical = input_component(c, mass, radial, vertical)\n",
    "print(mass, radial, vertical)\n",
    "\n",
    "c, mass, delta_mass, radial, delta_radial, vertical, delta_vertical = input_params[4]\n",
    "mass, radial, vertical = input_component(c, mass, radial, vertical)\n",
    "print(mass, radial, vertical)\n"
   ]
  },
  {
   "cell_type": "code",
   "execution_count": null,
   "metadata": {},
   "outputs": [],
   "source": []
  },
  {
   "cell_type": "code",
   "execution_count": null,
   "metadata": {},
   "outputs": [],
   "source": []
  },
  {
   "cell_type": "code",
   "execution_count": null,
   "metadata": {},
   "outputs": [],
   "source": []
  },
  {
   "cell_type": "code",
   "execution_count": null,
   "metadata": {},
   "outputs": [],
   "source": []
  },
  {
   "cell_type": "code",
   "execution_count": null,
   "metadata": {},
   "outputs": [],
   "source": []
  },
  {
   "cell_type": "code",
   "execution_count": null,
   "metadata": {},
   "outputs": [],
   "source": []
  },
  {
   "cell_type": "code",
   "execution_count": null,
   "metadata": {},
   "outputs": [],
   "source": []
  },
  {
   "cell_type": "code",
   "execution_count": null,
   "metadata": {},
   "outputs": [],
   "source": []
  }
 ],
 "metadata": {
  "kernelspec": {
   "display_name": "Python 3",
   "language": "python",
   "name": "python3"
  },
  "language_info": {
   "codemirror_mode": {
    "name": "ipython",
    "version": 3
   },
   "file_extension": ".py",
   "mimetype": "text/x-python",
   "name": "python",
   "nbconvert_exporter": "python",
   "pygments_lexer": "ipython3",
   "version": "3.7.3"
  }
 },
 "nbformat": 4,
 "nbformat_minor": 4
}
